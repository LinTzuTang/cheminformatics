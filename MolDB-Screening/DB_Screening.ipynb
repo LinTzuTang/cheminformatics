{
 "cells": [
  {
   "cell_type": "markdown",
   "id": "4b1693e5-3301-4887-b47d-0ac8ed9f92bd",
   "metadata": {},
   "source": [
    "<p style=\"color:blue;font-size:60px\" > <b>Molecular Database Screening</b> </p>"
   ]
  },
  {
   "cell_type": "markdown",
   "id": "c2364822-04da-45d3-8db3-5a7ec0abc04e",
   "metadata": {
    "tags": []
   },
   "source": [
    "# General Imports"
   ]
  },
  {
   "cell_type": "code",
   "execution_count": 1,
   "id": "82b77cca-454d-4cf1-a0d7-82ee7117d012",
   "metadata": {
    "tags": []
   },
   "outputs": [
    {
     "name": "stdout",
     "output_type": "stream",
     "text": [
      "RDKit Version:  2023.09.6\n"
     ]
    }
   ],
   "source": [
    "# -- Data & Plotting\n",
    "import numpy as np\n",
    "import pandas as pd\n",
    "import matplotlib.pyplot as plt\n",
    "import seaborn as sns\n",
    "\n",
    "from pathlib import Path\n",
    "\n",
    "# Progress Bar\n",
    "from tqdm import tqdm, tnrange, tqdm_notebook\n",
    "tqdm.pandas()\n",
    "\n",
    "# -- RDKit\n",
    "import rdkit\n",
    "from rdkit import Chem\n",
    "from rdkit.Chem import AllChem, Draw, PandasTools\n",
    "from rdkit.Chem.Draw import IPythonConsole\n",
    "PandasTools.RenderImagesInAllDataFrames()\n",
    "print(\"RDKit Version: \", rdkit.__version__)"
   ]
  },
  {
   "cell_type": "code",
   "execution_count": 2,
   "id": "96415bdf-c3ab-4df1-b640-1387ce7609ec",
   "metadata": {
    "tags": []
   },
   "outputs": [],
   "source": [
    "import warnings\n",
    "warnings.filterwarnings(\"ignore\")"
   ]
  },
  {
   "cell_type": "markdown",
   "id": "7fbc0a65-0f9d-434c-90d7-30fb67d8d722",
   "metadata": {},
   "source": [
    "# Virtual Screening\n",
    "Today, we will see an example of screening a molecular database in search for new potential drug hits.\n",
    "\n",
    "In the first stages of Drug discovery, we are interested in finding a molecule that binds to a target with high affinity (the \"hit\" molecule), which later can be optimized to fine tune many of it's properties. But how to find this first 'needle in the haystack'?\n",
    "\n",
    "Computational approaches can easily design huge number of molecules (billions/trillions/more?) by enumerating virtual libraries. However, \n",
    "- It is likely that only a fraction of such compounds can be synthesized in practice. \n",
    "- The cost for synthesis and storage of such collections is prohibitive.\n",
    "\n",
    "On the other hand, there are pre-existing databases of compounds available:\n",
    "- Pharmaceutical companies already have collections of compounds, synthesized in previous campaigns.\n",
    "- Chemical vendors offer compound collections for immediate purchase.\n",
    "- Some vendors even offer 'make-on-demand' services based on a limited number of reactions and building blocks.\n",
    "\n",
    "The size of the collections available can easily reach billions of compounds!"
   ]
  },
  {
   "cell_type": "markdown",
   "id": "086144fa-9fe8-41c1-8cb5-49ab0ad6d4ac",
   "metadata": {},
   "source": [
    "<div class=\"alert alert-info\" role=\"alert\">\n",
    "    Virtual database screening methods offer a way to prioritize the compounds for testing, greatly reducing the costs in this phase.\n",
    "</div> "
   ]
  },
  {
   "cell_type": "markdown",
   "id": "e39e7861-85e0-4685-bd2f-ffc50b8aefc3",
   "metadata": {
    "tags": []
   },
   "source": [
    "## Methods of Virtual Screening\n",
    "\n",
    "The methods used for virtual screening can be roughly divided into two families:\n",
    "\n",
    "### **Ligand-based**\n",
    "- Requires knowledge of *ligands*\n",
    "- Examples:\n",
    "    - Similarity Search\n",
    "    - Pharmacophore Search\n",
    "\n",
    "![MyGif](media/pharmacophore.gif \"segment\")"
   ]
  },
  {
   "cell_type": "markdown",
   "id": "2d3900d1-ea26-49f7-8ee9-864be2646258",
   "metadata": {},
   "source": [
    "### **Structure-based**\n",
    "- Requires knowledge of *target*\n",
    "- Examples:\n",
    "    - Docking\n",
    "    - Molecular Dynamics\n",
    "    \n",
    "![MyGif](media/docking.gif \"segment\")"
   ]
  },
  {
   "cell_type": "markdown",
   "id": "e3c27656-9af1-4159-8035-db8592c3ed72",
   "metadata": {},
   "source": [
    "Details on those have been covered in previous classes. Let's look at an example."
   ]
  },
  {
   "cell_type": "markdown",
   "id": "952dd5c0-f8be-4cb3-8cf2-db1013cdc8cd",
   "metadata": {},
   "source": [
    "# Docking Example"
   ]
  },
  {
   "cell_type": "code",
   "execution_count": 6,
   "id": "45fd759f-6118-46bb-a5ac-59cf0947ca33",
   "metadata": {
    "tags": []
   },
   "outputs": [],
   "source": [
    "from vina import Vina\n",
    "print(\"Vina Version: \", Vina().cite() )"
   ]
  },
  {
   "cell_type": "markdown",
   "id": "c2950dcc-f67f-4f5c-bf83-910de8b25670",
   "metadata": {},
   "source": [
    "There's a small sample (10 molecules) in the `data/ligands` folder. Here we can use [AutoDock Vina](https://autodock-vina.readthedocs.io/en/latest/index.html) to dock them to a target, and here we are looking for molecules that can bind the WWE domain of human RNF146 ([PDB:3V3L](https://www.rcsb.org/structure/3v3l)).\n",
    "\n",
    "First, lets set some docking parameters:"
   ]
  },
  {
   "cell_type": "code",
   "execution_count": 7,
   "id": "d61f9e7c-752c-45d5-a3f7-55b7a7febf4a",
   "metadata": {
    "tags": []
   },
   "outputs": [],
   "source": [
    "# Control variables\n",
    "EXHAUSTIVENESS     = 8\n",
    "N_POSES            = 5\n",
    "VINA_CPUS          = 4\n",
    "ENERGY_RANGE       = 5.0\n",
    "\n",
    "# -- Grid Definition\n",
    "center_x = 23.266\n",
    "center_y = 56.891\n",
    "center_z = 86.524\n",
    "center = (center_x, center_y, center_z)\n",
    "\n",
    "size_x = 18.0\n",
    "size_y = 18.0\n",
    "size_z = 18.0\n",
    "size = (size_x, size_y, size_z)"
   ]
  },
  {
   "cell_type": "markdown",
   "id": "e4498b6f-60c1-43db-9d31-0e58c0d1c083",
   "metadata": {},
   "source": [
    "The files for docking have already been prepared:"
   ]
  },
  {
   "cell_type": "code",
   "execution_count": 8,
   "id": "58654030-28ca-4e27-870d-6acceb6ec6fd",
   "metadata": {
    "tags": []
   },
   "outputs": [],
   "source": [
    "target_file = \"data/3V3L_A_prepared.pdbqt\"\n",
    "lig_library = Path(\"data/ligands\")\n",
    "ligands = list(str(x) for x in lig_library.glob(\"**/*.pdbqt\"))"
   ]
  },
  {
   "cell_type": "code",
   "execution_count": 9,
   "id": "d0567618-e317-4b83-8702-d72544e56619",
   "metadata": {
    "tags": []
   },
   "outputs": [
    {
     "data": {
      "text/plain": [
       "['data/ligands/Z1001209862-4.pdbqt',\n",
       " 'data/ligands/Z1001209862-1.pdbqt',\n",
       " 'data/ligands/Z1001209862-3.pdbqt',\n",
       " 'data/ligands/Z1001209862-6.pdbqt',\n",
       " 'data/ligands/Z1001056548-1.pdbqt',\n",
       " 'data/ligands/Z1000264452-1.pdbqt',\n",
       " 'data/ligands/Z1001209862-5.pdbqt',\n",
       " 'data/ligands/Z1001262418-1.pdbqt',\n",
       " 'data/ligands/Z1001209862-2.pdbqt',\n",
       " 'data/ligands/Z1001771158-1.pdbqt']"
      ]
     },
     "execution_count": 9,
     "metadata": {},
     "output_type": "execute_result"
    }
   ],
   "source": [
    "ligands"
   ]
  },
  {
   "cell_type": "markdown",
   "id": "0219d711-8b15-4f4f-b837-b3f292862d56",
   "metadata": {},
   "source": [
    "To use Vina, we create a `docker` object:"
   ]
  },
  {
   "cell_type": "code",
   "execution_count": 10,
   "id": "b4f3d89c-128f-44af-9a8e-5b9efe3ddb3f",
   "metadata": {
    "tags": []
   },
   "outputs": [],
   "source": [
    "docker = Vina(sf_name='Vina', cpu=VINA_CPUS, verbosity=0)\n",
    "docker.set_receptor(target_file)"
   ]
  },
  {
   "cell_type": "markdown",
   "id": "c2ab518e-541f-4af1-a457-ea788bb58248",
   "metadata": {},
   "source": [
    "Now we can dock the compounds. You can play with the code below to dock more compounds:"
   ]
  },
  {
   "cell_type": "code",
   "execution_count": 11,
   "id": "0133a17b-f08b-4fe8-867e-71de54e79790",
   "metadata": {
    "tags": []
   },
   "outputs": [
    {
     "name": "stdout",
     "output_type": "stream",
     "text": [
      "Docking ligand:  data/ligands/Z1001209862-4.pdbqt\n",
      "Docking Scores:\n",
      "  [ total  inter  intra  torns -ibest]\n",
      "0 [-6.525 -8.051 -0.532  1.526 -0.532]\n",
      "1 [-6.083 -7.707 -0.33   1.422 -0.532]\n",
      "2 [-6.018 -7.341 -0.616  1.407 -0.532]\n",
      "3 [-5.994 -7.314 -0.613  1.402 -0.532]\n",
      "4 [-5.376 -6.609 -0.556  1.257 -0.532]\n",
      "********************************************************************************\n",
      "CPU times: user 33.4 s, sys: 125 ms, total: 33.5 s\n",
      "Wall time: 10.3 s\n"
     ]
    }
   ],
   "source": [
    "%%time\n",
    "docking_scores = []\n",
    "N_TO_DOCK = 1 # Max 10, which is what we have.\n",
    "for ligand in ligands[:N_TO_DOCK]:\n",
    "    print(\"Docking ligand: \", ligand, flush=True)\n",
    "    docker.set_ligand_from_file(ligand)\n",
    "    docker.compute_vina_maps(center, size)\n",
    "    docker.dock(exhaustiveness=EXHAUSTIVENESS, n_poses=N_POSES)\n",
    "    print(\"Docking Scores:\\n  [ total  inter  intra  torns -ibest]\", )\n",
    "    for pose, energy in enumerate(docker.energies(n_poses=N_POSES)):\n",
    "        print(pose, energy)\n",
    "    docking_scores.append(docker.energies(n_poses=1)[0][0])\n",
    "    print(\"*\"*80)"
   ]
  },
  {
   "cell_type": "markdown",
   "id": "930c24fe-a537-473c-ab37-1763c52be13b",
   "metadata": {},
   "source": [
    "All energies are in kcal/mol. The final binding energy (Vina Score) is calculated as the sum of the energy components:\n",
    "$$\n",
    "E_t = E_{inter} + E_{intra} + E_{tors} - E_{intra-best}\n",
    "$$\n",
    "\n",
    "Look at all the docking energies obtained (depends on how many molecules you docked):"
   ]
  },
  {
   "cell_type": "code",
   "execution_count": 12,
   "id": "14f20bf7-6675-48f5-9c8d-3206811977d2",
   "metadata": {
    "tags": []
   },
   "outputs": [
    {
     "data": {
      "text/plain": [
       "[-6.525]"
      ]
     },
     "execution_count": 12,
     "metadata": {},
     "output_type": "execute_result"
    }
   ],
   "source": [
    "docking_scores"
   ]
  },
  {
   "cell_type": "markdown",
   "id": "5e18a65d-314f-4e74-b05d-6dd48d990809",
   "metadata": {
    "tags": []
   },
   "source": [
    "<div class=\"alert alert-info\" role=\"alert\">\n",
    "    <b>About timings</b> <br>\n",
    "    Here, with 4 processors dedicated to the docking, you are probably getting something ~10s/molecule. With parallel process, it is possible to reduce this number to ~4s/molecule or even more if using GPU-based implementations.\n",
    "</div> "
   ]
  },
  {
   "cell_type": "markdown",
   "id": "6340a16f-6883-41fd-a349-c91e58b9578f",
   "metadata": {
    "tags": []
   },
   "source": [
    "# Some Molecular Databases"
   ]
  },
  {
   "cell_type": "code",
   "execution_count": 13,
   "id": "db4aa5fa-26f7-46ac-913d-443cf9f2516d",
   "metadata": {
    "tags": []
   },
   "outputs": [
    {
     "data": {
      "text/html": [
       "<div>\n",
       "<style scoped>\n",
       "    .dataframe tbody tr th:only-of-type {\n",
       "        vertical-align: middle;\n",
       "    }\n",
       "\n",
       "    .dataframe tbody tr th {\n",
       "        vertical-align: top;\n",
       "    }\n",
       "\n",
       "    .dataframe thead th {\n",
       "        text-align: right;\n",
       "    }\n",
       "</style>\n",
       "<table border=\"1\" class=\"dataframe\">\n",
       "  <thead>\n",
       "    <tr style=\"text-align: right;\">\n",
       "      <th></th>\n",
       "      <th>Name</th>\n",
       "      <th>Description</th>\n",
       "      <th># cpds</th>\n",
       "      <th>days @10s/cpd</th>\n",
       "      <th>years</th>\n",
       "    </tr>\n",
       "  </thead>\n",
       "  <tbody>\n",
       "    <tr>\n",
       "      <th>0</th>\n",
       "      <td>Tocris_Max</td>\n",
       "      <td>A library of 1280 biologically active compound...</td>\n",
       "      <td>1.280000e+03</td>\n",
       "      <td>0.15</td>\n",
       "      <td>0.00</td>\n",
       "    </tr>\n",
       "    <tr>\n",
       "      <th>1</th>\n",
       "      <td>Lopac1280</td>\n",
       "      <td>biologically annotated collection of inhibitor...</td>\n",
       "      <td>1.280000e+03</td>\n",
       "      <td>0.15</td>\n",
       "      <td>0.00</td>\n",
       "    </tr>\n",
       "    <tr>\n",
       "      <th>2</th>\n",
       "      <td>Prestwick Chemical Library</td>\n",
       "      <td>A unique collection of 1520 small molecules, 9...</td>\n",
       "      <td>1.520000e+03</td>\n",
       "      <td>0.18</td>\n",
       "      <td>0.00</td>\n",
       "    </tr>\n",
       "    <tr>\n",
       "      <th>3</th>\n",
       "      <td>ZINClick Diversity</td>\n",
       "      <td>ZINClick is a virtual combinatorial database o...</td>\n",
       "      <td>2.500000e+03</td>\n",
       "      <td>0.29</td>\n",
       "      <td>0.00</td>\n",
       "    </tr>\n",
       "    <tr>\n",
       "      <th>4</th>\n",
       "      <td>Otava PrimScreen10</td>\n",
       "      <td>OTAVA’s Diversity Library comprises the most m...</td>\n",
       "      <td>1.000000e+04</td>\n",
       "      <td>1.16</td>\n",
       "      <td>0.00</td>\n",
       "    </tr>\n",
       "    <tr>\n",
       "      <th>5</th>\n",
       "      <td>DrugBank 5-1-8</td>\n",
       "      <td>Database of Approved, experimental, nutraceuti...</td>\n",
       "      <td>1.117400e+04</td>\n",
       "      <td>1.29</td>\n",
       "      <td>0.00</td>\n",
       "    </tr>\n",
       "    <tr>\n",
       "      <th>6</th>\n",
       "      <td>TimTec ActiProbe 25k</td>\n",
       "      <td>Assembled from ActiGlobe set (unavailable for ...</td>\n",
       "      <td>2.500000e+04</td>\n",
       "      <td>2.89</td>\n",
       "      <td>0.01</td>\n",
       "    </tr>\n",
       "    <tr>\n",
       "      <th>7</th>\n",
       "      <td>ChemSpace Lead Like 25k</td>\n",
       "      <td>Selected diversity set from the in-stock lead-...</td>\n",
       "      <td>2.500000e+04</td>\n",
       "      <td>2.89</td>\n",
       "      <td>0.01</td>\n",
       "    </tr>\n",
       "    <tr>\n",
       "      <th>8</th>\n",
       "      <td>TimTec ActiGlobe</td>\n",
       "      <td>Full TimTec Actiglobe collection</td>\n",
       "      <td>5.000000e+04</td>\n",
       "      <td>5.79</td>\n",
       "      <td>0.02</td>\n",
       "    </tr>\n",
       "    <tr>\n",
       "      <th>9</th>\n",
       "      <td>ChemBridge DiverSet-CL</td>\n",
       "      <td>Compounds were selected from ChemBridge’s CORE...</td>\n",
       "      <td>9.752000e+04</td>\n",
       "      <td>11.28</td>\n",
       "      <td>0.03</td>\n",
       "    </tr>\n",
       "    <tr>\n",
       "      <th>10</th>\n",
       "      <td>ChemBridge DiverSet-EXP</td>\n",
       "      <td>DIVERSet-EXP Library compounds. Compounds wer...</td>\n",
       "      <td>1.000000e+05</td>\n",
       "      <td>11.57</td>\n",
       "      <td>0.03</td>\n",
       "    </tr>\n",
       "    <tr>\n",
       "      <th>11</th>\n",
       "      <td>ChemDiv Representative Diversity Libraries</td>\n",
       "      <td>Custom made diverse sets of : 50,000 compounds...</td>\n",
       "      <td>1.500000e+05</td>\n",
       "      <td>17.36</td>\n",
       "      <td>0.05</td>\n",
       "    </tr>\n",
       "    <tr>\n",
       "      <th>12</th>\n",
       "      <td>ChemDiv Bemis-Murcko Diverse 300k</td>\n",
       "      <td>300k diverse selection from ChemDiv 1.6M stock...</td>\n",
       "      <td>3.000000e+05</td>\n",
       "      <td>34.71</td>\n",
       "      <td>0.10</td>\n",
       "    </tr>\n",
       "    <tr>\n",
       "      <th>13</th>\n",
       "      <td>ZINClick 10%</td>\n",
       "      <td>A selection of 10% of the molecules from the f...</td>\n",
       "      <td>1.690778e+06</td>\n",
       "      <td>195.62</td>\n",
       "      <td>0.54</td>\n",
       "    </tr>\n",
       "    <tr>\n",
       "      <th>14</th>\n",
       "      <td>ZINClick V18</td>\n",
       "      <td>The full collection from ZINClick.</td>\n",
       "      <td>1.690778e+07</td>\n",
       "      <td>1956.23</td>\n",
       "      <td>5.36</td>\n",
       "    </tr>\n",
       "    <tr>\n",
       "      <th>15</th>\n",
       "      <td>Mcule Full</td>\n",
       "      <td>Purchasable Mcule supplier &amp; ULTIMATE catalogs</td>\n",
       "      <td>4.218934e+07</td>\n",
       "      <td>4881.31</td>\n",
       "      <td>13.38</td>\n",
       "    </tr>\n",
       "    <tr>\n",
       "      <th>16</th>\n",
       "      <td>WuXi GalaXi</td>\n",
       "      <td>Virtual Library for Screening from WuXi</td>\n",
       "      <td>2.300000e+09</td>\n",
       "      <td>266110.00</td>\n",
       "      <td>729.33</td>\n",
       "    </tr>\n",
       "    <tr>\n",
       "      <th>17</th>\n",
       "      <td>Enamine REAL Database</td>\n",
       "      <td>A Sample of the Enamine REAL Space</td>\n",
       "      <td>6.750000e+09</td>\n",
       "      <td>780975.00</td>\n",
       "      <td>2140.43</td>\n",
       "    </tr>\n",
       "  </tbody>\n",
       "</table>\n",
       "</div>"
      ],
      "text/plain": [
       "                                          Name  \\\n",
       "0                                   Tocris_Max   \n",
       "1                                    Lopac1280   \n",
       "2                   Prestwick Chemical Library   \n",
       "3                           ZINClick Diversity   \n",
       "4                           Otava PrimScreen10   \n",
       "5                               DrugBank 5-1-8   \n",
       "6                         TimTec ActiProbe 25k   \n",
       "7                      ChemSpace Lead Like 25k   \n",
       "8                             TimTec ActiGlobe   \n",
       "9                       ChemBridge DiverSet-CL   \n",
       "10                     ChemBridge DiverSet-EXP   \n",
       "11  ChemDiv Representative Diversity Libraries   \n",
       "12           ChemDiv Bemis-Murcko Diverse 300k   \n",
       "13                                ZINClick 10%   \n",
       "14                                ZINClick V18   \n",
       "15                                  Mcule Full   \n",
       "16                                 WuXi GalaXi   \n",
       "17                       Enamine REAL Database   \n",
       "\n",
       "                                          Description        # cpds  \\\n",
       "0   A library of 1280 biologically active compound...  1.280000e+03   \n",
       "1   biologically annotated collection of inhibitor...  1.280000e+03   \n",
       "2   A unique collection of 1520 small molecules, 9...  1.520000e+03   \n",
       "3   ZINClick is a virtual combinatorial database o...  2.500000e+03   \n",
       "4   OTAVA’s Diversity Library comprises the most m...  1.000000e+04   \n",
       "5   Database of Approved, experimental, nutraceuti...  1.117400e+04   \n",
       "6   Assembled from ActiGlobe set (unavailable for ...  2.500000e+04   \n",
       "7   Selected diversity set from the in-stock lead-...  2.500000e+04   \n",
       "8                    Full TimTec Actiglobe collection  5.000000e+04   \n",
       "9   Compounds were selected from ChemBridge’s CORE...  9.752000e+04   \n",
       "10   DIVERSet-EXP Library compounds. Compounds wer...  1.000000e+05   \n",
       "11  Custom made diverse sets of : 50,000 compounds...  1.500000e+05   \n",
       "12  300k diverse selection from ChemDiv 1.6M stock...  3.000000e+05   \n",
       "13  A selection of 10% of the molecules from the f...  1.690778e+06   \n",
       "14                 The full collection from ZINClick.  1.690778e+07   \n",
       "15     Purchasable Mcule supplier & ULTIMATE catalogs  4.218934e+07   \n",
       "16            Virtual Library for Screening from WuXi  2.300000e+09   \n",
       "17                 A Sample of the Enamine REAL Space  6.750000e+09   \n",
       "\n",
       "    days @10s/cpd    years  \n",
       "0            0.15     0.00  \n",
       "1            0.15     0.00  \n",
       "2            0.18     0.00  \n",
       "3            0.29     0.00  \n",
       "4            1.16     0.00  \n",
       "5            1.29     0.00  \n",
       "6            2.89     0.01  \n",
       "7            2.89     0.01  \n",
       "8            5.79     0.02  \n",
       "9           11.28     0.03  \n",
       "10          11.57     0.03  \n",
       "11          17.36     0.05  \n",
       "12          34.71     0.10  \n",
       "13         195.62     0.54  \n",
       "14        1956.23     5.36  \n",
       "15        4881.31    13.38  \n",
       "16      266110.00   729.33  \n",
       "17      780975.00  2140.43  "
      ]
     },
     "execution_count": 13,
     "metadata": {},
     "output_type": "execute_result"
    }
   ],
   "source": [
    "libs = pd.read_csv('data/Libraries.csv')#.sort_values(by='# cpds')\n",
    "libs"
   ]
  },
  {
   "cell_type": "markdown",
   "id": "b716aaeb-5287-4937-8548-0d298f479a9d",
   "metadata": {},
   "source": [
    "# Accelerating Screening with ML"
   ]
  },
  {
   "cell_type": "markdown",
   "id": "35e2c9d6-876e-4cb9-a14a-54e86bbdf0f1",
   "metadata": {},
   "source": [
    "We will try to accelerate the process using machine-learning. For this purpose, we have a database of ~200k compounds that we want to screen against the same target. The general process is like:\n",
    "\n",
    "![process](media/screening_process.png)"
   ]
  },
  {
   "cell_type": "markdown",
   "id": "cc85b59d-6acc-4579-b86a-01cf30aa44fb",
   "metadata": {},
   "source": [
    "<div class=\"alert alert-info\" role=\"alert\">\n",
    "    <b>To Speed Up the Class</b> <br>\n",
    "    Instead of actually docking the compounds, we already provide the docking energies here, so we can skip the orange boxes. In a real project, you would need to dock the selected compounds.\n",
    "</div> "
   ]
  },
  {
   "cell_type": "code",
   "execution_count": 14,
   "id": "782f92c4-10b6-47a6-a96e-e83c21ba1480",
   "metadata": {
    "tags": []
   },
   "outputs": [
    {
     "data": {
      "text/html": [
       "<div>\n",
       "<style scoped>\n",
       "    .dataframe tbody tr th:only-of-type {\n",
       "        vertical-align: middle;\n",
       "    }\n",
       "\n",
       "    .dataframe tbody tr th {\n",
       "        vertical-align: top;\n",
       "    }\n",
       "\n",
       "    .dataframe thead th {\n",
       "        text-align: right;\n",
       "    }\n",
       "</style>\n",
       "<table border=\"1\" class=\"dataframe\">\n",
       "  <thead>\n",
       "    <tr style=\"text-align: right;\">\n",
       "      <th></th>\n",
       "      <th>MoleculeID</th>\n",
       "      <th>Scores</th>\n",
       "      <th>SMILES</th>\n",
       "      <th>RDKit</th>\n",
       "    </tr>\n",
       "  </thead>\n",
       "  <tbody>\n",
       "    <tr>\n",
       "      <th>211472</th>\n",
       "      <td>Z1956747141</td>\n",
       "      <td>-5.778</td>\n",
       "      <td>CC(C)c1nn(C)cc1NS(=O)(=O)c1cn(C)cn1</td>\n",
       "      <td>[1, 1, 1, 1, 0, 1, 0, 1, 0, 0, 0, 0, 1, 0, 0, ...</td>\n",
       "    </tr>\n",
       "    <tr>\n",
       "      <th>183907</th>\n",
       "      <td>Z1725736029</td>\n",
       "      <td>-6.269</td>\n",
       "      <td>CC(C)C1(C)CC1C(=O)N1CCN(C(=O)CN2CCOCC2)CC1</td>\n",
       "      <td>[0, 0, 0, 1, 0, 0, 0, 1, 0, 0, 0, 0, 0, 1, 0, ...</td>\n",
       "    </tr>\n",
       "    <tr>\n",
       "      <th>24173</th>\n",
       "      <td>Z367741100</td>\n",
       "      <td>-7.884</td>\n",
       "      <td>COc1ccc(Cl)cc1C(=O)N1CCCC1C(=O)Nc1cc(C)ccc1C</td>\n",
       "      <td>[0, 1, 1, 0, 0, 0, 0, 0, 1, 0, 1, 1, 0, 1, 0, ...</td>\n",
       "    </tr>\n",
       "    <tr>\n",
       "      <th>184037</th>\n",
       "      <td>Z1133002253</td>\n",
       "      <td>-6.267</td>\n",
       "      <td>Cc1cc(C)c(CNC(=O)N2CCC(N3CCCC3=O)CC2)c(C)c1</td>\n",
       "      <td>[0, 0, 1, 0, 1, 1, 0, 0, 0, 0, 1, 0, 0, 0, 0, ...</td>\n",
       "    </tr>\n",
       "    <tr>\n",
       "      <th>159643</th>\n",
       "      <td>Z26710835</td>\n",
       "      <td>-6.533</td>\n",
       "      <td>COc1ccccc1CNC(=O)CCCc1nc2ccccc2s1</td>\n",
       "      <td>[1, 0, 0, 0, 1, 1, 0, 0, 0, 0, 1, 0, 0, 0, 0, ...</td>\n",
       "    </tr>\n",
       "  </tbody>\n",
       "</table>\n",
       "</div>"
      ],
      "text/plain": [
       "         MoleculeID  Scores                                        SMILES  \\\n",
       "211472  Z1956747141  -5.778           CC(C)c1nn(C)cc1NS(=O)(=O)c1cn(C)cn1   \n",
       "183907  Z1725736029  -6.269    CC(C)C1(C)CC1C(=O)N1CCN(C(=O)CN2CCOCC2)CC1   \n",
       "24173    Z367741100  -7.884  COc1ccc(Cl)cc1C(=O)N1CCCC1C(=O)Nc1cc(C)ccc1C   \n",
       "184037  Z1133002253  -6.267   Cc1cc(C)c(CNC(=O)N2CCC(N3CCCC3=O)CC2)c(C)c1   \n",
       "159643    Z26710835  -6.533             COc1ccccc1CNC(=O)CCCc1nc2ccccc2s1   \n",
       "\n",
       "                                                    RDKit  \n",
       "211472  [1, 1, 1, 1, 0, 1, 0, 1, 0, 0, 0, 0, 1, 0, 0, ...  \n",
       "183907  [0, 0, 0, 1, 0, 0, 0, 1, 0, 0, 0, 0, 0, 1, 0, ...  \n",
       "24173   [0, 1, 1, 0, 0, 0, 0, 0, 1, 0, 1, 1, 0, 1, 0, ...  \n",
       "184037  [0, 0, 1, 0, 1, 1, 0, 0, 0, 0, 1, 0, 0, 0, 0, ...  \n",
       "159643  [1, 0, 0, 0, 1, 1, 0, 0, 0, 0, 1, 0, 0, 0, 0, ...  "
      ]
     },
     "execution_count": 14,
     "metadata": {},
     "output_type": "execute_result"
    }
   ],
   "source": [
    "database = pd.read_pickle('/blue/pha6935/share/data/database.pkl.bz2')\n",
    "database.sample(5)"
   ]
  },
  {
   "cell_type": "code",
   "execution_count": 15,
   "id": "984a2f9e-8497-4451-bcb5-c3790233fa6c",
   "metadata": {
    "tags": []
   },
   "outputs": [
    {
     "data": {
      "text/plain": [
       "(221504, 4)"
      ]
     },
     "execution_count": 15,
     "metadata": {},
     "output_type": "execute_result"
    }
   ],
   "source": [
    "database.shape"
   ]
  },
  {
   "cell_type": "markdown",
   "id": "bc1e653e-4ab4-41ba-822e-8cf4df1572f6",
   "metadata": {},
   "source": [
    "The database contains 221,504 molecules, and would take ~25 days to scan at 10s/compound. Let's look at the data:"
   ]
  },
  {
   "cell_type": "code",
   "execution_count": 16,
   "id": "5c0c43fd-556d-4e4d-9c03-81145900d5be",
   "metadata": {
    "tags": []
   },
   "outputs": [
    {
     "data": {
      "image/png": "[encoded data removed]",
      "text/plain": [
       "<Figure size 640x480 with 1 Axes>"
      ]
     },
     "metadata": {},
     "output_type": "display_data"
    }
   ],
   "source": [
    "sns.histplot(data=database, x='Scores', kde=True);"
   ]
  },
  {
   "cell_type": "code",
   "execution_count": 17,
   "id": "2d5ae7e2-af5c-46b1-8171-679df93a9584",
   "metadata": {
    "tags": []
   },
   "outputs": [
    {
     "data": {
      "text/plain": [
       "66"
      ]
     },
     "execution_count": 17,
     "metadata": {},
     "output_type": "execute_result"
    }
   ],
   "source": [
    "(database.Scores > 0).sum()"
   ]
  },
  {
   "cell_type": "markdown",
   "id": "e117bdb2-8bd1-4c26-b965-f879fa8bfc78",
   "metadata": {},
   "source": [
    "This is real data, and some molecules just don't fit the pocket, leading to positive(!) binding energies. We can remove those examples fro the dataset:"
   ]
  },
  {
   "cell_type": "code",
   "execution_count": 18,
   "id": "6a9d582a-1846-47f6-884d-489cdea54788",
   "metadata": {
    "tags": []
   },
   "outputs": [],
   "source": [
    "database = database.drop(database[ database.Scores > 0 ].index)"
   ]
  },
  {
   "cell_type": "code",
   "execution_count": 19,
   "id": "908a338e-456c-4db9-af7e-0468aa21b517",
   "metadata": {
    "tags": []
   },
   "outputs": [
    {
     "data": {
      "image/png": "[encoded data removed]",
      "text/plain": [
       "<Figure size 640x480 with 1 Axes>"
      ]
     },
     "metadata": {},
     "output_type": "display_data"
    }
   ],
   "source": [
    "sns.histplot(data=database, x='Scores', kde=True);"
   ]
  },
  {
   "cell_type": "markdown",
   "id": "9a7f25ab-d196-44c3-a89d-c30f694f4fc6",
   "metadata": {
    "tags": []
   },
   "source": [
    "Better now."
   ]
  },
  {
   "cell_type": "code",
   "execution_count": 23,
   "id": "14a4d2c8-8d7b-4c52-9c27-c6d6b4cc1012",
   "metadata": {
    "tags": []
   },
   "outputs": [
    {
     "data": {
      "text/html": [
       "<div>\n",
       "<style scoped>\n",
       "    .dataframe tbody tr th:only-of-type {\n",
       "        vertical-align: middle;\n",
       "    }\n",
       "\n",
       "    .dataframe tbody tr th {\n",
       "        vertical-align: top;\n",
       "    }\n",
       "\n",
       "    .dataframe thead th {\n",
       "        text-align: right;\n",
       "    }\n",
       "</style>\n",
       "<table border=\"1\" class=\"dataframe\">\n",
       "  <thead>\n",
       "    <tr style=\"text-align: right;\">\n",
       "      <th></th>\n",
       "      <th>Scores</th>\n",
       "    </tr>\n",
       "  </thead>\n",
       "  <tbody>\n",
       "    <tr>\n",
       "      <th>count</th>\n",
       "      <td>221438.000000</td>\n",
       "    </tr>\n",
       "    <tr>\n",
       "      <th>mean</th>\n",
       "      <td>-6.975614</td>\n",
       "    </tr>\n",
       "    <tr>\n",
       "      <th>std</th>\n",
       "      <td>0.726020</td>\n",
       "    </tr>\n",
       "    <tr>\n",
       "      <th>min</th>\n",
       "      <td>-10.875000</td>\n",
       "    </tr>\n",
       "    <tr>\n",
       "      <th>25%</th>\n",
       "      <td>-7.465750</td>\n",
       "    </tr>\n",
       "    <tr>\n",
       "      <th>50%</th>\n",
       "      <td>-6.962000</td>\n",
       "    </tr>\n",
       "    <tr>\n",
       "      <th>75%</th>\n",
       "      <td>-6.470000</td>\n",
       "    </tr>\n",
       "    <tr>\n",
       "      <th>max</th>\n",
       "      <td>-0.244000</td>\n",
       "    </tr>\n",
       "  </tbody>\n",
       "</table>\n",
       "</div>"
      ],
      "text/plain": [
       "              Scores\n",
       "count  221438.000000\n",
       "mean       -6.975614\n",
       "std         0.726020\n",
       "min       -10.875000\n",
       "25%        -7.465750\n",
       "50%        -6.962000\n",
       "75%        -6.470000\n",
       "max        -0.244000"
      ]
     },
     "execution_count": 23,
     "metadata": {},
     "output_type": "execute_result"
    }
   ],
   "source": [
    "database.describe()"
   ]
  },
  {
   "cell_type": "markdown",
   "id": "5a4d3e90-3f84-4826-9add-4fbeec92c98b",
   "metadata": {},
   "source": [
    "# Random Selection of 10K molecules\n",
    "Remember, in principle you don't have the docking scores. So, we first make a random selection of molecules to dock and use the results to create a model."
   ]
  },
  {
   "cell_type": "code",
   "execution_count": 24,
   "id": "dfaf4f7b-e2de-4b67-80e0-f982405a3a13",
   "metadata": {
    "tags": []
   },
   "outputs": [],
   "source": [
    "N_SAMPLE = 10_000 # you can play with this to see if you can get a better model"
   ]
  },
  {
   "cell_type": "code",
   "execution_count": 25,
   "id": "d179ec34-4f82-4bc7-bd18-81ab95c55d23",
   "metadata": {
    "tags": []
   },
   "outputs": [],
   "source": [
    "random_sel = database.sample(N_SAMPLE, random_state=42, ignore_index=True)"
   ]
  },
  {
   "cell_type": "markdown",
   "id": "05c3cd11-a77c-4efe-a672-1da16efb6b7e",
   "metadata": {},
   "source": [
    "Look at the selection. It should follow approximately the same distribution as the full database."
   ]
  },
  {
   "cell_type": "code",
   "execution_count": 26,
   "id": "ecac3b82-281d-4561-8cbc-57306fa8ba8a",
   "metadata": {
    "tags": []
   },
   "outputs": [
    {
     "data": {
      "image/png": "[encoded data removed]",
      "text/plain": [
       "<Figure size 640x480 with 1 Axes>"
      ]
     },
     "metadata": {},
     "output_type": "display_data"
    }
   ],
   "source": [
    "sns.histplot(data=database,   x='Scores', kde=True, label=\"Full Database\");\n",
    "sns.histplot(data=random_sel, x='Scores', kde=True, label=\"Random Sample\");\n",
    "plt.legend();"
   ]
  },
  {
   "cell_type": "markdown",
   "id": "a49ea05d-2bb0-497a-b04a-5f740496a307",
   "metadata": {},
   "source": [
    "# Models from random sample\n",
    "Now, let's create a couple of models. You can try other models later!"
   ]
  },
  {
   "cell_type": "code",
   "execution_count": 27,
   "id": "b2fbb40a-3d3a-4187-8b1c-4bbb9f4825de",
   "metadata": {
    "tags": []
   },
   "outputs": [],
   "source": [
    "from sklearn import metrics\n",
    "from sklearn.model_selection import train_test_split\n",
    "from sklearn.ensemble import RandomForestClassifier, RandomForestRegressor"
   ]
  },
  {
   "cell_type": "code",
   "execution_count": 28,
   "id": "0cfa6697-6994-4ec7-a70a-02347f7ac4fc",
   "metadata": {
    "tags": []
   },
   "outputs": [],
   "source": [
    "X, y = random_sel.RDKit.values.tolist(), random_sel.Scores.values.tolist()"
   ]
  },
  {
   "cell_type": "markdown",
   "id": "08cd62a2-5a7c-4c97-868d-0fcaf7b87c3c",
   "metadata": {},
   "source": [
    "## Random Forest Classifier"
   ]
  },
  {
   "cell_type": "markdown",
   "id": "df3bb880-4159-401b-ad0d-ece6fc5f612c",
   "metadata": {},
   "source": [
    "For a classifier, we need to make the data categorical. The threshold is arbitrary, and may change depending on the project. Here, we just set it so 30% of the molecules are considered \"active\"."
   ]
  },
  {
   "cell_type": "code",
   "execution_count": 29,
   "id": "c99069c4-4684-437f-8a8e-cab91b3a7f89",
   "metadata": {
    "tags": []
   },
   "outputs": [
    {
     "name": "stdout",
     "output_type": "stream",
     "text": [
      "Threshold score:  -7.35\n",
      "Negative samples:  7,000 (70.00%)\n",
      "Positive samples:  3,000 (30.00%)\n",
      "  Total ------ -> 10,000\n"
     ]
    }
   ],
   "source": [
    "# Make categorical data\n",
    "# This is an arbitrary threshold, and will vary by project\n",
    "threshold = np.percentile(y,30)\n",
    "y_cls = [ score < threshold for score in y]\n",
    "\n",
    "print(f\"Threshold score:  {threshold:.2f}\")\n",
    "print(f\"Negative samples: {len(y_cls) - np.sum(y_cls):6,} ({(len(y_cls) -  np.sum(y_cls))/len(y_cls):.2%})\")\n",
    "print(f\"Positive samples: {np.sum(y_cls):6,} ({(np.sum(y_cls))/len(y_cls):.2%})\")\n",
    "print(f\"  Total ------ -> {len(y_cls):6,}\")"
   ]
  },
  {
   "cell_type": "markdown",
   "id": "999a9a97-d832-462c-ae16-0a03dd36ae9b",
   "metadata": {},
   "source": [
    "We have plenty of molecules, lets save 20% for testing and create the model with 80%."
   ]
  },
  {
   "cell_type": "code",
   "execution_count": 31,
   "id": "5ec930a7-5c87-45d6-a726-c884caef02e1",
   "metadata": {
    "tags": []
   },
   "outputs": [],
   "source": [
    "X_train_cls, X_test_cls, y_train_cls, y_test_cls = train_test_split(X, y_cls, \n",
    "                                                                    test_size = 0.20,\n",
    "                                                                    random_state=42,\n",
    "                                                                    shuffle=True,\n",
    "                                                                    stratify=y_cls)"
   ]
  },
  {
   "cell_type": "code",
   "execution_count": 32,
   "id": "ed4bde05-f6f8-43cd-ab79-fd6a9a08f5d7",
   "metadata": {
    "tags": []
   },
   "outputs": [
    {
     "name": "stdout",
     "output_type": "stream",
     "text": [
      "Training set:\n",
      "  Negative samples:  5,600 (70.00%)\n",
      "  Positive samples:  2,400 (30.00%)\n",
      "  Total ---------->  8,000\n",
      "\n",
      "Testing set:\n",
      "  Negative samples:  1,400 (70.00%)\n",
      "  Positive samples:    600 (30.00%)\n",
      "  Total ---------->  2,000\n"
     ]
    }
   ],
   "source": [
    "print(\"Training set:\")\n",
    "print(f\"  Negative samples: {len(y_train_cls) - np.sum(y_train_cls):6,} ({(len(y_train_cls) -  np.sum(y_train_cls))/len(y_train_cls):.2%})\")\n",
    "print(f\"  Positive samples: {np.sum(y_train_cls):6,} ({(np.sum(y_train_cls))/len(y_train_cls):.2%})\")\n",
    "print(f\"  Total ----------> {len(y_train_cls):6,}\")\n",
    "print(\"\\nTesting set:\")\n",
    "print(f\"  Negative samples: {len(y_test_cls) - np.sum(y_test_cls):6,} ({(len(y_test_cls) -  np.sum(y_test_cls))/len(y_test_cls):.2%})\")\n",
    "print(f\"  Positive samples: {np.sum(y_test_cls):6,} ({(np.sum(y_test_cls))/len(y_test_cls):.2%})\")\n",
    "print(f\"  Total ----------> {len(y_test_cls):6,}\")"
   ]
  },
  {
   "cell_type": "markdown",
   "id": "bcfa4792-2570-46c8-a253-a928b47e526a",
   "metadata": {},
   "source": [
    "Now we can train our classifier"
   ]
  },
  {
   "cell_type": "code",
   "execution_count": 33,
   "id": "d8ad77f5-2998-46c7-bcc8-560c6fb6466f",
   "metadata": {
    "tags": []
   },
   "outputs": [],
   "source": [
    "clf = RandomForestClassifier(random_state=42, verbose=1)"
   ]
  },
  {
   "cell_type": "code",
   "execution_count": 34,
   "id": "c1cd23a7-a922-41e2-94e5-fdfe69855574",
   "metadata": {
    "tags": []
   },
   "outputs": [
    {
     "name": "stderr",
     "output_type": "stream",
     "text": [
      "[Parallel(n_jobs=1)]: Done  49 tasks      | elapsed:    2.9s\n"
     ]
    },
    {
     "name": "stdout",
     "output_type": "stream",
     "text": [
      "CPU times: user 5.85 s, sys: 4.98 ms, total: 5.86 s\n",
      "Wall time: 5.97 s\n"
     ]
    },
    {
     "data": {
      "text/html": [
       "<style>#sk-container-id-1 {\n",
       "  /* Definition of color scheme common for light and dark mode */\n",
       "  --sklearn-color-text: black;\n",
       "  --sklearn-color-line: gray;\n",
       "  /* Definition of color scheme for unfitted estimators */\n",
       "  --sklearn-color-unfitted-level-0: #fff5e6;\n",
       "  --sklearn-color-unfitted-level-1: #f6e4d2;\n",
       "  --sklearn-color-unfitted-level-2: #ffe0b3;\n",
       "  --sklearn-color-unfitted-level-3: chocolate;\n",
       "  /* Definition of color scheme for fitted estimators */\n",
       "  --sklearn-color-fitted-level-0: #f0f8ff;\n",
       "  --sklearn-color-fitted-level-1: #d4ebff;\n",
       "  --sklearn-color-fitted-level-2: #b3dbfd;\n",
       "  --sklearn-color-fitted-level-3: cornflowerblue;\n",
       "\n",
       "  /* Specific color for light theme */\n",
       "  --sklearn-color-text-on-default-background: var(--sg-text-color, var(--theme-code-foreground, var(--jp-content-font-color1, black)));\n",
       "  --sklearn-color-background: var(--sg-background-color, var(--theme-background, var(--jp-layout-color0, white)));\n",
       "  --sklearn-color-border-box: var(--sg-text-color, var(--theme-code-foreground, var(--jp-content-font-color1, black)));\n",
       "  --sklearn-color-icon: #696969;\n",
       "\n",
       "  @media (prefers-color-scheme: dark) {\n",
       "    /* Redefinition of color scheme for dark theme */\n",
       "    --sklearn-color-text-on-default-background: var(--sg-text-color, var(--theme-code-foreground, var(--jp-content-font-color1, white)));\n",
       "    --sklearn-color-background: var(--sg-background-color, var(--theme-background, var(--jp-layout-color0, #111)));\n",
       "    --sklearn-color-border-box: var(--sg-text-color, var(--theme-code-foreground, var(--jp-content-font-color1, white)));\n",
       "    --sklearn-color-icon: #878787;\n",
       "  }\n",
       "}\n",
       "\n",
       "#sk-container-id-1 {\n",
       "  color: var(--sklearn-color-text);\n",
       "}\n",
       "\n",
       "#sk-container-id-1 pre {\n",
       "  padding: 0;\n",
       "}\n",
       "\n",
       "#sk-container-id-1 input.sk-hidden--visually {\n",
       "  border: 0;\n",
       "  clip: rect(1px 1px 1px 1px);\n",
       "  clip: rect(1px, 1px, 1px, 1px);\n",
       "  height: 1px;\n",
       "  margin: -1px;\n",
       "  overflow: hidden;\n",
       "  padding: 0;\n",
       "  position: absolute;\n",
       "  width: 1px;\n",
       "}\n",
       "\n",
       "#sk-container-id-1 div.sk-dashed-wrapped {\n",
       "  border: 1px dashed var(--sklearn-color-line);\n",
       "  margin: 0 0.4em 0.5em 0.4em;\n",
       "  box-sizing: border-box;\n",
       "  padding-bottom: 0.4em;\n",
       "  background-color: var(--sklearn-color-background);\n",
       "}\n",
       "\n",
       "#sk-container-id-1 div.sk-container {\n",
       "  /* jupyter's `normalize.less` sets `[hidden] { display: none; }`\n",
       "     but bootstrap.min.css set `[hidden] { display: none !important; }`\n",
       "     so we also need the `!important` here to be able to override the\n",
       "     default hidden behavior on the sphinx rendered scikit-learn.org.\n",
       "     See: https://github.com/scikit-learn/scikit-learn/issues/21755 */\n",
       "  display: inline-block !important;\n",
       "  position: relative;\n",
       "}\n",
       "\n",
       "#sk-container-id-1 div.sk-text-repr-fallback {\n",
       "  display: none;\n",
       "}\n",
       "\n",
       "div.sk-parallel-item,\n",
       "div.sk-serial,\n",
       "div.sk-item {\n",
       "  /* draw centered vertical line to link estimators */\n",
       "  background-image: linear-gradient(var(--sklearn-color-text-on-default-background), var(--sklearn-color-text-on-default-background));\n",
       "  background-size: 2px 100%;\n",
       "  background-repeat: no-repeat;\n",
       "  background-position: center center;\n",
       "}\n",
       "\n",
       "/* Parallel-specific style estimator block */\n",
       "\n",
       "#sk-container-id-1 div.sk-parallel-item::after {\n",
       "  content: \"\";\n",
       "  width: 100%;\n",
       "  border-bottom: 2px solid var(--sklearn-color-text-on-default-background);\n",
       "  flex-grow: 1;\n",
       "}\n",
       "\n",
       "#sk-container-id-1 div.sk-parallel {\n",
       "  display: flex;\n",
       "  align-items: stretch;\n",
       "  justify-content: center;\n",
       "  background-color: var(--sklearn-color-background);\n",
       "  position: relative;\n",
       "}\n",
       "\n",
       "#sk-container-id-1 div.sk-parallel-item {\n",
       "  display: flex;\n",
       "  flex-direction: column;\n",
       "}\n",
       "\n",
       "#sk-container-id-1 div.sk-parallel-item:first-child::after {\n",
       "  align-self: flex-end;\n",
       "  width: 50%;\n",
       "}\n",
       "\n",
       "#sk-container-id-1 div.sk-parallel-item:last-child::after {\n",
       "  align-self: flex-start;\n",
       "  width: 50%;\n",
       "}\n",
       "\n",
       "#sk-container-id-1 div.sk-parallel-item:only-child::after {\n",
       "  width: 0;\n",
       "}\n",
       "\n",
       "/* Serial-specific style estimator block */\n",
       "\n",
       "#sk-container-id-1 div.sk-serial {\n",
       "  display: flex;\n",
       "  flex-direction: column;\n",
       "  align-items: center;\n",
       "  background-color: var(--sklearn-color-background);\n",
       "  padding-right: 1em;\n",
       "  padding-left: 1em;\n",
       "}\n",
       "\n",
       "\n",
       "/* Toggleable style: style used for estimator/Pipeline/ColumnTransformer box that is\n",
       "clickable and can be expanded/collapsed.\n",
       "- Pipeline and ColumnTransformer use this feature and define the default style\n",
       "- Estimators will overwrite some part of the style using the `sk-estimator` class\n",
       "*/\n",
       "\n",
       "/* Pipeline and ColumnTransformer style (default) */\n",
       "\n",
       "#sk-container-id-1 div.sk-toggleable {\n",
       "  /* Default theme specific background. It is overwritten whether we have a\n",
       "  specific estimator or a Pipeline/ColumnTransformer */\n",
       "  background-color: var(--sklearn-color-background);\n",
       "}\n",
       "\n",
       "/* Toggleable label */\n",
       "#sk-container-id-1 label.sk-toggleable__label {\n",
       "  cursor: pointer;\n",
       "  display: block;\n",
       "  width: 100%;\n",
       "  margin-bottom: 0;\n",
       "  padding: 0.5em;\n",
       "  box-sizing: border-box;\n",
       "  text-align: center;\n",
       "}\n",
       "\n",
       "#sk-container-id-1 label.sk-toggleable__label-arrow:before {\n",
       "  /* Arrow on the left of the label */\n",
       "  content: \"▸\";\n",
       "  float: left;\n",
       "  margin-right: 0.25em;\n",
       "  color: var(--sklearn-color-icon);\n",
       "}\n",
       "\n",
       "#sk-container-id-1 label.sk-toggleable__label-arrow:hover:before {\n",
       "  color: var(--sklearn-color-text);\n",
       "}\n",
       "\n",
       "/* Toggleable content - dropdown */\n",
       "\n",
       "#sk-container-id-1 div.sk-toggleable__content {\n",
       "  max-height: 0;\n",
       "  max-width: 0;\n",
       "  overflow: hidden;\n",
       "  text-align: left;\n",
       "  /* unfitted */\n",
       "  background-color: var(--sklearn-color-unfitted-level-0);\n",
       "}\n",
       "\n",
       "#sk-container-id-1 div.sk-toggleable__content.fitted {\n",
       "  /* fitted */\n",
       "  background-color: var(--sklearn-color-fitted-level-0);\n",
       "}\n",
       "\n",
       "#sk-container-id-1 div.sk-toggleable__content pre {\n",
       "  margin: 0.2em;\n",
       "  border-radius: 0.25em;\n",
       "  color: var(--sklearn-color-text);\n",
       "  /* unfitted */\n",
       "  background-color: var(--sklearn-color-unfitted-level-0);\n",
       "}\n",
       "\n",
       "#sk-container-id-1 div.sk-toggleable__content.fitted pre {\n",
       "  /* unfitted */\n",
       "  background-color: var(--sklearn-color-fitted-level-0);\n",
       "}\n",
       "\n",
       "#sk-container-id-1 input.sk-toggleable__control:checked~div.sk-toggleable__content {\n",
       "  /* Expand drop-down */\n",
       "  max-height: 200px;\n",
       "  max-width: 100%;\n",
       "  overflow: auto;\n",
       "}\n",
       "\n",
       "#sk-container-id-1 input.sk-toggleable__control:checked~label.sk-toggleable__label-arrow:before {\n",
       "  content: \"▾\";\n",
       "}\n",
       "\n",
       "/* Pipeline/ColumnTransformer-specific style */\n",
       "\n",
       "#sk-container-id-1 div.sk-label input.sk-toggleable__control:checked~label.sk-toggleable__label {\n",
       "  color: var(--sklearn-color-text);\n",
       "  background-color: var(--sklearn-color-unfitted-level-2);\n",
       "}\n",
       "\n",
       "#sk-container-id-1 div.sk-label.fitted input.sk-toggleable__control:checked~label.sk-toggleable__label {\n",
       "  background-color: var(--sklearn-color-fitted-level-2);\n",
       "}\n",
       "\n",
       "/* Estimator-specific style */\n",
       "\n",
       "/* Colorize estimator box */\n",
       "#sk-container-id-1 div.sk-estimator input.sk-toggleable__control:checked~label.sk-toggleable__label {\n",
       "  /* unfitted */\n",
       "  background-color: var(--sklearn-color-unfitted-level-2);\n",
       "}\n",
       "\n",
       "#sk-container-id-1 div.sk-estimator.fitted input.sk-toggleable__control:checked~label.sk-toggleable__label {\n",
       "  /* fitted */\n",
       "  background-color: var(--sklearn-color-fitted-level-2);\n",
       "}\n",
       "\n",
       "#sk-container-id-1 div.sk-label label.sk-toggleable__label,\n",
       "#sk-container-id-1 div.sk-label label {\n",
       "  /* The background is the default theme color */\n",
       "  color: var(--sklearn-color-text-on-default-background);\n",
       "}\n",
       "\n",
       "/* On hover, darken the color of the background */\n",
       "#sk-container-id-1 div.sk-label:hover label.sk-toggleable__label {\n",
       "  color: var(--sklearn-color-text);\n",
       "  background-color: var(--sklearn-color-unfitted-level-2);\n",
       "}\n",
       "\n",
       "/* Label box, darken color on hover, fitted */\n",
       "#sk-container-id-1 div.sk-label.fitted:hover label.sk-toggleable__label.fitted {\n",
       "  color: var(--sklearn-color-text);\n",
       "  background-color: var(--sklearn-color-fitted-level-2);\n",
       "}\n",
       "\n",
       "/* Estimator label */\n",
       "\n",
       "#sk-container-id-1 div.sk-label label {\n",
       "  font-family: monospace;\n",
       "  font-weight: bold;\n",
       "  display: inline-block;\n",
       "  line-height: 1.2em;\n",
       "}\n",
       "\n",
       "#sk-container-id-1 div.sk-label-container {\n",
       "  text-align: center;\n",
       "}\n",
       "\n",
       "/* Estimator-specific */\n",
       "#sk-container-id-1 div.sk-estimator {\n",
       "  font-family: monospace;\n",
       "  border: 1px dotted var(--sklearn-color-border-box);\n",
       "  border-radius: 0.25em;\n",
       "  box-sizing: border-box;\n",
       "  margin-bottom: 0.5em;\n",
       "  /* unfitted */\n",
       "  background-color: var(--sklearn-color-unfitted-level-0);\n",
       "}\n",
       "\n",
       "#sk-container-id-1 div.sk-estimator.fitted {\n",
       "  /* fitted */\n",
       "  background-color: var(--sklearn-color-fitted-level-0);\n",
       "}\n",
       "\n",
       "/* on hover */\n",
       "#sk-container-id-1 div.sk-estimator:hover {\n",
       "  /* unfitted */\n",
       "  background-color: var(--sklearn-color-unfitted-level-2);\n",
       "}\n",
       "\n",
       "#sk-container-id-1 div.sk-estimator.fitted:hover {\n",
       "  /* fitted */\n",
       "  background-color: var(--sklearn-color-fitted-level-2);\n",
       "}\n",
       "\n",
       "/* Specification for estimator info (e.g. \"i\" and \"?\") */\n",
       "\n",
       "/* Common style for \"i\" and \"?\" */\n",
       "\n",
       ".sk-estimator-doc-link,\n",
       "a:link.sk-estimator-doc-link,\n",
       "a:visited.sk-estimator-doc-link {\n",
       "  float: right;\n",
       "  font-size: smaller;\n",
       "  line-height: 1em;\n",
       "  font-family: monospace;\n",
       "  background-color: var(--sklearn-color-background);\n",
       "  border-radius: 1em;\n",
       "  height: 1em;\n",
       "  width: 1em;\n",
       "  text-decoration: none !important;\n",
       "  margin-left: 1ex;\n",
       "  /* unfitted */\n",
       "  border: var(--sklearn-color-unfitted-level-1) 1pt solid;\n",
       "  color: var(--sklearn-color-unfitted-level-1);\n",
       "}\n",
       "\n",
       ".sk-estimator-doc-link.fitted,\n",
       "a:link.sk-estimator-doc-link.fitted,\n",
       "a:visited.sk-estimator-doc-link.fitted {\n",
       "  /* fitted */\n",
       "  border: var(--sklearn-color-fitted-level-1) 1pt solid;\n",
       "  color: var(--sklearn-color-fitted-level-1);\n",
       "}\n",
       "\n",
       "/* On hover */\n",
       "div.sk-estimator:hover .sk-estimator-doc-link:hover,\n",
       ".sk-estimator-doc-link:hover,\n",
       "div.sk-label-container:hover .sk-estimator-doc-link:hover,\n",
       ".sk-estimator-doc-link:hover {\n",
       "  /* unfitted */\n",
       "  background-color: var(--sklearn-color-unfitted-level-3);\n",
       "  color: var(--sklearn-color-background);\n",
       "  text-decoration: none;\n",
       "}\n",
       "\n",
       "div.sk-estimator.fitted:hover .sk-estimator-doc-link.fitted:hover,\n",
       ".sk-estimator-doc-link.fitted:hover,\n",
       "div.sk-label-container:hover .sk-estimator-doc-link.fitted:hover,\n",
       ".sk-estimator-doc-link.fitted:hover {\n",
       "  /* fitted */\n",
       "  background-color: var(--sklearn-color-fitted-level-3);\n",
       "  color: var(--sklearn-color-background);\n",
       "  text-decoration: none;\n",
       "}\n",
       "\n",
       "/* Span, style for the box shown on hovering the info icon */\n",
       ".sk-estimator-doc-link span {\n",
       "  display: none;\n",
       "  z-index: 9999;\n",
       "  position: relative;\n",
       "  font-weight: normal;\n",
       "  right: .2ex;\n",
       "  padding: .5ex;\n",
       "  margin: .5ex;\n",
       "  width: min-content;\n",
       "  min-width: 20ex;\n",
       "  max-width: 50ex;\n",
       "  color: var(--sklearn-color-text);\n",
       "  box-shadow: 2pt 2pt 4pt #999;\n",
       "  /* unfitted */\n",
       "  background: var(--sklearn-color-unfitted-level-0);\n",
       "  border: .5pt solid var(--sklearn-color-unfitted-level-3);\n",
       "}\n",
       "\n",
       ".sk-estimator-doc-link.fitted span {\n",
       "  /* fitted */\n",
       "  background: var(--sklearn-color-fitted-level-0);\n",
       "  border: var(--sklearn-color-fitted-level-3);\n",
       "}\n",
       "\n",
       ".sk-estimator-doc-link:hover span {\n",
       "  display: block;\n",
       "}\n",
       "\n",
       "/* \"?\"-specific style due to the `<a>` HTML tag */\n",
       "\n",
       "#sk-container-id-1 a.estimator_doc_link {\n",
       "  float: right;\n",
       "  font-size: 1rem;\n",
       "  line-height: 1em;\n",
       "  font-family: monospace;\n",
       "  background-color: var(--sklearn-color-background);\n",
       "  border-radius: 1rem;\n",
       "  height: 1rem;\n",
       "  width: 1rem;\n",
       "  text-decoration: none;\n",
       "  /* unfitted */\n",
       "  color: var(--sklearn-color-unfitted-level-1);\n",
       "  border: var(--sklearn-color-unfitted-level-1) 1pt solid;\n",
       "}\n",
       "\n",
       "#sk-container-id-1 a.estimator_doc_link.fitted {\n",
       "  /* fitted */\n",
       "  border: var(--sklearn-color-fitted-level-1) 1pt solid;\n",
       "  color: var(--sklearn-color-fitted-level-1);\n",
       "}\n",
       "\n",
       "/* On hover */\n",
       "#sk-container-id-1 a.estimator_doc_link:hover {\n",
       "  /* unfitted */\n",
       "  background-color: var(--sklearn-color-unfitted-level-3);\n",
       "  color: var(--sklearn-color-background);\n",
       "  text-decoration: none;\n",
       "}\n",
       "\n",
       "#sk-container-id-1 a.estimator_doc_link.fitted:hover {\n",
       "  /* fitted */\n",
       "  background-color: var(--sklearn-color-fitted-level-3);\n",
       "}\n",
       "</style><div id=\"sk-container-id-1\" class=\"sk-top-container\"><div class=\"sk-text-repr-fallback\"><pre>RandomForestClassifier(random_state=42, verbose=1)</pre><b>In a Jupyter environment, please rerun this cell to show the HTML representation or trust the notebook. <br />On GitHub, the HTML representation is unable to render, please try loading this page with nbviewer.org.</b></div><div class=\"sk-container\" hidden><div class=\"sk-item\"><div class=\"sk-estimator fitted sk-toggleable\"><input class=\"sk-toggleable__control sk-hidden--visually\" id=\"sk-estimator-id-1\" type=\"checkbox\" checked><label for=\"sk-estimator-id-1\" class=\"sk-toggleable__label fitted sk-toggleable__label-arrow fitted\">&nbsp;&nbsp;RandomForestClassifier<a class=\"sk-estimator-doc-link fitted\" rel=\"noreferrer\" target=\"_blank\" href=\"https://scikit-learn.org/1.5/modules/generated/sklearn.ensemble.RandomForestClassifier.html\">?<span>Documentation for RandomForestClassifier</span></a><span class=\"sk-estimator-doc-link fitted\">i<span>Fitted</span></span></label><div class=\"sk-toggleable__content fitted\"><pre>RandomForestClassifier(random_state=42, verbose=1)</pre></div> </div></div></div></div>"
      ],
      "text/plain": [
       "RandomForestClassifier(random_state=42, verbose=1)"
      ]
     },
     "execution_count": 34,
     "metadata": {},
     "output_type": "execute_result"
    }
   ],
   "source": [
    "%%time\n",
    "clf.fit(X_train_cls,y_train_cls)"
   ]
  },
  {
   "cell_type": "code",
   "execution_count": 35,
   "id": "44814b84-c567-4a03-b02e-dfaa875dd9a2",
   "metadata": {
    "tags": []
   },
   "outputs": [
    {
     "name": "stderr",
     "output_type": "stream",
     "text": [
      "[Parallel(n_jobs=1)]: Done  49 tasks      | elapsed:    0.0s\n"
     ]
    }
   ],
   "source": [
    "y_pred_cls = clf.predict(X_test_cls)"
   ]
  },
  {
   "cell_type": "code",
   "execution_count": 36,
   "id": "08f80e7c-5e37-48d6-9339-c051a7243a3c",
   "metadata": {
    "tags": []
   },
   "outputs": [
    {
     "name": "stdout",
     "output_type": "stream",
     "text": [
      "Accuracy:  0.77\n",
      "F1-Score:  0.48\n",
      "Precision: 0.72\n",
      "Recall:    0.35\n",
      "ROC_AUC:   0.65\n"
     ]
    }
   ],
   "source": [
    "print(f\"Accuracy:  {metrics.accuracy_score(y_test_cls, y_pred_cls):.2f}\")\n",
    "print(f\"F1-Score:  {metrics.f1_score(y_test_cls, y_pred_cls):.2f}\")\n",
    "print(f\"Precision: {metrics.precision_score(y_test_cls, y_pred_cls):.2f}\")\n",
    "print(f\"Recall:    {metrics.recall_score(y_test_cls, y_pred_cls):.2f}\" )\n",
    "print(f\"ROC_AUC:   {metrics.roc_auc_score(y_test_cls, y_pred_cls):.2f}\" )"
   ]
  },
  {
   "cell_type": "code",
   "execution_count": null,
   "id": "50fb6946-a2de-438d-979d-bcb06494b90c",
   "metadata": {
    "tags": []
   },
   "outputs": [],
   "source": [
    "print(f\"Confusion Matrix:\\n {metrics.confusion_matrix(y_test_cls, y_pred_cls)}\")"
   ]
  },
  {
   "cell_type": "markdown",
   "id": "dea22f7d-9729-4f49-9bd3-6725ca1a16f4",
   "metadata": {
    "tags": []
   },
   "source": [
    "## Random Forest Regressor\n",
    "Can we do better with a regression model?"
   ]
  },
  {
   "cell_type": "code",
   "execution_count": 38,
   "id": "273f5acc-db6c-4c77-9d34-ac0cf5b71ee6",
   "metadata": {
    "tags": []
   },
   "outputs": [],
   "source": [
    "X_train, X_test, y_train, y_test = train_test_split(X, y, \n",
    "                                                    test_size = 0.30,\n",
    "                                                    random_state=42,\n",
    "                                                    shuffle=True)"
   ]
  },
  {
   "cell_type": "code",
   "execution_count": 39,
   "id": "1c84ac82-066a-4f11-b042-5340811ef86d",
   "metadata": {
    "tags": []
   },
   "outputs": [
    {
     "name": "stdout",
     "output_type": "stream",
     "text": [
      "Training set:  7000\n",
      "Testing set:   3000\n"
     ]
    }
   ],
   "source": [
    "print('Training set: ', len(X_train))\n",
    "print('Testing set:  ', len(X_test))"
   ]
  },
  {
   "cell_type": "code",
   "execution_count": 40,
   "id": "b3215503-8f36-46a2-91c2-cc0e0654d670",
   "metadata": {
    "tags": []
   },
   "outputs": [
    {
     "data": {
      "image/png": "[encoded data removed]",
      "text/plain": [
       "<Figure size 640x480 with 1 Axes>"
      ]
     },
     "metadata": {},
     "output_type": "display_data"
    }
   ],
   "source": [
    "sns.histplot(x=y_train,stat='count', kde=True, label=\"Training\");\n",
    "sns.histplot(x=y_test ,stat='count', kde=True, label=\"Testing\");\n",
    "plt.legend();"
   ]
  },
  {
   "cell_type": "code",
   "execution_count": 41,
   "id": "60d5a3fc-bd42-4963-8e1b-92c3d2f0f9c0",
   "metadata": {
    "tags": []
   },
   "outputs": [],
   "source": [
    "reg = RandomForestRegressor(random_state=42, n_jobs=4, verbose=1)"
   ]
  },
  {
   "cell_type": "code",
   "execution_count": 42,
   "id": "8a571b23-50da-471d-a364-d956c1c6088b",
   "metadata": {
    "tags": []
   },
   "outputs": [
    {
     "name": "stderr",
     "output_type": "stream",
     "text": [
      "[Parallel(n_jobs=4)]: Using backend ThreadingBackend with 4 concurrent workers.\n",
      "[Parallel(n_jobs=4)]: Done  42 tasks      | elapsed:   34.2s\n"
     ]
    },
    {
     "name": "stdout",
     "output_type": "stream",
     "text": [
      "CPU times: user 5min 1s, sys: 69.2 ms, total: 5min 1s\n",
      "Wall time: 1min 18s\n"
     ]
    },
    {
     "name": "stderr",
     "output_type": "stream",
     "text": [
      "[Parallel(n_jobs=4)]: Done 100 out of 100 | elapsed:  1.3min finished\n"
     ]
    },
    {
     "data": {
      "text/html": [
       "<style>#sk-container-id-2 {\n",
       "  /* Definition of color scheme common for light and dark mode */\n",
       "  --sklearn-color-text: black;\n",
       "  --sklearn-color-line: gray;\n",
       "  /* Definition of color scheme for unfitted estimators */\n",
       "  --sklearn-color-unfitted-level-0: #fff5e6;\n",
       "  --sklearn-color-unfitted-level-1: #f6e4d2;\n",
       "  --sklearn-color-unfitted-level-2: #ffe0b3;\n",
       "  --sklearn-color-unfitted-level-3: chocolate;\n",
       "  /* Definition of color scheme for fitted estimators */\n",
       "  --sklearn-color-fitted-level-0: #f0f8ff;\n",
       "  --sklearn-color-fitted-level-1: #d4ebff;\n",
       "  --sklearn-color-fitted-level-2: #b3dbfd;\n",
       "  --sklearn-color-fitted-level-3: cornflowerblue;\n",
       "\n",
       "  /* Specific color for light theme */\n",
       "  --sklearn-color-text-on-default-background: var(--sg-text-color, var(--theme-code-foreground, var(--jp-content-font-color1, black)));\n",
       "  --sklearn-color-background: var(--sg-background-color, var(--theme-background, var(--jp-layout-color0, white)));\n",
       "  --sklearn-color-border-box: var(--sg-text-color, var(--theme-code-foreground, var(--jp-content-font-color1, black)));\n",
       "  --sklearn-color-icon: #696969;\n",
       "\n",
       "  @media (prefers-color-scheme: dark) {\n",
       "    /* Redefinition of color scheme for dark theme */\n",
       "    --sklearn-color-text-on-default-background: var(--sg-text-color, var(--theme-code-foreground, var(--jp-content-font-color1, white)));\n",
       "    --sklearn-color-background: var(--sg-background-color, var(--theme-background, var(--jp-layout-color0, #111)));\n",
       "    --sklearn-color-border-box: var(--sg-text-color, var(--theme-code-foreground, var(--jp-content-font-color1, white)));\n",
       "    --sklearn-color-icon: #878787;\n",
       "  }\n",
       "}\n",
       "\n",
       "#sk-container-id-2 {\n",
       "  color: var(--sklearn-color-text);\n",
       "}\n",
       "\n",
       "#sk-container-id-2 pre {\n",
       "  padding: 0;\n",
       "}\n",
       "\n",
       "#sk-container-id-2 input.sk-hidden--visually {\n",
       "  border: 0;\n",
       "  clip: rect(1px 1px 1px 1px);\n",
       "  clip: rect(1px, 1px, 1px, 1px);\n",
       "  height: 1px;\n",
       "  margin: -1px;\n",
       "  overflow: hidden;\n",
       "  padding: 0;\n",
       "  position: absolute;\n",
       "  width: 1px;\n",
       "}\n",
       "\n",
       "#sk-container-id-2 div.sk-dashed-wrapped {\n",
       "  border: 1px dashed var(--sklearn-color-line);\n",
       "  margin: 0 0.4em 0.5em 0.4em;\n",
       "  box-sizing: border-box;\n",
       "  padding-bottom: 0.4em;\n",
       "  background-color: var(--sklearn-color-background);\n",
       "}\n",
       "\n",
       "#sk-container-id-2 div.sk-container {\n",
       "  /* jupyter's `normalize.less` sets `[hidden] { display: none; }`\n",
       "     but bootstrap.min.css set `[hidden] { display: none !important; }`\n",
       "     so we also need the `!important` here to be able to override the\n",
       "     default hidden behavior on the sphinx rendered scikit-learn.org.\n",
       "     See: https://github.com/scikit-learn/scikit-learn/issues/21755 */\n",
       "  display: inline-block !important;\n",
       "  position: relative;\n",
       "}\n",
       "\n",
       "#sk-container-id-2 div.sk-text-repr-fallback {\n",
       "  display: none;\n",
       "}\n",
       "\n",
       "div.sk-parallel-item,\n",
       "div.sk-serial,\n",
       "div.sk-item {\n",
       "  /* draw centered vertical line to link estimators */\n",
       "  background-image: linear-gradient(var(--sklearn-color-text-on-default-background), var(--sklearn-color-text-on-default-background));\n",
       "  background-size: 2px 100%;\n",
       "  background-repeat: no-repeat;\n",
       "  background-position: center center;\n",
       "}\n",
       "\n",
       "/* Parallel-specific style estimator block */\n",
       "\n",
       "#sk-container-id-2 div.sk-parallel-item::after {\n",
       "  content: \"\";\n",
       "  width: 100%;\n",
       "  border-bottom: 2px solid var(--sklearn-color-text-on-default-background);\n",
       "  flex-grow: 1;\n",
       "}\n",
       "\n",
       "#sk-container-id-2 div.sk-parallel {\n",
       "  display: flex;\n",
       "  align-items: stretch;\n",
       "  justify-content: center;\n",
       "  background-color: var(--sklearn-color-background);\n",
       "  position: relative;\n",
       "}\n",
       "\n",
       "#sk-container-id-2 div.sk-parallel-item {\n",
       "  display: flex;\n",
       "  flex-direction: column;\n",
       "}\n",
       "\n",
       "#sk-container-id-2 div.sk-parallel-item:first-child::after {\n",
       "  align-self: flex-end;\n",
       "  width: 50%;\n",
       "}\n",
       "\n",
       "#sk-container-id-2 div.sk-parallel-item:last-child::after {\n",
       "  align-self: flex-start;\n",
       "  width: 50%;\n",
       "}\n",
       "\n",
       "#sk-container-id-2 div.sk-parallel-item:only-child::after {\n",
       "  width: 0;\n",
       "}\n",
       "\n",
       "/* Serial-specific style estimator block */\n",
       "\n",
       "#sk-container-id-2 div.sk-serial {\n",
       "  display: flex;\n",
       "  flex-direction: column;\n",
       "  align-items: center;\n",
       "  background-color: var(--sklearn-color-background);\n",
       "  padding-right: 1em;\n",
       "  padding-left: 1em;\n",
       "}\n",
       "\n",
       "\n",
       "/* Toggleable style: style used for estimator/Pipeline/ColumnTransformer box that is\n",
       "clickable and can be expanded/collapsed.\n",
       "- Pipeline and ColumnTransformer use this feature and define the default style\n",
       "- Estimators will overwrite some part of the style using the `sk-estimator` class\n",
       "*/\n",
       "\n",
       "/* Pipeline and ColumnTransformer style (default) */\n",
       "\n",
       "#sk-container-id-2 div.sk-toggleable {\n",
       "  /* Default theme specific background. It is overwritten whether we have a\n",
       "  specific estimator or a Pipeline/ColumnTransformer */\n",
       "  background-color: var(--sklearn-color-background);\n",
       "}\n",
       "\n",
       "/* Toggleable label */\n",
       "#sk-container-id-2 label.sk-toggleable__label {\n",
       "  cursor: pointer;\n",
       "  display: block;\n",
       "  width: 100%;\n",
       "  margin-bottom: 0;\n",
       "  padding: 0.5em;\n",
       "  box-sizing: border-box;\n",
       "  text-align: center;\n",
       "}\n",
       "\n",
       "#sk-container-id-2 label.sk-toggleable__label-arrow:before {\n",
       "  /* Arrow on the left of the label */\n",
       "  content: \"▸\";\n",
       "  float: left;\n",
       "  margin-right: 0.25em;\n",
       "  color: var(--sklearn-color-icon);\n",
       "}\n",
       "\n",
       "#sk-container-id-2 label.sk-toggleable__label-arrow:hover:before {\n",
       "  color: var(--sklearn-color-text);\n",
       "}\n",
       "\n",
       "/* Toggleable content - dropdown */\n",
       "\n",
       "#sk-container-id-2 div.sk-toggleable__content {\n",
       "  max-height: 0;\n",
       "  max-width: 0;\n",
       "  overflow: hidden;\n",
       "  text-align: left;\n",
       "  /* unfitted */\n",
       "  background-color: var(--sklearn-color-unfitted-level-0);\n",
       "}\n",
       "\n",
       "#sk-container-id-2 div.sk-toggleable__content.fitted {\n",
       "  /* fitted */\n",
       "  background-color: var(--sklearn-color-fitted-level-0);\n",
       "}\n",
       "\n",
       "#sk-container-id-2 div.sk-toggleable__content pre {\n",
       "  margin: 0.2em;\n",
       "  border-radius: 0.25em;\n",
       "  color: var(--sklearn-color-text);\n",
       "  /* unfitted */\n",
       "  background-color: var(--sklearn-color-unfitted-level-0);\n",
       "}\n",
       "\n",
       "#sk-container-id-2 div.sk-toggleable__content.fitted pre {\n",
       "  /* unfitted */\n",
       "  background-color: var(--sklearn-color-fitted-level-0);\n",
       "}\n",
       "\n",
       "#sk-container-id-2 input.sk-toggleable__control:checked~div.sk-toggleable__content {\n",
       "  /* Expand drop-down */\n",
       "  max-height: 200px;\n",
       "  max-width: 100%;\n",
       "  overflow: auto;\n",
       "}\n",
       "\n",
       "#sk-container-id-2 input.sk-toggleable__control:checked~label.sk-toggleable__label-arrow:before {\n",
       "  content: \"▾\";\n",
       "}\n",
       "\n",
       "/* Pipeline/ColumnTransformer-specific style */\n",
       "\n",
       "#sk-container-id-2 div.sk-label input.sk-toggleable__control:checked~label.sk-toggleable__label {\n",
       "  color: var(--sklearn-color-text);\n",
       "  background-color: var(--sklearn-color-unfitted-level-2);\n",
       "}\n",
       "\n",
       "#sk-container-id-2 div.sk-label.fitted input.sk-toggleable__control:checked~label.sk-toggleable__label {\n",
       "  background-color: var(--sklearn-color-fitted-level-2);\n",
       "}\n",
       "\n",
       "/* Estimator-specific style */\n",
       "\n",
       "/* Colorize estimator box */\n",
       "#sk-container-id-2 div.sk-estimator input.sk-toggleable__control:checked~label.sk-toggleable__label {\n",
       "  /* unfitted */\n",
       "  background-color: var(--sklearn-color-unfitted-level-2);\n",
       "}\n",
       "\n",
       "#sk-container-id-2 div.sk-estimator.fitted input.sk-toggleable__control:checked~label.sk-toggleable__label {\n",
       "  /* fitted */\n",
       "  background-color: var(--sklearn-color-fitted-level-2);\n",
       "}\n",
       "\n",
       "#sk-container-id-2 div.sk-label label.sk-toggleable__label,\n",
       "#sk-container-id-2 div.sk-label label {\n",
       "  /* The background is the default theme color */\n",
       "  color: var(--sklearn-color-text-on-default-background);\n",
       "}\n",
       "\n",
       "/* On hover, darken the color of the background */\n",
       "#sk-container-id-2 div.sk-label:hover label.sk-toggleable__label {\n",
       "  color: var(--sklearn-color-text);\n",
       "  background-color: var(--sklearn-color-unfitted-level-2);\n",
       "}\n",
       "\n",
       "/* Label box, darken color on hover, fitted */\n",
       "#sk-container-id-2 div.sk-label.fitted:hover label.sk-toggleable__label.fitted {\n",
       "  color: var(--sklearn-color-text);\n",
       "  background-color: var(--sklearn-color-fitted-level-2);\n",
       "}\n",
       "\n",
       "/* Estimator label */\n",
       "\n",
       "#sk-container-id-2 div.sk-label label {\n",
       "  font-family: monospace;\n",
       "  font-weight: bold;\n",
       "  display: inline-block;\n",
       "  line-height: 1.2em;\n",
       "}\n",
       "\n",
       "#sk-container-id-2 div.sk-label-container {\n",
       "  text-align: center;\n",
       "}\n",
       "\n",
       "/* Estimator-specific */\n",
       "#sk-container-id-2 div.sk-estimator {\n",
       "  font-family: monospace;\n",
       "  border: 1px dotted var(--sklearn-color-border-box);\n",
       "  border-radius: 0.25em;\n",
       "  box-sizing: border-box;\n",
       "  margin-bottom: 0.5em;\n",
       "  /* unfitted */\n",
       "  background-color: var(--sklearn-color-unfitted-level-0);\n",
       "}\n",
       "\n",
       "#sk-container-id-2 div.sk-estimator.fitted {\n",
       "  /* fitted */\n",
       "  background-color: var(--sklearn-color-fitted-level-0);\n",
       "}\n",
       "\n",
       "/* on hover */\n",
       "#sk-container-id-2 div.sk-estimator:hover {\n",
       "  /* unfitted */\n",
       "  background-color: var(--sklearn-color-unfitted-level-2);\n",
       "}\n",
       "\n",
       "#sk-container-id-2 div.sk-estimator.fitted:hover {\n",
       "  /* fitted */\n",
       "  background-color: var(--sklearn-color-fitted-level-2);\n",
       "}\n",
       "\n",
       "/* Specification for estimator info (e.g. \"i\" and \"?\") */\n",
       "\n",
       "/* Common style for \"i\" and \"?\" */\n",
       "\n",
       ".sk-estimator-doc-link,\n",
       "a:link.sk-estimator-doc-link,\n",
       "a:visited.sk-estimator-doc-link {\n",
       "  float: right;\n",
       "  font-size: smaller;\n",
       "  line-height: 1em;\n",
       "  font-family: monospace;\n",
       "  background-color: var(--sklearn-color-background);\n",
       "  border-radius: 1em;\n",
       "  height: 1em;\n",
       "  width: 1em;\n",
       "  text-decoration: none !important;\n",
       "  margin-left: 1ex;\n",
       "  /* unfitted */\n",
       "  border: var(--sklearn-color-unfitted-level-1) 1pt solid;\n",
       "  color: var(--sklearn-color-unfitted-level-1);\n",
       "}\n",
       "\n",
       ".sk-estimator-doc-link.fitted,\n",
       "a:link.sk-estimator-doc-link.fitted,\n",
       "a:visited.sk-estimator-doc-link.fitted {\n",
       "  /* fitted */\n",
       "  border: var(--sklearn-color-fitted-level-1) 1pt solid;\n",
       "  color: var(--sklearn-color-fitted-level-1);\n",
       "}\n",
       "\n",
       "/* On hover */\n",
       "div.sk-estimator:hover .sk-estimator-doc-link:hover,\n",
       ".sk-estimator-doc-link:hover,\n",
       "div.sk-label-container:hover .sk-estimator-doc-link:hover,\n",
       ".sk-estimator-doc-link:hover {\n",
       "  /* unfitted */\n",
       "  background-color: var(--sklearn-color-unfitted-level-3);\n",
       "  color: var(--sklearn-color-background);\n",
       "  text-decoration: none;\n",
       "}\n",
       "\n",
       "div.sk-estimator.fitted:hover .sk-estimator-doc-link.fitted:hover,\n",
       ".sk-estimator-doc-link.fitted:hover,\n",
       "div.sk-label-container:hover .sk-estimator-doc-link.fitted:hover,\n",
       ".sk-estimator-doc-link.fitted:hover {\n",
       "  /* fitted */\n",
       "  background-color: var(--sklearn-color-fitted-level-3);\n",
       "  color: var(--sklearn-color-background);\n",
       "  text-decoration: none;\n",
       "}\n",
       "\n",
       "/* Span, style for the box shown on hovering the info icon */\n",
       ".sk-estimator-doc-link span {\n",
       "  display: none;\n",
       "  z-index: 9999;\n",
       "  position: relative;\n",
       "  font-weight: normal;\n",
       "  right: .2ex;\n",
       "  padding: .5ex;\n",
       "  margin: .5ex;\n",
       "  width: min-content;\n",
       "  min-width: 20ex;\n",
       "  max-width: 50ex;\n",
       "  color: var(--sklearn-color-text);\n",
       "  box-shadow: 2pt 2pt 4pt #999;\n",
       "  /* unfitted */\n",
       "  background: var(--sklearn-color-unfitted-level-0);\n",
       "  border: .5pt solid var(--sklearn-color-unfitted-level-3);\n",
       "}\n",
       "\n",
       ".sk-estimator-doc-link.fitted span {\n",
       "  /* fitted */\n",
       "  background: var(--sklearn-color-fitted-level-0);\n",
       "  border: var(--sklearn-color-fitted-level-3);\n",
       "}\n",
       "\n",
       ".sk-estimator-doc-link:hover span {\n",
       "  display: block;\n",
       "}\n",
       "\n",
       "/* \"?\"-specific style due to the `<a>` HTML tag */\n",
       "\n",
       "#sk-container-id-2 a.estimator_doc_link {\n",
       "  float: right;\n",
       "  font-size: 1rem;\n",
       "  line-height: 1em;\n",
       "  font-family: monospace;\n",
       "  background-color: var(--sklearn-color-background);\n",
       "  border-radius: 1rem;\n",
       "  height: 1rem;\n",
       "  width: 1rem;\n",
       "  text-decoration: none;\n",
       "  /* unfitted */\n",
       "  color: var(--sklearn-color-unfitted-level-1);\n",
       "  border: var(--sklearn-color-unfitted-level-1) 1pt solid;\n",
       "}\n",
       "\n",
       "#sk-container-id-2 a.estimator_doc_link.fitted {\n",
       "  /* fitted */\n",
       "  border: var(--sklearn-color-fitted-level-1) 1pt solid;\n",
       "  color: var(--sklearn-color-fitted-level-1);\n",
       "}\n",
       "\n",
       "/* On hover */\n",
       "#sk-container-id-2 a.estimator_doc_link:hover {\n",
       "  /* unfitted */\n",
       "  background-color: var(--sklearn-color-unfitted-level-3);\n",
       "  color: var(--sklearn-color-background);\n",
       "  text-decoration: none;\n",
       "}\n",
       "\n",
       "#sk-container-id-2 a.estimator_doc_link.fitted:hover {\n",
       "  /* fitted */\n",
       "  background-color: var(--sklearn-color-fitted-level-3);\n",
       "}\n",
       "</style><div id=\"sk-container-id-2\" class=\"sk-top-container\"><div class=\"sk-text-repr-fallback\"><pre>RandomForestRegressor(n_jobs=4, random_state=42, verbose=1)</pre><b>In a Jupyter environment, please rerun this cell to show the HTML representation or trust the notebook. <br />On GitHub, the HTML representation is unable to render, please try loading this page with nbviewer.org.</b></div><div class=\"sk-container\" hidden><div class=\"sk-item\"><div class=\"sk-estimator fitted sk-toggleable\"><input class=\"sk-toggleable__control sk-hidden--visually\" id=\"sk-estimator-id-2\" type=\"checkbox\" checked><label for=\"sk-estimator-id-2\" class=\"sk-toggleable__label fitted sk-toggleable__label-arrow fitted\">&nbsp;&nbsp;RandomForestRegressor<a class=\"sk-estimator-doc-link fitted\" rel=\"noreferrer\" target=\"_blank\" href=\"https://scikit-learn.org/1.5/modules/generated/sklearn.ensemble.RandomForestRegressor.html\">?<span>Documentation for RandomForestRegressor</span></a><span class=\"sk-estimator-doc-link fitted\">i<span>Fitted</span></span></label><div class=\"sk-toggleable__content fitted\"><pre>RandomForestRegressor(n_jobs=4, random_state=42, verbose=1)</pre></div> </div></div></div></div>"
      ],
      "text/plain": [
       "RandomForestRegressor(n_jobs=4, random_state=42, verbose=1)"
      ]
     },
     "execution_count": 42,
     "metadata": {},
     "output_type": "execute_result"
    }
   ],
   "source": [
    "%%time\n",
    "reg.fit(X_train,y_train)"
   ]
  },
  {
   "cell_type": "code",
   "execution_count": 43,
   "id": "63f048b1-5228-43ee-8701-ef142696e5a7",
   "metadata": {
    "tags": []
   },
   "outputs": [
    {
     "name": "stderr",
     "output_type": "stream",
     "text": [
      "[Parallel(n_jobs=4)]: Using backend ThreadingBackend with 4 concurrent workers.\n",
      "[Parallel(n_jobs=4)]: Done  42 tasks      | elapsed:    0.0s\n",
      "[Parallel(n_jobs=4)]: Done 100 out of 100 | elapsed:    0.1s finished\n"
     ]
    }
   ],
   "source": [
    "y_pred = reg.predict(X_test)"
   ]
  },
  {
   "cell_type": "code",
   "execution_count": 44,
   "id": "5e1cc9d2-fb2b-4e57-ba65-6233467d3ddf",
   "metadata": {
    "tags": []
   },
   "outputs": [
    {
     "data": {
      "image/png": "[encoded data removed]",
      "text/plain": [
       "<Figure size 1000x400 with 2 Axes>"
      ]
     },
     "metadata": {},
     "output_type": "display_data"
    }
   ],
   "source": [
    "fig, ax = plt.subplots(nrows=1, ncols=2, figsize=(10,4))\n",
    "sns.regplot(x=y_pred, y=y_test, ax=ax[0]);\n",
    "sns.residplot(x=y_pred, y=y_test, ax=ax[1]);\n",
    "ax[0].title.set_text('Correlation')\n",
    "ax[1].title.set_text('Residuals')\n",
    "\n",
    "ax[0].set_xlabel('Predicted Score (kcal/mol)')\n",
    "ax[1].set_xlabel('Predicted Score (kcal/mol)')\n",
    "\n",
    "ax[0].set_ylabel('Actual Score (kcal/mol)')\n",
    "ax[1].set_ylabel('Residual (kcal/mol)');"
   ]
  },
  {
   "cell_type": "code",
   "execution_count": 45,
   "id": "9d6a233a-5914-4362-a0f0-31e10d396937",
   "metadata": {
    "tags": []
   },
   "outputs": [
    {
     "name": "stdout",
     "output_type": "stream",
     "text": [
      "Pearson Correlation Coefficient: 0.67\n",
      "                    and P-Value: 0.0\n"
     ]
    }
   ],
   "source": [
    "from scipy.stats import pearsonr\n",
    "pearson_corr = pearsonr(y_pred,y_test)\n",
    "print(f\"Pearson Correlation Coefficient: {pearson_corr[0]:.2f}\")\n",
    "print(f\"                    and P-Value: {pearson_corr[1]}\")"
   ]
  },
  {
   "cell_type": "markdown",
   "id": "f762e71d-a666-421e-9a96-16dbadda4d28",
   "metadata": {},
   "source": [
    "# Scan the Full DB with the Regression Model\n",
    "Let's use the regression model obtained to screen the whole library."
   ]
  },
  {
   "cell_type": "code",
   "execution_count": 47,
   "id": "0a3a6a9d-625e-4423-b625-6854f0472606",
   "metadata": {
    "tags": []
   },
   "outputs": [
    {
     "name": "stderr",
     "output_type": "stream",
     "text": [
      "[Parallel(n_jobs=4)]: Using backend ThreadingBackend with 4 concurrent workers.\n",
      "[Parallel(n_jobs=4)]: Done  42 tasks      | elapsed:    1.4s\n"
     ]
    },
    {
     "name": "stdout",
     "output_type": "stream",
     "text": [
      "CPU times: user 11 s, sys: 157 ms, total: 11.1 s\n",
      "Wall time: 3.49 s\n"
     ]
    },
    {
     "name": "stderr",
     "output_type": "stream",
     "text": [
      "[Parallel(n_jobs=4)]: Done 100 out of 100 | elapsed:    3.0s finished\n"
     ]
    }
   ],
   "source": [
    "%%time\n",
    "predicted_scores = reg.predict(database.RDKit.values.tolist())"
   ]
  },
  {
   "cell_type": "markdown",
   "id": "ffd0584d-9738-481a-bbc9-91201a4dc5b9",
   "metadata": {},
   "source": [
    "With that, we scanned the whole library in less than 4 seconds. Compare to the estimated >25 days it would take to dock all molecules.\n",
    "\n",
    "Add those results to the database:"
   ]
  },
  {
   "cell_type": "code",
   "execution_count": 48,
   "id": "3540b902-ddd5-4b83-8502-e55793903d10",
   "metadata": {
    "tags": []
   },
   "outputs": [],
   "source": [
    "database['Predictions'] = predicted_scores"
   ]
  },
  {
   "cell_type": "markdown",
   "id": "76e0ac92-cbc6-42a6-8757-133b2cce7014",
   "metadata": {},
   "source": [
    "# Select top 10k molecules based on predictions\n",
    "Finally, we would use the predicted scores to select molecules for the next round of docking. Since we already have the docking energies here, we can just collect the data from the database. But remember: in a real application, you would need to dock the selected molecules."
   ]
  },
  {
   "cell_type": "code",
   "execution_count": 49,
   "id": "f7ce1d84-32ff-46ec-995e-76c46d6dd604",
   "metadata": {
    "tags": []
   },
   "outputs": [],
   "source": [
    "biased_sel = database.sort_values(by=['Predictions'], ascending=True)[:N_SAMPLE]"
   ]
  },
  {
   "cell_type": "markdown",
   "id": "d8d268d1-0308-449c-a1e0-f6fa87b7dc50",
   "metadata": {},
   "source": [
    "Finally, let's compare to the random selection of molecules"
   ]
  },
  {
   "cell_type": "code",
   "execution_count": 50,
   "id": "7491ca63-2b07-46dd-9c66-b3c7f582d681",
   "metadata": {
    "tags": []
   },
   "outputs": [
    {
     "data": {
      "image/png": "[encoded data removed]",
      "text/plain": [
       "<Figure size 640x480 with 1 Axes>"
      ]
     },
     "metadata": {},
     "output_type": "display_data"
    }
   ],
   "source": [
    "sns.histplot(data=random_sel, x='Scores', kde=True, label=\"Random Sample\");\n",
    "sns.histplot(data=biased_sel, x='Scores', kde=True, label=\"Biased Sample\");\n",
    "plt.legend();"
   ]
  },
  {
   "cell_type": "markdown",
   "id": "c90d0f53-3fb7-4b64-916a-3795560830c1",
   "metadata": {},
   "source": [
    "Looks like we did get some improvement. Let's look at more detailed statistics, and compare with the full database:"
   ]
  },
  {
   "cell_type": "code",
   "execution_count": 51,
   "id": "4cd099e9-b112-43c8-a7a9-3b81b9316456",
   "metadata": {
    "tags": []
   },
   "outputs": [
    {
     "data": {
      "text/html": [
       "<div>\n",
       "<style scoped>\n",
       "    .dataframe tbody tr th:only-of-type {\n",
       "        vertical-align: middle;\n",
       "    }\n",
       "\n",
       "    .dataframe tbody tr th {\n",
       "        vertical-align: top;\n",
       "    }\n",
       "\n",
       "    .dataframe thead th {\n",
       "        text-align: right;\n",
       "    }\n",
       "</style>\n",
       "<table border=\"1\" class=\"dataframe\">\n",
       "  <thead>\n",
       "    <tr style=\"text-align: right;\">\n",
       "      <th></th>\n",
       "      <th>mean</th>\n",
       "      <th>std</th>\n",
       "      <th>min</th>\n",
       "      <th>25%</th>\n",
       "      <th>50%</th>\n",
       "      <th>75%</th>\n",
       "      <th>max</th>\n",
       "    </tr>\n",
       "  </thead>\n",
       "  <tbody>\n",
       "    <tr>\n",
       "      <th>Full Database</th>\n",
       "      <td>-6.975614</td>\n",
       "      <td>0.726020</td>\n",
       "      <td>-10.875</td>\n",
       "      <td>-7.46575</td>\n",
       "      <td>-6.962</td>\n",
       "      <td>-6.47000</td>\n",
       "      <td>-0.244</td>\n",
       "    </tr>\n",
       "    <tr>\n",
       "      <th>Random Selection</th>\n",
       "      <td>-6.978058</td>\n",
       "      <td>0.722463</td>\n",
       "      <td>-9.684</td>\n",
       "      <td>-7.46500</td>\n",
       "      <td>-6.967</td>\n",
       "      <td>-6.46975</td>\n",
       "      <td>-4.556</td>\n",
       "    </tr>\n",
       "    <tr>\n",
       "      <th>Biased Selection</th>\n",
       "      <td>-7.915125</td>\n",
       "      <td>0.590947</td>\n",
       "      <td>-10.691</td>\n",
       "      <td>-8.29125</td>\n",
       "      <td>-7.940</td>\n",
       "      <td>-7.55900</td>\n",
       "      <td>-1.716</td>\n",
       "    </tr>\n",
       "  </tbody>\n",
       "</table>\n",
       "</div>"
      ],
      "text/plain": [
       "                      mean       std     min      25%    50%      75%    max\n",
       "Full Database    -6.975614  0.726020 -10.875 -7.46575 -6.962 -6.47000 -0.244\n",
       "Random Selection -6.978058  0.722463  -9.684 -7.46500 -6.967 -6.46975 -4.556\n",
       "Biased Selection -7.915125  0.590947 -10.691 -8.29125 -7.940 -7.55900 -1.716"
      ]
     },
     "execution_count": 51,
     "metadata": {},
     "output_type": "execute_result"
    }
   ],
   "source": [
    "desc_full = database.Scores.describe()\n",
    "desc_random = random_sel.Scores.describe()\n",
    "desc_biased = biased_sel.Scores.describe()\n",
    "desc_stats = desc_random.index\n",
    "\n",
    "desc_df = pd.DataFrame(columns=desc_stats, data=np.array(list(zip(desc_full.values, desc_random.values, desc_biased.values))).transpose())\n",
    "desc_df.drop(columns='count', inplace=True)\n",
    "desc_df.index = ['Full Database','Random Selection','Biased Selection']\n",
    "desc_df"
   ]
  },
  {
   "cell_type": "code",
   "execution_count": 52,
   "id": "7b5a0ea8-56da-49e7-921b-03f4fc42fc85",
   "metadata": {
    "tags": []
   },
   "outputs": [
    {
     "data": {
      "image/png": "[encoded data removed]",
      "text/plain": [
       "<Figure size 640x480 with 1 Axes>"
      ]
     },
     "metadata": {},
     "output_type": "display_data"
    }
   ],
   "source": [
    "desc_long = pd.melt(desc_df.transpose().reset_index(names='Statistics'), id_vars=['Statistics'], value_vars=['Full Database','Random Selection','Biased Selection'], \n",
    "                    var_name='Source', value_name='Value')\n",
    "sns.barplot(data=desc_long, x='Statistics', y='Value', hue='Source');"
   ]
  },
  {
   "cell_type": "markdown",
   "id": "d14979ec-cc85-445c-bbbf-c3d34b040949",
   "metadata": {},
   "source": [
    "Notice that the random selection is very similar to the full database, except in the `min` measure. What does that mean?"
   ]
  },
  {
   "cell_type": "markdown",
   "id": "622ca9c4-d486-4b02-bae8-f8d88a1900d7",
   "metadata": {
    "tags": []
   },
   "source": [
    "<div class=\"alert alert-success\" role=\"alert\">\n",
    "    <b>That's it for today</b> </br>\n",
    "    As an exercise, see if you can get a better model by changing the method and/or adjusting hyperparameters!\n",
    "</div>"
   ]
  },
  {
   "cell_type": "code",
   "execution_count": null,
   "id": "1c68d07d-156a-4c99-8dfe-7ee771d6cf79",
   "metadata": {},
   "outputs": [],
   "source": []
  }
 ],
 "metadata": {
  "kernelspec": {
   "display_name": "class",
   "language": "python",
   "name": "class"
  },
  "language_info": {
   "codemirror_mode": {
    "name": "ipython",
    "version": 3
   },
   "file_extension": ".py",
   "mimetype": "text/x-python",
   "name": "python",
   "nbconvert_exporter": "python",
   "pygments_lexer": "ipython3",
   "version": "3.12.5"
  }
 },
 "nbformat": 4,
 "nbformat_minor": 5
}
