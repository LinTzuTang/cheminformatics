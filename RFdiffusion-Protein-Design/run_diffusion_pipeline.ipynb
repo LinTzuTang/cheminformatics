{
 "cells": [
  {
   "cell_type": "code",
   "execution_count": null,
   "metadata": {},
   "outputs": [],
   "source": [
    "# Cell 1\n",
    "import diffusion_pipeline\n",
    "\n",
    "# Cell 2: 設定參數（可在 notebook 裡互動）\n",
    "model_ckpt = \"RFdiffusion_model.pt\"\n",
    "seq_length = 100\n",
    "output_dir = \"outputs\"\n",
    "\n",
    "# Cell 3: 執行主鏈生成\n",
    "backbone_path = diffusion_pipeline.run_rfdiffusion(model_ckpt, seq_length, output_dir)\n",
    "\n",
    "# Cell 4: 執行序列設計\n",
    "seq_path = diffusion_pipeline.run_protein_mpnn(backbone_path, output_dir)\n",
    "\n",
    "# Cell 5: 執行結構預測\n",
    "af2_path = diffusion_pipeline.run_alphafold(seq_path, output_dir)\n",
    "\n",
    "# Cell 6: 之後 notebook 可以自行做 3D 視覺化或分析\n",
    "print(f\"Pipeline finished! Backbone: {backbone_path}, Sequence: {seq_path}, AlphaFold: {af2_path}\")"
   ]
  }
 ],
 "metadata": {
  "language_info": {
   "name": "python"
  },
  "orig_nbformat": 4
 },
 "nbformat": 4,
 "nbformat_minor": 2
}
