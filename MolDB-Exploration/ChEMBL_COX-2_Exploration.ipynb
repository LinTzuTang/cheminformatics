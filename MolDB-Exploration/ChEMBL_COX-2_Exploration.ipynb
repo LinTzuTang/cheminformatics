{
 "cells": [
  {
   "cell_type": "markdown",
   "id": "dated-tribune",
   "metadata": {},
   "source": [
    "# Imports"
   ]
  },
  {
   "cell_type": "code",
   "execution_count": 1,
   "id": "forward-turkish",
   "metadata": {
    "tags": []
   },
   "outputs": [
    {
     "name": "stdout",
     "output_type": "stream",
     "text": [
      "RDKit Version:  2024.03.5\n"
     ]
    }
   ],
   "source": [
    "# -- Data & Plotting\n",
    "import numpy as np\n",
    "import pandas as pd\n",
    "import matplotlib.pyplot as plt\n",
    "import seaborn as sns\n",
    "\n",
    "# Progress Bar\n",
    "from tqdm import tqdm, tnrange, tqdm_notebook\n",
    "tqdm.pandas()\n",
    "\n",
    "# -- RDKit\n",
    "import rdkit\n",
    "from rdkit import Chem\n",
    "from rdkit.Chem import AllChem, Draw, PandasTools\n",
    "from rdkit.Chem.Draw import IPythonConsole\n",
    "PandasTools.RenderImagesInAllDataFrames()\n",
    "print(\"RDKit Version: \", rdkit.__version__)"
   ]
  },
  {
   "cell_type": "code",
   "execution_count": 2,
   "id": "capable-direction",
   "metadata": {
    "tags": []
   },
   "outputs": [
    {
     "data": {
      "text/plain": [
       "100"
      ]
     },
     "execution_count": 2,
     "metadata": {},
     "output_type": "execute_result"
    }
   ],
   "source": [
    "# This will allow us to see all columns:\n",
    "pd.set_option(\"display.max_columns\", 100)\n",
    "\n",
    "# To disable it, do:\n",
    "# pd.reset_option(\"^display\")\n",
    "\n",
    "# To get details:\n",
    "pd.get_option(\"display.max_columns\")\n",
    "\n",
    "# More information at:\n",
    "# https://pandas.pydata.org/pandas-docs/stable/user_guide/options.html#getting-and-setting-options"
   ]
  },
  {
   "cell_type": "markdown",
   "id": "flush-tsunami",
   "metadata": {},
   "source": [
    "# Obtaining the database\n",
    "Today we will be working with a database of compounds that wre somehow tested against the \n",
    "human cycloxoygenase-2 ([COX-2](https://en.wikipedia.org/wiki/Cyclooxygenase-2)), \n",
    "which is involved in pain and inflammation processes.\n",
    "NSAIDS that selectively target COX-2 ([coxibs](https://en.wikipedia.org/wiki/Cyclooxygenase-2_inhibitor)) \n",
    "reduce the risk of peptic ulcers associated with the inhibition of a related enzyme, \n",
    "[COX-1](https://en.wikipedia.org/wiki/Cyclooxygenase-1).\n",
    "\n",
    "We can obtain a database of compounds tested against COX-2 by searching different databases, \n",
    "the main ones being [PubChem](https://pubchem.ncbi.nlm.nih.gov/), maintained by the NIH,\n",
    "and [ChEMBL](https://www.ebi.ac.uk/chembl/), maintained by the European Bioinformatics Institute.\n",
    "\n",
    "Here, we will work with compounds obtained from the ChEMBL database. The process to obtain the database is the following:\n",
    "1. Navigate to the [ChEMBL](https://www.ebi.ac.uk/chembl/) site, and search for \"COX-2\", **but don't hit enter yet!**\n",
    "2. From the drop-down list, under \"Targets\", select \"COX-2\". That will return a page with different \"COX-2\" targets\n",
    "3. Scroll down to the human COX-2 (CHEMBL230):\n",
    "<a href=\"https://www.ebi.ac.uk/chembl/target_report_card/CHEMBL230/\"><img src=\"./media/ChEMBL_COX-2.png\" border=1 /></a> <br>\n",
    "Clicking on the header will take you to the page with COX-2 data.\n",
    "4. Finally,scroll to **\"Activity Charts\"**, and click on the **\"Activity Types for CHEMBL230 (Cyclooxygenase-2)\"** link:\n",
    "<a href=\"https://www.ebi.ac.uk/chembl/web_components/explore/activities/STATE_ID:A7tQ9Eh8n8uuiWNfvBq-yw%3D%3D\"><img src=\"./media/ChEMBL_COX-2_activities.png\" border=1 /></a> <br>\n",
    "It will take you to a list of 13,999 compounds (as of 08/28/2024) with measured activity against COX-2, \n",
    "which you can download as a CSV file by clicking the <img src=\"./media/ChEMBL_CSV.png\" alt=\"CSV\" /> button. \n",
    "\n",
    "\n",
    "<div class=\"alert alert-info\" role=\"alert\">\n",
    "    Note: It may take a while. To speed up our class, the file is already available here in the data folder: `data/ChEMBL_COX-2_2024-08-28.csv`.\n",
    "</div>\n",
    "\n",
    "\n",
    "And we're ready to start exploring!"
   ]
  },
  {
   "cell_type": "markdown",
   "id": "455d990e-129d-44e0-bc27-994cfd073cb9",
   "metadata": {},
   "source": [
    "# Exploring the database\n",
    "The CSV file from ChEMBL has a weird format, with \";\" separating the columnns!"
   ]
  },
  {
   "cell_type": "code",
   "execution_count": 4,
   "id": "joint-bruce",
   "metadata": {
    "tags": []
   },
   "outputs": [
    {
     "data": {
      "text/html": [
       "<div>\n",
       "<style scoped>\n",
       "    .dataframe tbody tr th:only-of-type {\n",
       "        vertical-align: middle;\n",
       "    }\n",
       "\n",
       "    .dataframe tbody tr th {\n",
       "        vertical-align: top;\n",
       "    }\n",
       "\n",
       "    .dataframe thead th {\n",
       "        text-align: right;\n",
       "    }\n",
       "</style>\n",
       "<table border=\"1\" class=\"dataframe\">\n",
       "  <thead>\n",
       "    <tr style=\"text-align: right;\">\n",
       "      <th></th>\n",
       "      <th>Molecule ChEMBL ID</th>\n",
       "      <th>Molecule Name</th>\n",
       "      <th>Molecule Max Phase</th>\n",
       "      <th>Molecular Weight</th>\n",
       "      <th>#RO5 Violations</th>\n",
       "      <th>AlogP</th>\n",
       "      <th>Compound Key</th>\n",
       "      <th>Smiles</th>\n",
       "      <th>Standard Type</th>\n",
       "      <th>Standard Relation</th>\n",
       "      <th>Standard Value</th>\n",
       "      <th>Standard Units</th>\n",
       "      <th>pChEMBL Value</th>\n",
       "      <th>Data Validity Comment</th>\n",
       "      <th>Comment</th>\n",
       "      <th>Uo Units</th>\n",
       "      <th>Ligand Efficiency BEI</th>\n",
       "      <th>Ligand Efficiency LE</th>\n",
       "      <th>Ligand Efficiency LLE</th>\n",
       "      <th>Ligand Efficiency SEI</th>\n",
       "      <th>Potential Duplicate</th>\n",
       "      <th>Assay ChEMBL ID</th>\n",
       "      <th>Assay Description</th>\n",
       "      <th>Assay Type</th>\n",
       "      <th>BAO Format ID</th>\n",
       "      <th>BAO Label</th>\n",
       "      <th>Assay Organism</th>\n",
       "      <th>Assay Tissue ChEMBL ID</th>\n",
       "      <th>Assay Tissue Name</th>\n",
       "      <th>Assay Cell Type</th>\n",
       "      <th>Assay Subcellular Fraction</th>\n",
       "      <th>Assay Parameters</th>\n",
       "      <th>Assay Variant Accession</th>\n",
       "      <th>Assay Variant Mutation</th>\n",
       "      <th>Target ChEMBL ID</th>\n",
       "      <th>Target Name</th>\n",
       "      <th>Target Organism</th>\n",
       "      <th>Target Type</th>\n",
       "      <th>Document ChEMBL ID</th>\n",
       "      <th>Source ID</th>\n",
       "      <th>Source Description</th>\n",
       "      <th>Document Journal</th>\n",
       "      <th>Document Year</th>\n",
       "      <th>Cell ChEMBL ID</th>\n",
       "      <th>Properties</th>\n",
       "      <th>Action Type</th>\n",
       "      <th>Standard Text Value</th>\n",
       "    </tr>\n",
       "  </thead>\n",
       "  <tbody>\n",
       "    <tr>\n",
       "      <th>13974</th>\n",
       "      <td>CHEMBL271227</td>\n",
       "      <td>ABIRATERONE ACETATE</td>\n",
       "      <td>4.0</td>\n",
       "      <td>391.56</td>\n",
       "      <td>1.0</td>\n",
       "      <td>5.97</td>\n",
       "      <td>abiraterone acetate</td>\n",
       "      <td>CC(=O)O[C@H]1CC[C@@]2(C)C(=CC[C@@H]3[C@@H]2CC[...</td>\n",
       "      <td>AC50</td>\n",
       "      <td>'&gt;'</td>\n",
       "      <td>30000.00</td>\n",
       "      <td>nM</td>\n",
       "      <td>NaN</td>\n",
       "      <td>NaN</td>\n",
       "      <td>Summarised AC50 (mean value for measurements w...</td>\n",
       "      <td>UO_0000065</td>\n",
       "      <td>NaN</td>\n",
       "      <td>NaN</td>\n",
       "      <td>NaN</td>\n",
       "      <td>NaN</td>\n",
       "      <td>0</td>\n",
       "      <td>CHEMBL5291870</td>\n",
       "      <td>Compound was evaluated for inhibition of human...</td>\n",
       "      <td>F</td>\n",
       "      <td>BAO_0000019</td>\n",
       "      <td>assay format</td>\n",
       "      <td>NaN</td>\n",
       "      <td>NaN</td>\n",
       "      <td>NaN</td>\n",
       "      <td>NaN</td>\n",
       "      <td>NaN</td>\n",
       "      <td>NaN</td>\n",
       "      <td>NaN</td>\n",
       "      <td>NaN</td>\n",
       "      <td>CHEMBL230</td>\n",
       "      <td>Cyclooxygenase-2</td>\n",
       "      <td>Homo sapiens</td>\n",
       "      <td>SINGLE PROTEIN</td>\n",
       "      <td>CHEMBL5291721</td>\n",
       "      <td>1</td>\n",
       "      <td>Scientific Literature</td>\n",
       "      <td>Nat Commun</td>\n",
       "      <td>2023.0</td>\n",
       "      <td>NaN</td>\n",
       "      <td>NaN</td>\n",
       "      <td>NaN</td>\n",
       "      <td>NaN</td>\n",
       "    </tr>\n",
       "    <tr>\n",
       "      <th>4025</th>\n",
       "      <td>CHEMBL1034</td>\n",
       "      <td>DICLOFENAC SODIUM</td>\n",
       "      <td>4.0</td>\n",
       "      <td>318.14</td>\n",
       "      <td>0.0</td>\n",
       "      <td>4.36</td>\n",
       "      <td>Diclofenac sodium</td>\n",
       "      <td>O=C([O-])Cc1ccccc1Nc1c(Cl)cccc1Cl.[Na+]</td>\n",
       "      <td>Activity</td>\n",
       "      <td>'='</td>\n",
       "      <td>26.98</td>\n",
       "      <td>pg/ml</td>\n",
       "      <td>NaN</td>\n",
       "      <td>NaN</td>\n",
       "      <td>NaN</td>\n",
       "      <td>NaN</td>\n",
       "      <td>NaN</td>\n",
       "      <td>NaN</td>\n",
       "      <td>NaN</td>\n",
       "      <td>NaN</td>\n",
       "      <td>0</td>\n",
       "      <td>CHEMBL4770908</td>\n",
       "      <td>Inhibition of COX2 in LPS-stimulated human HT-...</td>\n",
       "      <td>B</td>\n",
       "      <td>BAO_0000221</td>\n",
       "      <td>tissue-based format</td>\n",
       "      <td>Homo sapiens</td>\n",
       "      <td>NaN</td>\n",
       "      <td>NaN</td>\n",
       "      <td>HT-29</td>\n",
       "      <td>NaN</td>\n",
       "      <td>NaN</td>\n",
       "      <td>NaN</td>\n",
       "      <td>NaN</td>\n",
       "      <td>CHEMBL230</td>\n",
       "      <td>Cyclooxygenase-2</td>\n",
       "      <td>Homo sapiens</td>\n",
       "      <td>SINGLE PROTEIN</td>\n",
       "      <td>CHEMBL4765344</td>\n",
       "      <td>1</td>\n",
       "      <td>Scientific Literature</td>\n",
       "      <td>Eur J Med Chem</td>\n",
       "      <td>2020.0</td>\n",
       "      <td>NaN</td>\n",
       "      <td>Dose = 300.0 microM | TIME = 48.0 hr</td>\n",
       "      <td>INHIBITOR</td>\n",
       "      <td>NaN</td>\n",
       "    </tr>\n",
       "    <tr>\n",
       "      <th>6172</th>\n",
       "      <td>CHEMBL28881</td>\n",
       "      <td>NaN</td>\n",
       "      <td>NaN</td>\n",
       "      <td>410.42</td>\n",
       "      <td>0.0</td>\n",
       "      <td>3.27</td>\n",
       "      <td>1u</td>\n",
       "      <td>CN(C)c1ccc(-c2cc(C(F)(F)F)nn2-c2ccc(S(N)(=O)=O...</td>\n",
       "      <td>IC50</td>\n",
       "      <td>'='</td>\n",
       "      <td>4.70</td>\n",
       "      <td>nM</td>\n",
       "      <td>8.33</td>\n",
       "      <td>NaN</td>\n",
       "      <td>NaN</td>\n",
       "      <td>UO_0000065</td>\n",
       "      <td>20.29</td>\n",
       "      <td>0.41</td>\n",
       "      <td>5.06</td>\n",
       "      <td>10.25</td>\n",
       "      <td>0</td>\n",
       "      <td>CHEMBL763093</td>\n",
       "      <td>In vitro inhibitory concentration required to ...</td>\n",
       "      <td>B</td>\n",
       "      <td>BAO_0000357</td>\n",
       "      <td>single protein format</td>\n",
       "      <td>NaN</td>\n",
       "      <td>NaN</td>\n",
       "      <td>NaN</td>\n",
       "      <td>NaN</td>\n",
       "      <td>NaN</td>\n",
       "      <td>NaN</td>\n",
       "      <td>NaN</td>\n",
       "      <td>NaN</td>\n",
       "      <td>CHEMBL230</td>\n",
       "      <td>Cyclooxygenase-2</td>\n",
       "      <td>Homo sapiens</td>\n",
       "      <td>SINGLE PROTEIN</td>\n",
       "      <td>CHEMBL1130002</td>\n",
       "      <td>1</td>\n",
       "      <td>Scientific Literature</td>\n",
       "      <td>J Med Chem</td>\n",
       "      <td>1997.0</td>\n",
       "      <td>NaN</td>\n",
       "      <td>NaN</td>\n",
       "      <td>NaN</td>\n",
       "      <td>NaN</td>\n",
       "    </tr>\n",
       "    <tr>\n",
       "      <th>3323</th>\n",
       "      <td>CHEMBL4634634</td>\n",
       "      <td>NaN</td>\n",
       "      <td>NaN</td>\n",
       "      <td>365.44</td>\n",
       "      <td>0.0</td>\n",
       "      <td>1.44</td>\n",
       "      <td>29</td>\n",
       "      <td>C[C@@H]1C[C@H]1C(=O)N1CCN(c2cnc(C#N)c(-c3cnn(C...</td>\n",
       "      <td>Inhibition</td>\n",
       "      <td>'='</td>\n",
       "      <td>-24.00</td>\n",
       "      <td>%</td>\n",
       "      <td>NaN</td>\n",
       "      <td>Outside typical range</td>\n",
       "      <td>NaN</td>\n",
       "      <td>UO_0000187</td>\n",
       "      <td>NaN</td>\n",
       "      <td>NaN</td>\n",
       "      <td>NaN</td>\n",
       "      <td>NaN</td>\n",
       "      <td>0</td>\n",
       "      <td>CHEMBL4603433</td>\n",
       "      <td>Inhibition of recombinant full-length human CO...</td>\n",
       "      <td>B</td>\n",
       "      <td>BAO_0000219</td>\n",
       "      <td>cell-based format</td>\n",
       "      <td>Homo sapiens</td>\n",
       "      <td>NaN</td>\n",
       "      <td>NaN</td>\n",
       "      <td>Sf21</td>\n",
       "      <td>NaN</td>\n",
       "      <td>NaN</td>\n",
       "      <td>NaN</td>\n",
       "      <td>NaN</td>\n",
       "      <td>CHEMBL230</td>\n",
       "      <td>Cyclooxygenase-2</td>\n",
       "      <td>Homo sapiens</td>\n",
       "      <td>SINGLE PROTEIN</td>\n",
       "      <td>CHEMBL4602617</td>\n",
       "      <td>1</td>\n",
       "      <td>Scientific Literature</td>\n",
       "      <td>Bioorg Med Chem Lett</td>\n",
       "      <td>2020.0</td>\n",
       "      <td>CHEMBL4106362</td>\n",
       "      <td>NaN</td>\n",
       "      <td>NaN</td>\n",
       "      <td>NaN</td>\n",
       "    </tr>\n",
       "    <tr>\n",
       "      <th>97</th>\n",
       "      <td>CHEMBL358783</td>\n",
       "      <td>NaN</td>\n",
       "      <td>NaN</td>\n",
       "      <td>298.40</td>\n",
       "      <td>0.0</td>\n",
       "      <td>3.36</td>\n",
       "      <td>81</td>\n",
       "      <td>CCCCCCCS(=O)(=O)c1ccccc1OC(C)=O</td>\n",
       "      <td>IC50</td>\n",
       "      <td>'&gt;'</td>\n",
       "      <td>40000.00</td>\n",
       "      <td>nM</td>\n",
       "      <td>NaN</td>\n",
       "      <td>NaN</td>\n",
       "      <td>NaN</td>\n",
       "      <td>UO_0000065</td>\n",
       "      <td>NaN</td>\n",
       "      <td>NaN</td>\n",
       "      <td>NaN</td>\n",
       "      <td>NaN</td>\n",
       "      <td>0</td>\n",
       "      <td>CHEMBL760085</td>\n",
       "      <td>Inhibitory concentration in DMSO with purified...</td>\n",
       "      <td>B</td>\n",
       "      <td>BAO_0000357</td>\n",
       "      <td>single protein format</td>\n",
       "      <td>NaN</td>\n",
       "      <td>NaN</td>\n",
       "      <td>NaN</td>\n",
       "      <td>NaN</td>\n",
       "      <td>NaN</td>\n",
       "      <td>NaN</td>\n",
       "      <td>NaN</td>\n",
       "      <td>NaN</td>\n",
       "      <td>CHEMBL230</td>\n",
       "      <td>Cyclooxygenase-2</td>\n",
       "      <td>Homo sapiens</td>\n",
       "      <td>SINGLE PROTEIN</td>\n",
       "      <td>CHEMBL1131194</td>\n",
       "      <td>1</td>\n",
       "      <td>Scientific Literature</td>\n",
       "      <td>J Med Chem</td>\n",
       "      <td>1998.0</td>\n",
       "      <td>NaN</td>\n",
       "      <td>NaN</td>\n",
       "      <td>NaN</td>\n",
       "      <td>NaN</td>\n",
       "    </tr>\n",
       "  </tbody>\n",
       "</table>\n",
       "</div>"
      ],
      "text/plain": [
       "      Molecule ChEMBL ID        Molecule Name  Molecule Max Phase  \\\n",
       "13974       CHEMBL271227  ABIRATERONE ACETATE                 4.0   \n",
       "4025          CHEMBL1034    DICLOFENAC SODIUM                 4.0   \n",
       "6172         CHEMBL28881                  NaN                 NaN   \n",
       "3323       CHEMBL4634634                  NaN                 NaN   \n",
       "97          CHEMBL358783                  NaN                 NaN   \n",
       "\n",
       "       Molecular Weight  #RO5 Violations  AlogP         Compound Key  \\\n",
       "13974            391.56              1.0   5.97  abiraterone acetate   \n",
       "4025             318.14              0.0   4.36    Diclofenac sodium   \n",
       "6172             410.42              0.0   3.27                   1u   \n",
       "3323             365.44              0.0   1.44                   29   \n",
       "97               298.40              0.0   3.36                   81   \n",
       "\n",
       "                                                  Smiles Standard Type  \\\n",
       "13974  CC(=O)O[C@H]1CC[C@@]2(C)C(=CC[C@@H]3[C@@H]2CC[...          AC50   \n",
       "4025             O=C([O-])Cc1ccccc1Nc1c(Cl)cccc1Cl.[Na+]      Activity   \n",
       "6172   CN(C)c1ccc(-c2cc(C(F)(F)F)nn2-c2ccc(S(N)(=O)=O...          IC50   \n",
       "3323   C[C@@H]1C[C@H]1C(=O)N1CCN(c2cnc(C#N)c(-c3cnn(C...    Inhibition   \n",
       "97                       CCCCCCCS(=O)(=O)c1ccccc1OC(C)=O          IC50   \n",
       "\n",
       "      Standard Relation  Standard Value Standard Units  pChEMBL Value  \\\n",
       "13974               '>'        30000.00             nM            NaN   \n",
       "4025                '='           26.98          pg/ml            NaN   \n",
       "6172                '='            4.70             nM           8.33   \n",
       "3323                '='          -24.00              %            NaN   \n",
       "97                  '>'        40000.00             nM            NaN   \n",
       "\n",
       "       Data Validity Comment  \\\n",
       "13974                    NaN   \n",
       "4025                     NaN   \n",
       "6172                     NaN   \n",
       "3323   Outside typical range   \n",
       "97                       NaN   \n",
       "\n",
       "                                                 Comment    Uo Units  \\\n",
       "13974  Summarised AC50 (mean value for measurements w...  UO_0000065   \n",
       "4025                                                 NaN         NaN   \n",
       "6172                                                 NaN  UO_0000065   \n",
       "3323                                                 NaN  UO_0000187   \n",
       "97                                                   NaN  UO_0000065   \n",
       "\n",
       "       Ligand Efficiency BEI  Ligand Efficiency LE  Ligand Efficiency LLE  \\\n",
       "13974                    NaN                   NaN                    NaN   \n",
       "4025                     NaN                   NaN                    NaN   \n",
       "6172                   20.29                  0.41                   5.06   \n",
       "3323                     NaN                   NaN                    NaN   \n",
       "97                       NaN                   NaN                    NaN   \n",
       "\n",
       "       Ligand Efficiency SEI  Potential Duplicate Assay ChEMBL ID  \\\n",
       "13974                    NaN                    0   CHEMBL5291870   \n",
       "4025                     NaN                    0   CHEMBL4770908   \n",
       "6172                   10.25                    0    CHEMBL763093   \n",
       "3323                     NaN                    0   CHEMBL4603433   \n",
       "97                       NaN                    0    CHEMBL760085   \n",
       "\n",
       "                                       Assay Description Assay Type  \\\n",
       "13974  Compound was evaluated for inhibition of human...          F   \n",
       "4025   Inhibition of COX2 in LPS-stimulated human HT-...          B   \n",
       "6172   In vitro inhibitory concentration required to ...          B   \n",
       "3323   Inhibition of recombinant full-length human CO...          B   \n",
       "97     Inhibitory concentration in DMSO with purified...          B   \n",
       "\n",
       "      BAO Format ID              BAO Label Assay Organism  \\\n",
       "13974   BAO_0000019           assay format            NaN   \n",
       "4025    BAO_0000221    tissue-based format   Homo sapiens   \n",
       "6172    BAO_0000357  single protein format            NaN   \n",
       "3323    BAO_0000219      cell-based format   Homo sapiens   \n",
       "97      BAO_0000357  single protein format            NaN   \n",
       "\n",
       "      Assay Tissue ChEMBL ID Assay Tissue Name Assay Cell Type  \\\n",
       "13974                    NaN               NaN             NaN   \n",
       "4025                     NaN               NaN           HT-29   \n",
       "6172                     NaN               NaN             NaN   \n",
       "3323                     NaN               NaN            Sf21   \n",
       "97                       NaN               NaN             NaN   \n",
       "\n",
       "      Assay Subcellular Fraction Assay Parameters  Assay Variant Accession  \\\n",
       "13974                        NaN              NaN                      NaN   \n",
       "4025                         NaN              NaN                      NaN   \n",
       "6172                         NaN              NaN                      NaN   \n",
       "3323                         NaN              NaN                      NaN   \n",
       "97                           NaN              NaN                      NaN   \n",
       "\n",
       "       Assay Variant Mutation Target ChEMBL ID       Target Name  \\\n",
       "13974                     NaN        CHEMBL230  Cyclooxygenase-2   \n",
       "4025                      NaN        CHEMBL230  Cyclooxygenase-2   \n",
       "6172                      NaN        CHEMBL230  Cyclooxygenase-2   \n",
       "3323                      NaN        CHEMBL230  Cyclooxygenase-2   \n",
       "97                        NaN        CHEMBL230  Cyclooxygenase-2   \n",
       "\n",
       "      Target Organism     Target Type Document ChEMBL ID  Source ID  \\\n",
       "13974    Homo sapiens  SINGLE PROTEIN      CHEMBL5291721          1   \n",
       "4025     Homo sapiens  SINGLE PROTEIN      CHEMBL4765344          1   \n",
       "6172     Homo sapiens  SINGLE PROTEIN      CHEMBL1130002          1   \n",
       "3323     Homo sapiens  SINGLE PROTEIN      CHEMBL4602617          1   \n",
       "97       Homo sapiens  SINGLE PROTEIN      CHEMBL1131194          1   \n",
       "\n",
       "          Source Description      Document Journal  Document Year  \\\n",
       "13974  Scientific Literature            Nat Commun         2023.0   \n",
       "4025   Scientific Literature        Eur J Med Chem         2020.0   \n",
       "6172   Scientific Literature            J Med Chem         1997.0   \n",
       "3323   Scientific Literature  Bioorg Med Chem Lett         2020.0   \n",
       "97     Scientific Literature            J Med Chem         1998.0   \n",
       "\n",
       "      Cell ChEMBL ID                            Properties Action Type  \\\n",
       "13974            NaN                                   NaN         NaN   \n",
       "4025             NaN  Dose = 300.0 microM | TIME = 48.0 hr   INHIBITOR   \n",
       "6172             NaN                                   NaN         NaN   \n",
       "3323   CHEMBL4106362                                   NaN         NaN   \n",
       "97               NaN                                   NaN         NaN   \n",
       "\n",
       "       Standard Text Value  \n",
       "13974                  NaN  \n",
       "4025                   NaN  \n",
       "6172                   NaN  \n",
       "3323                   NaN  \n",
       "97                     NaN  "
      ]
     },
     "execution_count": 4,
     "metadata": {},
     "output_type": "execute_result"
    }
   ],
   "source": [
    "cox2db = pd.read_csv(\"data/ChEMBL_COX-2_2024-08-28.csv\", sep=\";\")\n",
    "cox2db.sample(5)"
   ]
  },
  {
   "cell_type": "markdown",
   "id": "d056a096-8354-49f9-a34f-6d5e9beb1570",
   "metadata": {},
   "source": [
    "That's a lot of stuff. This is the list of columns available:"
   ]
  },
  {
   "cell_type": "code",
   "execution_count": 5,
   "id": "worthy-conversion",
   "metadata": {
    "tags": []
   },
   "outputs": [
    {
     "data": {
      "text/plain": [
       "Index(['Molecule ChEMBL ID', 'Molecule Name', 'Molecule Max Phase',\n",
       "       'Molecular Weight', '#RO5 Violations', 'AlogP', 'Compound Key',\n",
       "       'Smiles', 'Standard Type', 'Standard Relation', 'Standard Value',\n",
       "       'Standard Units', 'pChEMBL Value', 'Data Validity Comment', 'Comment',\n",
       "       'Uo Units', 'Ligand Efficiency BEI', 'Ligand Efficiency LE',\n",
       "       'Ligand Efficiency LLE', 'Ligand Efficiency SEI', 'Potential Duplicate',\n",
       "       'Assay ChEMBL ID', 'Assay Description', 'Assay Type', 'BAO Format ID',\n",
       "       'BAO Label', 'Assay Organism', 'Assay Tissue ChEMBL ID',\n",
       "       'Assay Tissue Name', 'Assay Cell Type', 'Assay Subcellular Fraction',\n",
       "       'Assay Parameters', 'Assay Variant Accession', 'Assay Variant Mutation',\n",
       "       'Target ChEMBL ID', 'Target Name', 'Target Organism', 'Target Type',\n",
       "       'Document ChEMBL ID', 'Source ID', 'Source Description',\n",
       "       'Document Journal', 'Document Year', 'Cell ChEMBL ID', 'Properties',\n",
       "       'Action Type', 'Standard Text Value'],\n",
       "      dtype='object')"
      ]
     },
     "execution_count": 5,
     "metadata": {},
     "output_type": "execute_result"
    }
   ],
   "source": [
    "cox2db.columns"
   ]
  },
  {
   "cell_type": "code",
   "execution_count": 6,
   "id": "brutal-stupid",
   "metadata": {
    "tags": []
   },
   "outputs": [
    {
     "data": {
      "text/plain": [
       "(13999, 47)"
      ]
     },
     "execution_count": 6,
     "metadata": {},
     "output_type": "execute_result"
    }
   ],
   "source": [
    "cox2db.shape"
   ]
  },
  {
   "cell_type": "markdown",
   "id": "dominant-removal",
   "metadata": {},
   "source": [
    "## Unique molecules"
   ]
  },
  {
   "cell_type": "markdown",
   "id": "lasting-capacity",
   "metadata": {},
   "source": [
    "The database has a total of 13,999 *entries*, which were collected from diverse sources. How many are really unique? We can check by the `ChEMBL ID`, which is an unique identifier for each molecule: "
   ]
  },
  {
   "cell_type": "code",
   "execution_count": 7,
   "id": "searching-thanks",
   "metadata": {
    "tags": []
   },
   "outputs": [
    {
     "data": {
      "text/plain": [
       "8582"
      ]
     },
     "execution_count": 7,
     "metadata": {},
     "output_type": "execute_result"
    }
   ],
   "source": [
    "len(cox2db['Molecule ChEMBL ID'].unique())"
   ]
  },
  {
   "cell_type": "markdown",
   "id": "federal-chapter",
   "metadata": {},
   "source": [
    "From the total of 13,999 entries, only 8,582 have unique IDs. \n",
    "\n",
    "Furthermore, if we check the SMILES representations:"
   ]
  },
  {
   "cell_type": "code",
   "execution_count": 8,
   "id": "essential-billy",
   "metadata": {
    "tags": []
   },
   "outputs": [
    {
     "data": {
      "text/plain": [
       "8545"
      ]
     },
     "execution_count": 8,
     "metadata": {},
     "output_type": "execute_result"
    }
   ],
   "source": [
    "len(cox2db['Smiles'].unique())"
   ]
  },
  {
   "cell_type": "markdown",
   "id": "7b0c78f4-9641-4b4f-96b0-05a42dc506f6",
   "metadata": {},
   "source": [
    "There seems to be some molecules with different IDs but the same SMILES!\n",
    "\n",
    "Let's look at the repetitions of molecules with the same ID:"
   ]
  },
  {
   "cell_type": "code",
   "execution_count": 9,
   "id": "aggregate-fifth",
   "metadata": {
    "tags": []
   },
   "outputs": [
    {
     "data": {
      "text/plain": [
       "Molecule ChEMBL ID\n",
       "CHEMBL118        291\n",
       "CHEMBL6          172\n",
       "CHEMBL122         83\n",
       "CHEMBL521         52\n",
       "CHEMBL7162        36\n",
       "                ... \n",
       "CHEMBL2105059      1\n",
       "CHEMBL1201338      1\n",
       "CHEMBL521686       1\n",
       "CHEMBL708          1\n",
       "CHEMBL1697733      1\n",
       "Name: count, Length: 8582, dtype: int64"
      ]
     },
     "execution_count": 9,
     "metadata": {},
     "output_type": "execute_result"
    }
   ],
   "source": [
    "id_counts = cox2db['Molecule ChEMBL ID'].value_counts()\n",
    "id_counts"
   ]
  },
  {
   "cell_type": "markdown",
   "id": "proved-serum",
   "metadata": {},
   "source": [
    "Some molecules appear in various experiments. For example, Celecoxib ([CHEMBL118](https://www.ebi.ac.uk/chembl/compound_report_card/CHEMBL118/)) is a reference in many studies."
   ]
  },
  {
   "cell_type": "code",
   "execution_count": 10,
   "id": "lyric-scratch",
   "metadata": {
    "tags": []
   },
   "outputs": [
    {
     "data": {
      "image/png": "[encoded data removed]",
      "text/plain": [
       "<rdkit.Chem.rdchem.Mol at 0x14ac6579f450>"
      ]
     },
     "execution_count": 10,
     "metadata": {},
     "output_type": "execute_result"
    }
   ],
   "source": [
    "Chem.MolFromSmiles(cox2db[ cox2db['Molecule ChEMBL ID'] == 'CHEMBL118']['Smiles'].unique()[0])"
   ]
  },
  {
   "cell_type": "markdown",
   "id": "documented-growth",
   "metadata": {},
   "source": [
    "## Example: Celecoxib (CHEMBL118)"
   ]
  },
  {
   "cell_type": "markdown",
   "id": "assumed-shark",
   "metadata": {},
   "source": [
    "It is likely that the repetitions mean different assays. Especially, some common known COX-2 inhibitors are used in many assays as reference. For example, Celecoxib ([CHEMBL118](https://www.ebi.ac.uk/chembl/compound_report_card/CHEMBL118/)) appears in 287 different assays of 10 different types:"
   ]
  },
  {
   "cell_type": "code",
   "execution_count": 11,
   "id": "seventh-treaty",
   "metadata": {
    "tags": []
   },
   "outputs": [
    {
     "data": {
      "text/plain": [
       "287"
      ]
     },
     "execution_count": 11,
     "metadata": {},
     "output_type": "execute_result"
    }
   ],
   "source": [
    "len(cox2db[ cox2db['Molecule ChEMBL ID'] == 'CHEMBL118']['Assay ChEMBL ID'].unique())"
   ]
  },
  {
   "cell_type": "code",
   "execution_count": 12,
   "id": "elegant-natural",
   "metadata": {
    "tags": []
   },
   "outputs": [
    {
     "data": {
      "text/plain": [
       "Standard Type\n",
       "IC50          209\n",
       "Inhibition     66\n",
       "Activity        8\n",
       "Ki              2\n",
       "Delta G         1\n",
       "Ka              1\n",
       "FC              1\n",
       "INH             1\n",
       "AC50            1\n",
       "T1/2            1\n",
       "Name: count, dtype: int64"
      ]
     },
     "execution_count": 12,
     "metadata": {},
     "output_type": "execute_result"
    }
   ],
   "source": [
    "cox2db[ cox2db['Molecule ChEMBL ID'] == 'CHEMBL118']['Standard Type'].value_counts()"
   ]
  },
  {
   "cell_type": "markdown",
   "id": "straight-quantum",
   "metadata": {},
   "source": [
    "### $IC_{50}s$"
   ]
  },
  {
   "cell_type": "markdown",
   "id": "armed-people",
   "metadata": {},
   "source": [
    "Most values (209) are for IC50, which is notoriously imprecise. Note the variation in values:"
   ]
  },
  {
   "cell_type": "code",
   "execution_count": 13,
   "id": "listed-typing",
   "metadata": {
    "tags": []
   },
   "outputs": [
    {
     "data": {
      "text/plain": [
       "count       209.000000\n",
       "mean       4257.572967\n",
       "std       40029.361475\n",
       "min           0.520000\n",
       "25%          40.000000\n",
       "50%         100.000000\n",
       "75%         440.000000\n",
       "max      430000.000000\n",
       "Name: Standard Value, dtype: float64"
      ]
     },
     "execution_count": 13,
     "metadata": {},
     "output_type": "execute_result"
    }
   ],
   "source": [
    "cox2db[ (cox2db['Molecule ChEMBL ID'] == 'CHEMBL118') & (cox2db['Standard Type'] == 'IC50')][\"Standard Value\"].describe()"
   ]
  },
  {
   "cell_type": "markdown",
   "id": "e61f7967-e647-42ee-8bbe-2a59224ceeba",
   "metadata": {},
   "source": [
    "First, let's check how many different units are used:"
   ]
  },
  {
   "cell_type": "code",
   "execution_count": 14,
   "id": "abandoned-december",
   "metadata": {
    "tags": []
   },
   "outputs": [
    {
     "data": {
      "text/plain": [
       "array(['nM'], dtype=object)"
      ]
     },
     "execution_count": 14,
     "metadata": {},
     "output_type": "execute_result"
    }
   ],
   "source": [
    "cox2db[ (cox2db['Molecule ChEMBL ID'] == 'CHEMBL118') & (cox2db['Standard Type'] == 'IC50')][\"Standard Units\"].unique()"
   ]
  },
  {
   "cell_type": "markdown",
   "id": "1695033a-8eba-4e4a-8955-49a7cefdebf7",
   "metadata": {},
   "source": [
    "Good... At least it seems to have only one unit reported. So, let's take a look into the results:"
   ]
  },
  {
   "cell_type": "code",
   "execution_count": 15,
   "id": "unusual-rough",
   "metadata": {
    "tags": []
   },
   "outputs": [
    {
     "data": {
      "text/plain": [
       "[Text(0.5, 0, 'IC50 Value')]"
      ]
     },
     "execution_count": 15,
     "metadata": {},
     "output_type": "execute_result"
    },
    {
     "data": {
      "image/png": "[encoded data removed]",
      "text/plain": [
       "<Figure size 640x480 with 1 Axes>"
      ]
     },
     "metadata": {},
     "output_type": "display_data"
    }
   ],
   "source": [
    "g = sns.stripplot(data = cox2db[ (cox2db['Molecule ChEMBL ID'] == 'CHEMBL118') &\n",
    "                                 (cox2db['Standard Type'] == 'IC50')\n",
    "                               ], \n",
    "                   x = \"Standard Value\")\n",
    "g.set(xlabel='IC50 Value')"
   ]
  },
  {
   "cell_type": "markdown",
   "id": "7fd370aa-588c-482e-bbd3-8cb8f9db4321",
   "metadata": {},
   "source": [
    "Ugh!!\n",
    "\n",
    "The most likely reason for the very high values are wrong reported units or typos. ChEMBL provides a column with comments about data validity:"
   ]
  },
  {
   "cell_type": "code",
   "execution_count": 16,
   "id": "seventh-asset",
   "metadata": {
    "tags": []
   },
   "outputs": [
    {
     "data": {
      "text/plain": [
       "array([nan, 'Outside typical range', 'Potential transcription error',\n",
       "       'Potential missing data'], dtype=object)"
      ]
     },
     "execution_count": 16,
     "metadata": {},
     "output_type": "execute_result"
    }
   ],
   "source": [
    "cox2db['Data Validity Comment'].unique()"
   ]
  },
  {
   "cell_type": "markdown",
   "id": "da62b329-cbbd-4e07-83b2-2555386a732e",
   "metadata": {
    "tags": []
   },
   "source": [
    "Let's see which comments are in the database:"
   ]
  },
  {
   "cell_type": "code",
   "execution_count": 17,
   "id": "a56ff6cd-7481-4fb5-9b46-3df2426c429b",
   "metadata": {
    "tags": []
   },
   "outputs": [
    {
     "data": {
      "text/plain": [
       "Data Validity Comment\n",
       "Outside typical range            409\n",
       "Potential transcription error      9\n",
       "Potential missing data             1\n",
       "Name: count, dtype: int64"
      ]
     },
     "execution_count": 17,
     "metadata": {},
     "output_type": "execute_result"
    }
   ],
   "source": [
    "cox2db['Data Validity Comment'].value_counts()"
   ]
  },
  {
   "cell_type": "markdown",
   "id": "74b74544-1e8d-4139-864b-14e2252440d8",
   "metadata": {},
   "source": [
    "The `Data Validity Comment` column only has any contents when there is some indication that the data may be wrong. So, we can use this column to filter out obviuos outliers and dubious data. Does it get better?"
   ]
  },
  {
   "cell_type": "code",
   "execution_count": 18,
   "id": "d304ab8c-28b6-4989-8d5a-c298721f14da",
   "metadata": {
    "tags": []
   },
   "outputs": [
    {
     "data": {
      "text/plain": [
       "[Text(0.5, 0, 'IC50 Value')]"
      ]
     },
     "execution_count": 18,
     "metadata": {},
     "output_type": "execute_result"
    },
    {
     "data": {
      "image/png": "[encoded data removed]",
      "text/plain": [
       "<Figure size 640x480 with 1 Axes>"
      ]
     },
     "metadata": {},
     "output_type": "display_data"
    }
   ],
   "source": [
    "g = sns.stripplot(data = cox2db[ (cox2db['Molecule ChEMBL ID'] == 'CHEMBL118') &\n",
    "                                 (cox2db['Standard Type'] == 'IC50') &\n",
    "                                 (cox2db['Data Validity Comment'].isna())\n",
    "                               ], \n",
    "                   x = \"Standard Value\")\n",
    "g.set(xlabel='IC50 Value')"
   ]
  },
  {
   "cell_type": "markdown",
   "id": "linear-lobby",
   "metadata": {},
   "source": [
    "A bit better... But there's still some values that are way too high. If we remove the aberrant values above 1,000, we get:"
   ]
  },
  {
   "cell_type": "code",
   "execution_count": 19,
   "id": "silver-union",
   "metadata": {
    "tags": []
   },
   "outputs": [
    {
     "data": {
      "text/plain": [
       "[Text(0.5, 23.52222222222222, 'IC50 Value')]"
      ]
     },
     "execution_count": 19,
     "metadata": {},
     "output_type": "execute_result"
    },
    {
     "data": {
      "image/png": "[encoded data removed]",
      "text/plain": [
       "<Figure size 640x480 with 1 Axes>"
      ]
     },
     "metadata": {},
     "output_type": "display_data"
    }
   ],
   "source": [
    "g = sns.swarmplot(data = cox2db[ (cox2db['Molecule ChEMBL ID'] == 'CHEMBL118') &\n",
    "                                 (cox2db['Standard Type'] == 'IC50') &\n",
    "                                 (cox2db['Data Validity Comment'].isna()) &\n",
    "                                 (cox2db['Standard Value'] < 1000)\n",
    "                               ], \n",
    "                   x = \"Standard Value\")\n",
    "g.set(xlabel='IC50 Value')"
   ]
  },
  {
   "cell_type": "markdown",
   "id": "42d601e2-dabc-4399-9bfd-d410d6e74013",
   "metadata": {},
   "source": [
    "So, what is the $IC_{50}$ for Celecoxib, after all?"
   ]
  },
  {
   "cell_type": "markdown",
   "id": "artistic-allah",
   "metadata": {},
   "source": [
    "As an aside, instead of the $IC_{50}s$, we can use the $-Log(IC_{50})$ value, which has less variation. Let's look at it's distribution:"
   ]
  },
  {
   "cell_type": "code",
   "execution_count": 20,
   "id": "lined-harbor",
   "metadata": {
    "tags": []
   },
   "outputs": [
    {
     "data": {
      "text/plain": [
       "<Axes: xlabel='pChEMBL Value'>"
      ]
     },
     "execution_count": 20,
     "metadata": {},
     "output_type": "execute_result"
    },
    {
     "data": {
      "image/png": "[encoded data removed]",
      "text/plain": [
       "<Figure size 640x480 with 1 Axes>"
      ]
     },
     "metadata": {},
     "output_type": "display_data"
    }
   ],
   "source": [
    "sns.swarmplot(data=cox2db[(cox2db['Molecule ChEMBL ID'] == 'CHEMBL118') &\n",
    "                          (cox2db['Standard Type'] == 'IC50') &\n",
    "                          (cox2db['Standard Relation'] == \"'='\") &\n",
    "                          (cox2db['Data Validity Comment'].isna()) &\n",
    "                          (cox2db['Standard Value'] < 1000)\n",
    "                        ],\n",
    "             x='pChEMBL Value')"
   ]
  },
  {
   "cell_type": "markdown",
   "id": "offshore-computer",
   "metadata": {},
   "source": [
    "### Inhibition"
   ]
  },
  {
   "cell_type": "markdown",
   "id": "overhead-casting",
   "metadata": {},
   "source": [
    "66 of the experiments report \"Inhibition\": "
   ]
  },
  {
   "cell_type": "code",
   "execution_count": 21,
   "id": "affiliated-nutrition",
   "metadata": {
    "tags": []
   },
   "outputs": [
    {
     "data": {
      "text/plain": [
       "<Axes: xlabel='Standard Value', ylabel='Count'>"
      ]
     },
     "execution_count": 21,
     "metadata": {},
     "output_type": "execute_result"
    },
    {
     "data": {
      "image/png": "[encoded data removed]",
      "text/plain": [
       "<Figure size 640x480 with 1 Axes>"
      ]
     },
     "metadata": {},
     "output_type": "display_data"
    }
   ],
   "source": [
    "# Inhibition\n",
    "data = cox2db[ (cox2db['Molecule ChEMBL ID'] == 'CHEMBL118') &\n",
    "               (cox2db['Standard Type'] == 'Inhibition')     &\n",
    "               (cox2db['Standard Units'] == '%')]\n",
    "\n",
    "sns.histplot(data = data, x='Standard Value')"
   ]
  },
  {
   "cell_type": "code",
   "execution_count": 22,
   "id": "minor-poker",
   "metadata": {
    "tags": []
   },
   "outputs": [
    {
     "data": {
      "text/plain": [
       "count     63.000000\n",
       "mean      76.037873\n",
       "std       24.602662\n",
       "min        0.076000\n",
       "25%       60.500000\n",
       "50%       83.000000\n",
       "75%       96.200000\n",
       "max      100.000000\n",
       "Name: Standard Value, dtype: float64"
      ]
     },
     "execution_count": 22,
     "metadata": {},
     "output_type": "execute_result"
    }
   ],
   "source": [
    "data[\"Standard Value\"].describe()"
   ]
  },
  {
   "cell_type": "markdown",
   "id": "stuffed-services",
   "metadata": {},
   "source": [
    "### Activity"
   ]
  },
  {
   "cell_type": "markdown",
   "id": "personal-light",
   "metadata": {},
   "source": [
    "8 entries are just labeled \"Activity\", but the information seems meaningless. They are probably relative to some other compound, not shown here. That means those numbers cannot be used!"
   ]
  },
  {
   "cell_type": "code",
   "execution_count": 23,
   "id": "regulation-statistics",
   "metadata": {
    "tags": []
   },
   "outputs": [
    {
     "data": {
      "text/plain": [
       "<Axes: xlabel='None', ylabel='Standard Value'>"
      ]
     },
     "execution_count": 23,
     "metadata": {},
     "output_type": "execute_result"
    },
    {
     "data": {
      "image/png": "[encoded data removed]",
      "text/plain": [
       "<Figure size 640x480 with 1 Axes>"
      ]
     },
     "metadata": {},
     "output_type": "display_data"
    }
   ],
   "source": [
    "data = cox2db[ (cox2db['Molecule ChEMBL ID'] == 'CHEMBL118') & (cox2db['Standard Type'] == 'Activity')]\n",
    "sns.barplot(data=data, x=data.index, y='Standard Value')"
   ]
  },
  {
   "cell_type": "markdown",
   "id": "usual-lawyer",
   "metadata": {},
   "source": [
    "### $\\Delta G$, $K_a$ and $K_i$"
   ]
  },
  {
   "cell_type": "markdown",
   "id": "humanitarian-clark",
   "metadata": {},
   "source": [
    "Those are usually the most precise types of data, but are harder to get. There's only 4 values in the data, and it turns out the numbers in the database are not very informative:"
   ]
  },
  {
   "cell_type": "code",
   "execution_count": 24,
   "id": "revised-discussion",
   "metadata": {
    "tags": []
   },
   "outputs": [
    {
     "data": {
      "text/html": [
       "<div>\n",
       "<style scoped>\n",
       "    .dataframe tbody tr th:only-of-type {\n",
       "        vertical-align: middle;\n",
       "    }\n",
       "\n",
       "    .dataframe tbody tr th {\n",
       "        vertical-align: top;\n",
       "    }\n",
       "\n",
       "    .dataframe thead th {\n",
       "        text-align: right;\n",
       "    }\n",
       "</style>\n",
       "<table border=\"1\" class=\"dataframe\">\n",
       "  <thead>\n",
       "    <tr style=\"text-align: right;\">\n",
       "      <th></th>\n",
       "      <th>Molecule ChEMBL ID</th>\n",
       "      <th>Molecule Name</th>\n",
       "      <th>Molecule Max Phase</th>\n",
       "      <th>Molecular Weight</th>\n",
       "      <th>#RO5 Violations</th>\n",
       "      <th>AlogP</th>\n",
       "      <th>Compound Key</th>\n",
       "      <th>Smiles</th>\n",
       "      <th>Standard Type</th>\n",
       "      <th>Standard Relation</th>\n",
       "      <th>Standard Value</th>\n",
       "      <th>Standard Units</th>\n",
       "      <th>pChEMBL Value</th>\n",
       "      <th>Data Validity Comment</th>\n",
       "      <th>Comment</th>\n",
       "      <th>Uo Units</th>\n",
       "      <th>Ligand Efficiency BEI</th>\n",
       "      <th>Ligand Efficiency LE</th>\n",
       "      <th>Ligand Efficiency LLE</th>\n",
       "      <th>Ligand Efficiency SEI</th>\n",
       "      <th>Potential Duplicate</th>\n",
       "      <th>Assay ChEMBL ID</th>\n",
       "      <th>Assay Description</th>\n",
       "      <th>Assay Type</th>\n",
       "      <th>BAO Format ID</th>\n",
       "      <th>BAO Label</th>\n",
       "      <th>Assay Organism</th>\n",
       "      <th>Assay Tissue ChEMBL ID</th>\n",
       "      <th>Assay Tissue Name</th>\n",
       "      <th>Assay Cell Type</th>\n",
       "      <th>Assay Subcellular Fraction</th>\n",
       "      <th>Assay Parameters</th>\n",
       "      <th>Assay Variant Accession</th>\n",
       "      <th>Assay Variant Mutation</th>\n",
       "      <th>Target ChEMBL ID</th>\n",
       "      <th>Target Name</th>\n",
       "      <th>Target Organism</th>\n",
       "      <th>Target Type</th>\n",
       "      <th>Document ChEMBL ID</th>\n",
       "      <th>Source ID</th>\n",
       "      <th>Source Description</th>\n",
       "      <th>Document Journal</th>\n",
       "      <th>Document Year</th>\n",
       "      <th>Cell ChEMBL ID</th>\n",
       "      <th>Properties</th>\n",
       "      <th>Action Type</th>\n",
       "      <th>Standard Text Value</th>\n",
       "    </tr>\n",
       "  </thead>\n",
       "  <tbody>\n",
       "    <tr>\n",
       "      <th>3856</th>\n",
       "      <td>CHEMBL118</td>\n",
       "      <td>CELECOXIB</td>\n",
       "      <td>4.0</td>\n",
       "      <td>381.38</td>\n",
       "      <td>0.0</td>\n",
       "      <td>3.51</td>\n",
       "      <td>1</td>\n",
       "      <td>Cc1ccc(-c2cc(C(F)(F)F)nn2-c2ccc(S(N)(=O)=O)cc2...</td>\n",
       "      <td>Delta G</td>\n",
       "      <td>'='</td>\n",
       "      <td>0.00</td>\n",
       "      <td>kCal mol-1</td>\n",
       "      <td>NaN</td>\n",
       "      <td>NaN</td>\n",
       "      <td>NaN</td>\n",
       "      <td>NaN</td>\n",
       "      <td>NaN</td>\n",
       "      <td>NaN</td>\n",
       "      <td>NaN</td>\n",
       "      <td>NaN</td>\n",
       "      <td>0</td>\n",
       "      <td>CHEMBL768430</td>\n",
       "      <td>Relative free energy of binding of compound to...</td>\n",
       "      <td>B</td>\n",
       "      <td>BAO_0000357</td>\n",
       "      <td>single protein format</td>\n",
       "      <td>NaN</td>\n",
       "      <td>NaN</td>\n",
       "      <td>NaN</td>\n",
       "      <td>NaN</td>\n",
       "      <td>NaN</td>\n",
       "      <td>NaN</td>\n",
       "      <td>NaN</td>\n",
       "      <td>NaN</td>\n",
       "      <td>CHEMBL230</td>\n",
       "      <td>Cyclooxygenase-2</td>\n",
       "      <td>Homo sapiens</td>\n",
       "      <td>SINGLE PROTEIN</td>\n",
       "      <td>CHEMBL1134800</td>\n",
       "      <td>1</td>\n",
       "      <td>Scientific Literature</td>\n",
       "      <td>Bioorg Med Chem Lett</td>\n",
       "      <td>2001.0</td>\n",
       "      <td>NaN</td>\n",
       "      <td>NaN</td>\n",
       "      <td>NaN</td>\n",
       "      <td>NaN</td>\n",
       "    </tr>\n",
       "    <tr>\n",
       "      <th>8232</th>\n",
       "      <td>CHEMBL118</td>\n",
       "      <td>CELECOXIB</td>\n",
       "      <td>4.0</td>\n",
       "      <td>381.38</td>\n",
       "      <td>0.0</td>\n",
       "      <td>3.51</td>\n",
       "      <td>CELECOXIB</td>\n",
       "      <td>Cc1ccc(-c2cc(C(F)(F)F)nn2-c2ccc(S(N)(=O)=O)cc2...</td>\n",
       "      <td>Ka</td>\n",
       "      <td>'='</td>\n",
       "      <td>2.15</td>\n",
       "      <td>10'4/M</td>\n",
       "      <td>NaN</td>\n",
       "      <td>NaN</td>\n",
       "      <td>NaN</td>\n",
       "      <td>NaN</td>\n",
       "      <td>NaN</td>\n",
       "      <td>NaN</td>\n",
       "      <td>NaN</td>\n",
       "      <td>NaN</td>\n",
       "      <td>0</td>\n",
       "      <td>CHEMBL3380382</td>\n",
       "      <td>Binding affinity to COX-2 (unknown origin) by ...</td>\n",
       "      <td>B</td>\n",
       "      <td>BAO_0000357</td>\n",
       "      <td>single protein format</td>\n",
       "      <td>Homo sapiens</td>\n",
       "      <td>NaN</td>\n",
       "      <td>NaN</td>\n",
       "      <td>NaN</td>\n",
       "      <td>NaN</td>\n",
       "      <td>NaN</td>\n",
       "      <td>NaN</td>\n",
       "      <td>NaN</td>\n",
       "      <td>CHEMBL230</td>\n",
       "      <td>Cyclooxygenase-2</td>\n",
       "      <td>Homo sapiens</td>\n",
       "      <td>SINGLE PROTEIN</td>\n",
       "      <td>CHEMBL3351295</td>\n",
       "      <td>1</td>\n",
       "      <td>Scientific Literature</td>\n",
       "      <td>Eur J Med Chem</td>\n",
       "      <td>2014.0</td>\n",
       "      <td>NaN</td>\n",
       "      <td>NaN</td>\n",
       "      <td>NaN</td>\n",
       "      <td>NaN</td>\n",
       "    </tr>\n",
       "    <tr>\n",
       "      <th>8265</th>\n",
       "      <td>CHEMBL118</td>\n",
       "      <td>CELECOXIB</td>\n",
       "      <td>4.0</td>\n",
       "      <td>381.38</td>\n",
       "      <td>0.0</td>\n",
       "      <td>3.51</td>\n",
       "      <td>CELECOXIB</td>\n",
       "      <td>Cc1ccc(-c2cc(C(F)(F)F)nn2-c2ccc(S(N)(=O)=O)cc2...</td>\n",
       "      <td>Ki</td>\n",
       "      <td>NaN</td>\n",
       "      <td>NaN</td>\n",
       "      <td>NaN</td>\n",
       "      <td>NaN</td>\n",
       "      <td>NaN</td>\n",
       "      <td>Note: corresponding IC50 reported as Active</td>\n",
       "      <td>NaN</td>\n",
       "      <td>NaN</td>\n",
       "      <td>NaN</td>\n",
       "      <td>NaN</td>\n",
       "      <td>NaN</td>\n",
       "      <td>0</td>\n",
       "      <td>CHEMBL1909131</td>\n",
       "      <td>DRUGMATRIX: Cyclooxygenase COX-2 enzyme inhibi...</td>\n",
       "      <td>B</td>\n",
       "      <td>BAO_0000219</td>\n",
       "      <td>cell-based format</td>\n",
       "      <td>NaN</td>\n",
       "      <td>NaN</td>\n",
       "      <td>NaN</td>\n",
       "      <td>Sf21</td>\n",
       "      <td>NaN</td>\n",
       "      <td>NaN</td>\n",
       "      <td>NaN</td>\n",
       "      <td>NaN</td>\n",
       "      <td>CHEMBL230</td>\n",
       "      <td>Cyclooxygenase-2</td>\n",
       "      <td>Homo sapiens</td>\n",
       "      <td>SINGLE PROTEIN</td>\n",
       "      <td>CHEMBL1909046</td>\n",
       "      <td>15</td>\n",
       "      <td>DrugMatrix</td>\n",
       "      <td>NaN</td>\n",
       "      <td>NaN</td>\n",
       "      <td>CHEMBL4106362</td>\n",
       "      <td>NaN</td>\n",
       "      <td>NaN</td>\n",
       "      <td>NaN</td>\n",
       "    </tr>\n",
       "    <tr>\n",
       "      <th>9734</th>\n",
       "      <td>CHEMBL118</td>\n",
       "      <td>CELECOXIB</td>\n",
       "      <td>4.0</td>\n",
       "      <td>381.38</td>\n",
       "      <td>0.0</td>\n",
       "      <td>3.51</td>\n",
       "      <td>Celecoxib</td>\n",
       "      <td>Cc1ccc(-c2cc(C(F)(F)F)nn2-c2ccc(S(N)(=O)=O)cc2...</td>\n",
       "      <td>Ki</td>\n",
       "      <td>'='</td>\n",
       "      <td>0.47</td>\n",
       "      <td>nM</td>\n",
       "      <td>9.33</td>\n",
       "      <td>NaN</td>\n",
       "      <td>NaN</td>\n",
       "      <td>UO_0000065</td>\n",
       "      <td>24.46</td>\n",
       "      <td>0.49</td>\n",
       "      <td>5.82</td>\n",
       "      <td>11.96</td>\n",
       "      <td>0</td>\n",
       "      <td>CHEMBL4810382</td>\n",
       "      <td>Inhibition of human recombinant COX-2 using ar...</td>\n",
       "      <td>B</td>\n",
       "      <td>BAO_0000357</td>\n",
       "      <td>single protein format</td>\n",
       "      <td>Homo sapiens</td>\n",
       "      <td>NaN</td>\n",
       "      <td>NaN</td>\n",
       "      <td>NaN</td>\n",
       "      <td>NaN</td>\n",
       "      <td>NaN</td>\n",
       "      <td>NaN</td>\n",
       "      <td>NaN</td>\n",
       "      <td>CHEMBL230</td>\n",
       "      <td>Cyclooxygenase-2</td>\n",
       "      <td>Homo sapiens</td>\n",
       "      <td>SINGLE PROTEIN</td>\n",
       "      <td>CHEMBL4808216</td>\n",
       "      <td>1</td>\n",
       "      <td>Scientific Literature</td>\n",
       "      <td>J Med Chem</td>\n",
       "      <td>2021.0</td>\n",
       "      <td>NaN</td>\n",
       "      <td>TIME = 1.0 hr</td>\n",
       "      <td>INHIBITOR</td>\n",
       "      <td>NaN</td>\n",
       "    </tr>\n",
       "  </tbody>\n",
       "</table>\n",
       "</div>"
      ],
      "text/plain": [
       "     Molecule ChEMBL ID Molecule Name  Molecule Max Phase  Molecular Weight  \\\n",
       "3856          CHEMBL118     CELECOXIB                 4.0            381.38   \n",
       "8232          CHEMBL118     CELECOXIB                 4.0            381.38   \n",
       "8265          CHEMBL118     CELECOXIB                 4.0            381.38   \n",
       "9734          CHEMBL118     CELECOXIB                 4.0            381.38   \n",
       "\n",
       "      #RO5 Violations  AlogP Compound Key  \\\n",
       "3856              0.0   3.51            1   \n",
       "8232              0.0   3.51    CELECOXIB   \n",
       "8265              0.0   3.51    CELECOXIB   \n",
       "9734              0.0   3.51    Celecoxib   \n",
       "\n",
       "                                                 Smiles Standard Type  \\\n",
       "3856  Cc1ccc(-c2cc(C(F)(F)F)nn2-c2ccc(S(N)(=O)=O)cc2...       Delta G   \n",
       "8232  Cc1ccc(-c2cc(C(F)(F)F)nn2-c2ccc(S(N)(=O)=O)cc2...            Ka   \n",
       "8265  Cc1ccc(-c2cc(C(F)(F)F)nn2-c2ccc(S(N)(=O)=O)cc2...            Ki   \n",
       "9734  Cc1ccc(-c2cc(C(F)(F)F)nn2-c2ccc(S(N)(=O)=O)cc2...            Ki   \n",
       "\n",
       "     Standard Relation  Standard Value Standard Units  pChEMBL Value  \\\n",
       "3856               '='            0.00     kCal mol-1            NaN   \n",
       "8232               '='            2.15         10'4/M            NaN   \n",
       "8265               NaN             NaN            NaN            NaN   \n",
       "9734               '='            0.47             nM           9.33   \n",
       "\n",
       "     Data Validity Comment                                      Comment  \\\n",
       "3856                   NaN                                          NaN   \n",
       "8232                   NaN                                          NaN   \n",
       "8265                   NaN  Note: corresponding IC50 reported as Active   \n",
       "9734                   NaN                                          NaN   \n",
       "\n",
       "        Uo Units  Ligand Efficiency BEI  Ligand Efficiency LE  \\\n",
       "3856         NaN                    NaN                   NaN   \n",
       "8232         NaN                    NaN                   NaN   \n",
       "8265         NaN                    NaN                   NaN   \n",
       "9734  UO_0000065                  24.46                  0.49   \n",
       "\n",
       "      Ligand Efficiency LLE  Ligand Efficiency SEI  Potential Duplicate  \\\n",
       "3856                    NaN                    NaN                    0   \n",
       "8232                    NaN                    NaN                    0   \n",
       "8265                    NaN                    NaN                    0   \n",
       "9734                   5.82                  11.96                    0   \n",
       "\n",
       "     Assay ChEMBL ID                                  Assay Description  \\\n",
       "3856    CHEMBL768430  Relative free energy of binding of compound to...   \n",
       "8232   CHEMBL3380382  Binding affinity to COX-2 (unknown origin) by ...   \n",
       "8265   CHEMBL1909131  DRUGMATRIX: Cyclooxygenase COX-2 enzyme inhibi...   \n",
       "9734   CHEMBL4810382  Inhibition of human recombinant COX-2 using ar...   \n",
       "\n",
       "     Assay Type BAO Format ID              BAO Label Assay Organism  \\\n",
       "3856          B   BAO_0000357  single protein format            NaN   \n",
       "8232          B   BAO_0000357  single protein format   Homo sapiens   \n",
       "8265          B   BAO_0000219      cell-based format            NaN   \n",
       "9734          B   BAO_0000357  single protein format   Homo sapiens   \n",
       "\n",
       "     Assay Tissue ChEMBL ID Assay Tissue Name Assay Cell Type  \\\n",
       "3856                    NaN               NaN             NaN   \n",
       "8232                    NaN               NaN             NaN   \n",
       "8265                    NaN               NaN            Sf21   \n",
       "9734                    NaN               NaN             NaN   \n",
       "\n",
       "     Assay Subcellular Fraction Assay Parameters  Assay Variant Accession  \\\n",
       "3856                        NaN              NaN                      NaN   \n",
       "8232                        NaN              NaN                      NaN   \n",
       "8265                        NaN              NaN                      NaN   \n",
       "9734                        NaN              NaN                      NaN   \n",
       "\n",
       "      Assay Variant Mutation Target ChEMBL ID       Target Name  \\\n",
       "3856                     NaN        CHEMBL230  Cyclooxygenase-2   \n",
       "8232                     NaN        CHEMBL230  Cyclooxygenase-2   \n",
       "8265                     NaN        CHEMBL230  Cyclooxygenase-2   \n",
       "9734                     NaN        CHEMBL230  Cyclooxygenase-2   \n",
       "\n",
       "     Target Organism     Target Type Document ChEMBL ID  Source ID  \\\n",
       "3856    Homo sapiens  SINGLE PROTEIN      CHEMBL1134800          1   \n",
       "8232    Homo sapiens  SINGLE PROTEIN      CHEMBL3351295          1   \n",
       "8265    Homo sapiens  SINGLE PROTEIN      CHEMBL1909046         15   \n",
       "9734    Homo sapiens  SINGLE PROTEIN      CHEMBL4808216          1   \n",
       "\n",
       "         Source Description      Document Journal  Document Year  \\\n",
       "3856  Scientific Literature  Bioorg Med Chem Lett         2001.0   \n",
       "8232  Scientific Literature        Eur J Med Chem         2014.0   \n",
       "8265             DrugMatrix                   NaN            NaN   \n",
       "9734  Scientific Literature            J Med Chem         2021.0   \n",
       "\n",
       "     Cell ChEMBL ID     Properties Action Type  Standard Text Value  \n",
       "3856            NaN            NaN         NaN                  NaN  \n",
       "8232            NaN            NaN         NaN                  NaN  \n",
       "8265  CHEMBL4106362            NaN         NaN                  NaN  \n",
       "9734            NaN  TIME = 1.0 hr   INHIBITOR                  NaN  "
      ]
     },
     "execution_count": 24,
     "metadata": {},
     "output_type": "execute_result"
    }
   ],
   "source": [
    "data = cox2db[ (cox2db['Molecule ChEMBL ID'] == 'CHEMBL118') &\n",
    "                 ((cox2db['Standard Type'] == 'Delta G') | \n",
    "                  (cox2db['Standard Type'] == 'Ka')      |\n",
    "                  (cox2db['Standard Type'] == 'Ki')\n",
    "                 )]\n",
    "data"
   ]
  },
  {
   "cell_type": "markdown",
   "id": "hispanic-embassy",
   "metadata": {},
   "source": [
    "This $K_a$ can be converted to a $\\Delta G$ by \n",
    "\n",
    "$\\Delta G = -R T Ln(K_a)$. \n",
    "\n",
    "Using:\n",
    "- $R = 1.987 \\times 10^{-3} kcal \\cdot K^{−1} \\cdot mol−1$\n",
    "- $T = 298 K$\n",
    "\n",
    "we get $\\Delta G = -5.91 kcal/mol$ ."
   ]
  },
  {
   "cell_type": "markdown",
   "id": "tested-grenada",
   "metadata": {},
   "source": [
    "## Exploring the Data Types in the Full Database"
   ]
  },
  {
   "cell_type": "code",
   "execution_count": 25,
   "id": "thermal-donor",
   "metadata": {
    "tags": []
   },
   "outputs": [
    {
     "data": {
      "text/plain": [
       "Standard Type\n",
       "IC50                                         7891\n",
       "Inhibition                                   3315\n",
       "AC50                                         1193\n",
       "Ki                                            899\n",
       "Activity                                      398\n",
       "Ratio IC50                                    110\n",
       "-log(RatioIC50)                                42\n",
       "NT                                             20\n",
       "Ka                                             18\n",
       "% Ctrl                                         15\n",
       "Enzyme inhibition                              12\n",
       "Imax                                           12\n",
       "Kd                                              8\n",
       "% Inhibition of Control Values (Mean n=2)       8\n",
       "T1/2                                            8\n",
       "FC                                              5\n",
       "ED50                                            4\n",
       "K                                               4\n",
       "Drug metabolism                                 4\n",
       "Delta G                                         4\n",
       "INH                                             4\n",
       "Km                                              3\n",
       "Selectivity                                     2\n",
       "IC80                                            2\n",
       "EC50                                            2\n",
       "% of inhibition                                 2\n",
       "Kcat/Km                                         2\n",
       "Kcat                                            2\n",
       "pIC50                                           1\n",
       "NI                                              1\n",
       "IC60                                            1\n",
       "effect                                          1\n",
       "Ratio                                           1\n",
       "deltaG                                          1\n",
       "deltaH                                          1\n",
       "% of effect                                     1\n",
       "TdeltaS                                         1\n",
       "Name: count, dtype: int64"
      ]
     },
     "execution_count": 25,
     "metadata": {},
     "output_type": "execute_result"
    }
   ],
   "source": [
    "data = cox2db['Standard Type'].value_counts()\n",
    "data"
   ]
  },
  {
   "cell_type": "code",
   "execution_count": 26,
   "id": "broken-grocery",
   "metadata": {
    "tags": []
   },
   "outputs": [
    {
     "name": "stderr",
     "output_type": "stream",
     "text": [
      "/scratch/local/42758336/ipykernel_664549/1226048823.py:2: UserWarning: set_ticklabels() should only be used with a fixed number of ticks, i.e. after set_ticks() or using a FixedLocator.\n",
      "  g = g.set_xticklabels(g.get_xticklabels(),rotation=90)\n"
     ]
    },
    {
     "data": {
      "image/png": "[encoded data removed]",
      "text/plain": [
       "<Figure size 640x480 with 1 Axes>"
      ]
     },
     "metadata": {},
     "output_type": "display_data"
    }
   ],
   "source": [
    "g = sns.barplot(x=data.index, y=data.values)\n",
    "g = g.set_xticklabels(g.get_xticklabels(),rotation=90)"
   ]
  },
  {
   "cell_type": "markdown",
   "id": "alpine-jacket",
   "metadata": {},
   "source": [
    "So, most of the data is in the form of IC50s. Some molecules also have inhibition, Ki and activity. Let's take a look at the different kinds of data. "
   ]
  },
  {
   "cell_type": "markdown",
   "id": "hawaiian-firewall",
   "metadata": {},
   "source": [
    "### $IC_{50}s$"
   ]
  },
  {
   "cell_type": "markdown",
   "id": "conscious-maple",
   "metadata": {},
   "source": [
    "We got lucky with Celecoxib. When we look at the full data, the IC50 data is reported in many different units:"
   ]
  },
  {
   "cell_type": "code",
   "execution_count": 27,
   "id": "positive-uniform",
   "metadata": {
    "tags": []
   },
   "outputs": [
    {
     "data": {
      "text/plain": [
       "Standard Units\n",
       "nM         6882\n",
       "ug.mL-1      25\n",
       "%             1\n",
       "ug            1\n",
       "Name: count, dtype: int64"
      ]
     },
     "execution_count": 27,
     "metadata": {},
     "output_type": "execute_result"
    }
   ],
   "source": [
    "data = cox2db[cox2db['Standard Type'] == 'IC50']\n",
    "data['Standard Units'].value_counts()"
   ]
  },
  {
   "cell_type": "markdown",
   "id": "c06b6238-d680-4cfe-947e-cce1823a2598",
   "metadata": {},
   "source": [
    "We can probably discard all that are not in nM units. Still, even if we only consider the data in 'nM', apparently there's data without values, either in 'Standard Value' or 'pChEMBL value':"
   ]
  },
  {
   "cell_type": "code",
   "execution_count": 28,
   "id": "corrected-world",
   "metadata": {
    "tags": []
   },
   "outputs": [
    {
     "data": {
      "text/plain": [
       "(np.True_, np.True_)"
      ]
     },
     "execution_count": 28,
     "metadata": {},
     "output_type": "execute_result"
    }
   ],
   "source": [
    "data = data[ data['Standard Units'] == 'nM' ]\n",
    "data['Standard Value'].isna().any(), data['pChEMBL Value'].isna().any()"
   ]
  },
  {
   "cell_type": "markdown",
   "id": "0a225d58-cd8b-4294-95de-55ffc4326954",
   "metadata": {},
   "source": [
    "19 entries are missing the values:"
   ]
  },
  {
   "cell_type": "code",
   "execution_count": 29,
   "id": "floppy-alcohol",
   "metadata": {
    "tags": []
   },
   "outputs": [
    {
     "data": {
      "text/plain": [
       "np.int64(19)"
      ]
     },
     "execution_count": 29,
     "metadata": {},
     "output_type": "execute_result"
    }
   ],
   "source": [
    "data['Standard Value'].isna().sum()"
   ]
  },
  {
   "cell_type": "markdown",
   "id": "7f12812a-87e3-49ea-a444-bc9f080bc3a9",
   "metadata": {},
   "source": [
    "Also, 1 of them don't have SMILES string:"
   ]
  },
  {
   "cell_type": "code",
   "execution_count": 30,
   "id": "maritime-announcement",
   "metadata": {
    "tags": []
   },
   "outputs": [
    {
     "data": {
      "text/plain": [
       "np.int64(1)"
      ]
     },
     "execution_count": 30,
     "metadata": {},
     "output_type": "execute_result"
    }
   ],
   "source": [
    "data['Smiles'].isna().sum()"
   ]
  },
  {
   "cell_type": "markdown",
   "id": "b2af1691-db63-4492-b508-9a15ce9a3823",
   "metadata": {},
   "source": [
    "Some were out of detection limits:"
   ]
  },
  {
   "cell_type": "code",
   "execution_count": 31,
   "id": "e890830d-21ce-4856-b345-f81714548a56",
   "metadata": {
    "tags": []
   },
   "outputs": [
    {
     "data": {
      "text/plain": [
       "Standard Relation\n",
       "'='     5843\n",
       "'>'      964\n",
       "'<'       55\n",
       "'>='       1\n",
       "Name: count, dtype: int64"
      ]
     },
     "execution_count": 31,
     "metadata": {},
     "output_type": "execute_result"
    }
   ],
   "source": [
    "data['Standard Relation'].value_counts()"
   ]
  },
  {
   "cell_type": "markdown",
   "id": "headed-wrist",
   "metadata": {},
   "source": [
    "The maximum and minimum values are also weird an $IC_{50}$ of 0 nM makes no sense:"
   ]
  },
  {
   "cell_type": "code",
   "execution_count": 32,
   "id": "qualified-identity",
   "metadata": {
    "tags": []
   },
   "outputs": [
    {
     "data": {
      "text/plain": [
       "(np.float64(833335724.28), np.float64(0.0))"
      ]
     },
     "execution_count": 32,
     "metadata": {},
     "output_type": "execute_result"
    }
   ],
   "source": [
    "data['Standard Value'].max(), data['Standard Value'].min()"
   ]
  },
  {
   "cell_type": "code",
   "execution_count": 33,
   "id": "prospective-strand",
   "metadata": {
    "tags": []
   },
   "outputs": [
    {
     "data": {
      "text/plain": [
       "count    6.863000e+03\n",
       "mean     1.061091e+06\n",
       "std      1.973908e+07\n",
       "min      0.000000e+00\n",
       "25%      1.000000e+02\n",
       "50%      1.000000e+03\n",
       "75%      1.000000e+04\n",
       "max      8.333357e+08\n",
       "Name: Standard Value, dtype: float64"
      ]
     },
     "execution_count": 33,
     "metadata": {},
     "output_type": "execute_result"
    }
   ],
   "source": [
    "data['Standard Value'].describe()"
   ]
  },
  {
   "cell_type": "markdown",
   "id": "dd42246a-a336-414b-a405-94cacaa1671f",
   "metadata": {},
   "source": [
    "when preparing a final database, we'll need to filter those outliers."
   ]
  },
  {
   "cell_type": "markdown",
   "id": "smaller-blank",
   "metadata": {},
   "source": [
    "### Inhibition"
   ]
  },
  {
   "cell_type": "code",
   "execution_count": 34,
   "id": "purple-practice",
   "metadata": {
    "tags": []
   },
   "outputs": [],
   "source": [
    "data = cox2db[ cox2db['Standard Type'] == 'Inhibition' ]"
   ]
  },
  {
   "cell_type": "markdown",
   "id": "saving-article",
   "metadata": {},
   "source": [
    "Some inhibitions are in $\\mu M$ units, which doesn't make much sense. Let's remove those. "
   ]
  },
  {
   "cell_type": "code",
   "execution_count": 35,
   "id": "dense-message",
   "metadata": {
    "tags": []
   },
   "outputs": [
    {
     "data": {
      "text/plain": [
       "Standard Units\n",
       "%     3290\n",
       "uM      25\n",
       "Name: count, dtype: int64"
      ]
     },
     "execution_count": 35,
     "metadata": {},
     "output_type": "execute_result"
    }
   ],
   "source": [
    "data['Standard Units'].value_counts()"
   ]
  },
  {
   "cell_type": "code",
   "execution_count": 36,
   "id": "under-batch",
   "metadata": {
    "tags": []
   },
   "outputs": [],
   "source": [
    "data = data[ data['Standard Units'] == '%' ]"
   ]
  },
  {
   "cell_type": "markdown",
   "id": "3c19a1ae-2b11-497e-98b9-3501f03c9f91",
   "metadata": {
    "tags": []
   },
   "source": [
    "Some of the values are empty:"
   ]
  },
  {
   "cell_type": "code",
   "execution_count": 37,
   "id": "difficult-leader",
   "metadata": {
    "tags": []
   },
   "outputs": [
    {
     "data": {
      "text/plain": [
       "np.True_"
      ]
     },
     "execution_count": 37,
     "metadata": {},
     "output_type": "execute_result"
    }
   ],
   "source": [
    "data['Standard Value'].isna().any()"
   ]
  },
  {
   "cell_type": "code",
   "execution_count": 38,
   "id": "usual-ideal",
   "metadata": {
    "tags": []
   },
   "outputs": [
    {
     "data": {
      "text/plain": [
       "count    2903.000000\n",
       "mean       43.445277\n",
       "std        34.260686\n",
       "min      -125.000000\n",
       "25%        15.900000\n",
       "50%        39.000000\n",
       "75%        72.395000\n",
       "max       158.200000\n",
       "Name: Standard Value, dtype: float64"
      ]
     },
     "execution_count": 38,
     "metadata": {},
     "output_type": "execute_result"
    }
   ],
   "source": [
    "data['Standard Value'].describe()"
   ]
  },
  {
   "cell_type": "code",
   "execution_count": 39,
   "id": "collected-appearance",
   "metadata": {
    "tags": []
   },
   "outputs": [
    {
     "data": {
      "text/plain": [
       "<Axes: >"
      ]
     },
     "execution_count": 39,
     "metadata": {},
     "output_type": "execute_result"
    },
    {
     "data": {
      "image/png": "[encoded data removed]",
      "text/plain": [
       "<Figure size 640x480 with 1 Axes>"
      ]
     },
     "metadata": {},
     "output_type": "display_data"
    }
   ],
   "source": [
    "data['Standard Value'].hist()"
   ]
  },
  {
   "cell_type": "markdown",
   "id": "super-creator",
   "metadata": {},
   "source": [
    "What does it mean to have **negative** % inhibition????"
   ]
  },
  {
   "cell_type": "code",
   "execution_count": 40,
   "id": "million-prize",
   "metadata": {
    "tags": []
   },
   "outputs": [
    {
     "data": {
      "text/html": [
       "<div>\n",
       "<style scoped>\n",
       "    .dataframe tbody tr th:only-of-type {\n",
       "        vertical-align: middle;\n",
       "    }\n",
       "\n",
       "    .dataframe tbody tr th {\n",
       "        vertical-align: top;\n",
       "    }\n",
       "\n",
       "    .dataframe thead th {\n",
       "        text-align: right;\n",
       "    }\n",
       "</style>\n",
       "<table border=\"1\" class=\"dataframe\">\n",
       "  <thead>\n",
       "    <tr style=\"text-align: right;\">\n",
       "      <th></th>\n",
       "      <th>Molecule ChEMBL ID</th>\n",
       "      <th>Molecule Name</th>\n",
       "      <th>Molecule Max Phase</th>\n",
       "      <th>Molecular Weight</th>\n",
       "      <th>#RO5 Violations</th>\n",
       "      <th>AlogP</th>\n",
       "      <th>Compound Key</th>\n",
       "      <th>Smiles</th>\n",
       "      <th>Standard Type</th>\n",
       "      <th>Standard Relation</th>\n",
       "      <th>Standard Value</th>\n",
       "      <th>Standard Units</th>\n",
       "      <th>pChEMBL Value</th>\n",
       "      <th>Data Validity Comment</th>\n",
       "      <th>Comment</th>\n",
       "      <th>Uo Units</th>\n",
       "      <th>Ligand Efficiency BEI</th>\n",
       "      <th>Ligand Efficiency LE</th>\n",
       "      <th>Ligand Efficiency LLE</th>\n",
       "      <th>Ligand Efficiency SEI</th>\n",
       "      <th>Potential Duplicate</th>\n",
       "      <th>Assay ChEMBL ID</th>\n",
       "      <th>Assay Description</th>\n",
       "      <th>Assay Type</th>\n",
       "      <th>BAO Format ID</th>\n",
       "      <th>BAO Label</th>\n",
       "      <th>Assay Organism</th>\n",
       "      <th>Assay Tissue ChEMBL ID</th>\n",
       "      <th>Assay Tissue Name</th>\n",
       "      <th>Assay Cell Type</th>\n",
       "      <th>Assay Subcellular Fraction</th>\n",
       "      <th>Assay Parameters</th>\n",
       "      <th>Assay Variant Accession</th>\n",
       "      <th>Assay Variant Mutation</th>\n",
       "      <th>Target ChEMBL ID</th>\n",
       "      <th>Target Name</th>\n",
       "      <th>Target Organism</th>\n",
       "      <th>Target Type</th>\n",
       "      <th>Document ChEMBL ID</th>\n",
       "      <th>Source ID</th>\n",
       "      <th>Source Description</th>\n",
       "      <th>Document Journal</th>\n",
       "      <th>Document Year</th>\n",
       "      <th>Cell ChEMBL ID</th>\n",
       "      <th>Properties</th>\n",
       "      <th>Action Type</th>\n",
       "      <th>Standard Text Value</th>\n",
       "    </tr>\n",
       "  </thead>\n",
       "  <tbody>\n",
       "    <tr>\n",
       "      <th>33</th>\n",
       "      <td>CHEMBL18007</td>\n",
       "      <td>NaN</td>\n",
       "      <td>NaN</td>\n",
       "      <td>355.39</td>\n",
       "      <td>0.0</td>\n",
       "      <td>4.30</td>\n",
       "      <td>7</td>\n",
       "      <td>O=C1/C(=C(/O)c2ccccc2)c2ccccc2C(=O)N1Cc1ccccc1</td>\n",
       "      <td>Inhibition</td>\n",
       "      <td>'='</td>\n",
       "      <td>-3.0</td>\n",
       "      <td>%</td>\n",
       "      <td>NaN</td>\n",
       "      <td>NaN</td>\n",
       "      <td>NaN</td>\n",
       "      <td>UO_0000187</td>\n",
       "      <td>NaN</td>\n",
       "      <td>NaN</td>\n",
       "      <td>NaN</td>\n",
       "      <td>NaN</td>\n",
       "      <td>0</td>\n",
       "      <td>CHEMBL763345</td>\n",
       "      <td>Inhibitory activity against Prostaglandin G/H ...</td>\n",
       "      <td>B</td>\n",
       "      <td>BAO_0000357</td>\n",
       "      <td>single protein format</td>\n",
       "      <td>Cercopithecidae</td>\n",
       "      <td>NaN</td>\n",
       "      <td>NaN</td>\n",
       "      <td>NaN</td>\n",
       "      <td>NaN</td>\n",
       "      <td>NaN</td>\n",
       "      <td>NaN</td>\n",
       "      <td>NaN</td>\n",
       "      <td>CHEMBL230</td>\n",
       "      <td>Cyclooxygenase-2</td>\n",
       "      <td>Homo sapiens</td>\n",
       "      <td>SINGLE PROTEIN</td>\n",
       "      <td>CHEMBL1130988</td>\n",
       "      <td>1</td>\n",
       "      <td>Scientific Literature</td>\n",
       "      <td>Bioorg Med Chem Lett</td>\n",
       "      <td>1998.0</td>\n",
       "      <td>NaN</td>\n",
       "      <td>NaN</td>\n",
       "      <td>NaN</td>\n",
       "      <td>NaN</td>\n",
       "    </tr>\n",
       "    <tr>\n",
       "      <th>180</th>\n",
       "      <td>CHEMBL306894</td>\n",
       "      <td>NaN</td>\n",
       "      <td>NaN</td>\n",
       "      <td>365.41</td>\n",
       "      <td>0.0</td>\n",
       "      <td>2.78</td>\n",
       "      <td>6a</td>\n",
       "      <td>CS(=O)(=O)c1ccc(-c2cc(CO[N+](=O)[O-])nn2C2CCCC...</td>\n",
       "      <td>Inhibition</td>\n",
       "      <td>'='</td>\n",
       "      <td>-125.0</td>\n",
       "      <td>%</td>\n",
       "      <td>NaN</td>\n",
       "      <td>Outside typical range</td>\n",
       "      <td>NaN</td>\n",
       "      <td>UO_0000187</td>\n",
       "      <td>NaN</td>\n",
       "      <td>NaN</td>\n",
       "      <td>NaN</td>\n",
       "      <td>NaN</td>\n",
       "      <td>0</td>\n",
       "      <td>CHEMBL761116</td>\n",
       "      <td>Evaluation for percent inhibition of recombina...</td>\n",
       "      <td>B</td>\n",
       "      <td>BAO_0000221</td>\n",
       "      <td>tissue-based format</td>\n",
       "      <td>NaN</td>\n",
       "      <td>CHEMBL3638178</td>\n",
       "      <td>Blood</td>\n",
       "      <td>NaN</td>\n",
       "      <td>NaN</td>\n",
       "      <td>NaN</td>\n",
       "      <td>NaN</td>\n",
       "      <td>NaN</td>\n",
       "      <td>CHEMBL230</td>\n",
       "      <td>Cyclooxygenase-2</td>\n",
       "      <td>Homo sapiens</td>\n",
       "      <td>SINGLE PROTEIN</td>\n",
       "      <td>CHEMBL1149153</td>\n",
       "      <td>1</td>\n",
       "      <td>Scientific Literature</td>\n",
       "      <td>J Med Chem</td>\n",
       "      <td>2004.0</td>\n",
       "      <td>NaN</td>\n",
       "      <td>NaN</td>\n",
       "      <td>NaN</td>\n",
       "      <td>NaN</td>\n",
       "    </tr>\n",
       "    <tr>\n",
       "      <th>501</th>\n",
       "      <td>CHEMBL177083</td>\n",
       "      <td>NaN</td>\n",
       "      <td>NaN</td>\n",
       "      <td>394.84</td>\n",
       "      <td>0.0</td>\n",
       "      <td>2.85</td>\n",
       "      <td>25</td>\n",
       "      <td>COc1ccc2c(c1)C(O)=C(C(=O)Nc1ccc(Cl)cc1)N(C)S2(...</td>\n",
       "      <td>Inhibition</td>\n",
       "      <td>'='</td>\n",
       "      <td>-9.0</td>\n",
       "      <td>%</td>\n",
       "      <td>NaN</td>\n",
       "      <td>NaN</td>\n",
       "      <td>NaN</td>\n",
       "      <td>UO_0000187</td>\n",
       "      <td>NaN</td>\n",
       "      <td>NaN</td>\n",
       "      <td>NaN</td>\n",
       "      <td>NaN</td>\n",
       "      <td>0</td>\n",
       "      <td>CHEMBL763160</td>\n",
       "      <td>Inhibition of human Prostaglandin G/H synthase...</td>\n",
       "      <td>B</td>\n",
       "      <td>BAO_0000357</td>\n",
       "      <td>single protein format</td>\n",
       "      <td>NaN</td>\n",
       "      <td>NaN</td>\n",
       "      <td>NaN</td>\n",
       "      <td>NaN</td>\n",
       "      <td>NaN</td>\n",
       "      <td>NaN</td>\n",
       "      <td>NaN</td>\n",
       "      <td>NaN</td>\n",
       "      <td>CHEMBL230</td>\n",
       "      <td>Cyclooxygenase-2</td>\n",
       "      <td>Homo sapiens</td>\n",
       "      <td>SINGLE PROTEIN</td>\n",
       "      <td>CHEMBL1129978</td>\n",
       "      <td>1</td>\n",
       "      <td>Scientific Literature</td>\n",
       "      <td>J Med Chem</td>\n",
       "      <td>1997.0</td>\n",
       "      <td>NaN</td>\n",
       "      <td>NaN</td>\n",
       "      <td>NaN</td>\n",
       "      <td>NaN</td>\n",
       "    </tr>\n",
       "    <tr>\n",
       "      <th>642</th>\n",
       "      <td>CHEMBL367970</td>\n",
       "      <td>NaN</td>\n",
       "      <td>NaN</td>\n",
       "      <td>417.87</td>\n",
       "      <td>0.0</td>\n",
       "      <td>3.33</td>\n",
       "      <td>68</td>\n",
       "      <td>CN1C(C(=O)Nc2ccccc2)=C(O)c2c(c3cc(Cl)ccc3n2C)S...</td>\n",
       "      <td>Inhibition</td>\n",
       "      <td>'='</td>\n",
       "      <td>-3.0</td>\n",
       "      <td>%</td>\n",
       "      <td>NaN</td>\n",
       "      <td>NaN</td>\n",
       "      <td>NaN</td>\n",
       "      <td>UO_0000187</td>\n",
       "      <td>NaN</td>\n",
       "      <td>NaN</td>\n",
       "      <td>NaN</td>\n",
       "      <td>NaN</td>\n",
       "      <td>0</td>\n",
       "      <td>CHEMBL763159</td>\n",
       "      <td>Inhibition of human Prostaglandin G/H synthase...</td>\n",
       "      <td>B</td>\n",
       "      <td>BAO_0000357</td>\n",
       "      <td>single protein format</td>\n",
       "      <td>NaN</td>\n",
       "      <td>NaN</td>\n",
       "      <td>NaN</td>\n",
       "      <td>NaN</td>\n",
       "      <td>NaN</td>\n",
       "      <td>NaN</td>\n",
       "      <td>NaN</td>\n",
       "      <td>NaN</td>\n",
       "      <td>CHEMBL230</td>\n",
       "      <td>Cyclooxygenase-2</td>\n",
       "      <td>Homo sapiens</td>\n",
       "      <td>SINGLE PROTEIN</td>\n",
       "      <td>CHEMBL1129978</td>\n",
       "      <td>1</td>\n",
       "      <td>Scientific Literature</td>\n",
       "      <td>J Med Chem</td>\n",
       "      <td>1997.0</td>\n",
       "      <td>NaN</td>\n",
       "      <td>NaN</td>\n",
       "      <td>NaN</td>\n",
       "      <td>NaN</td>\n",
       "    </tr>\n",
       "    <tr>\n",
       "      <th>672</th>\n",
       "      <td>CHEMBL4872569</td>\n",
       "      <td>NaN</td>\n",
       "      <td>NaN</td>\n",
       "      <td>315.35</td>\n",
       "      <td>0.0</td>\n",
       "      <td>2.43</td>\n",
       "      <td>5b</td>\n",
       "      <td>Cc1cc(-c2cccnc2)nn1S(=O)(=O)Oc1ccccc1</td>\n",
       "      <td>Inhibition</td>\n",
       "      <td>'='</td>\n",
       "      <td>-2.0</td>\n",
       "      <td>%</td>\n",
       "      <td>NaN</td>\n",
       "      <td>NaN</td>\n",
       "      <td>NaN</td>\n",
       "      <td>UO_0000187</td>\n",
       "      <td>NaN</td>\n",
       "      <td>NaN</td>\n",
       "      <td>NaN</td>\n",
       "      <td>NaN</td>\n",
       "      <td>0</td>\n",
       "      <td>CHEMBL4810972</td>\n",
       "      <td>Inhibition of human recombinant COX-2 assessed...</td>\n",
       "      <td>B</td>\n",
       "      <td>BAO_0000357</td>\n",
       "      <td>single protein format</td>\n",
       "      <td>Homo sapiens</td>\n",
       "      <td>NaN</td>\n",
       "      <td>NaN</td>\n",
       "      <td>NaN</td>\n",
       "      <td>NaN</td>\n",
       "      <td>NaN</td>\n",
       "      <td>NaN</td>\n",
       "      <td>NaN</td>\n",
       "      <td>CHEMBL230</td>\n",
       "      <td>Cyclooxygenase-2</td>\n",
       "      <td>Homo sapiens</td>\n",
       "      <td>SINGLE PROTEIN</td>\n",
       "      <td>CHEMBL4808246</td>\n",
       "      <td>1</td>\n",
       "      <td>Scientific Literature</td>\n",
       "      <td>Bioorg Med Chem</td>\n",
       "      <td>2021.0</td>\n",
       "      <td>NaN</td>\n",
       "      <td>Dose = 0.1 microM | TIME = 1.033 hr</td>\n",
       "      <td>NaN</td>\n",
       "      <td>NaN</td>\n",
       "    </tr>\n",
       "  </tbody>\n",
       "</table>\n",
       "</div>"
      ],
      "text/plain": [
       "    Molecule ChEMBL ID Molecule Name  Molecule Max Phase  Molecular Weight  \\\n",
       "33         CHEMBL18007           NaN                 NaN            355.39   \n",
       "180       CHEMBL306894           NaN                 NaN            365.41   \n",
       "501       CHEMBL177083           NaN                 NaN            394.84   \n",
       "642       CHEMBL367970           NaN                 NaN            417.87   \n",
       "672      CHEMBL4872569           NaN                 NaN            315.35   \n",
       "\n",
       "     #RO5 Violations  AlogP Compound Key  \\\n",
       "33               0.0   4.30            7   \n",
       "180              0.0   2.78           6a   \n",
       "501              0.0   2.85           25   \n",
       "642              0.0   3.33           68   \n",
       "672              0.0   2.43           5b   \n",
       "\n",
       "                                                Smiles Standard Type  \\\n",
       "33      O=C1/C(=C(/O)c2ccccc2)c2ccccc2C(=O)N1Cc1ccccc1    Inhibition   \n",
       "180  CS(=O)(=O)c1ccc(-c2cc(CO[N+](=O)[O-])nn2C2CCCC...    Inhibition   \n",
       "501  COc1ccc2c(c1)C(O)=C(C(=O)Nc1ccc(Cl)cc1)N(C)S2(...    Inhibition   \n",
       "642  CN1C(C(=O)Nc2ccccc2)=C(O)c2c(c3cc(Cl)ccc3n2C)S...    Inhibition   \n",
       "672              Cc1cc(-c2cccnc2)nn1S(=O)(=O)Oc1ccccc1    Inhibition   \n",
       "\n",
       "    Standard Relation  Standard Value Standard Units  pChEMBL Value  \\\n",
       "33                '='            -3.0              %            NaN   \n",
       "180               '='          -125.0              %            NaN   \n",
       "501               '='            -9.0              %            NaN   \n",
       "642               '='            -3.0              %            NaN   \n",
       "672               '='            -2.0              %            NaN   \n",
       "\n",
       "     Data Validity Comment Comment    Uo Units  Ligand Efficiency BEI  \\\n",
       "33                     NaN     NaN  UO_0000187                    NaN   \n",
       "180  Outside typical range     NaN  UO_0000187                    NaN   \n",
       "501                    NaN     NaN  UO_0000187                    NaN   \n",
       "642                    NaN     NaN  UO_0000187                    NaN   \n",
       "672                    NaN     NaN  UO_0000187                    NaN   \n",
       "\n",
       "     Ligand Efficiency LE  Ligand Efficiency LLE  Ligand Efficiency SEI  \\\n",
       "33                    NaN                    NaN                    NaN   \n",
       "180                   NaN                    NaN                    NaN   \n",
       "501                   NaN                    NaN                    NaN   \n",
       "642                   NaN                    NaN                    NaN   \n",
       "672                   NaN                    NaN                    NaN   \n",
       "\n",
       "     Potential Duplicate Assay ChEMBL ID  \\\n",
       "33                     0    CHEMBL763345   \n",
       "180                    0    CHEMBL761116   \n",
       "501                    0    CHEMBL763160   \n",
       "642                    0    CHEMBL763159   \n",
       "672                    0   CHEMBL4810972   \n",
       "\n",
       "                                     Assay Description Assay Type  \\\n",
       "33   Inhibitory activity against Prostaglandin G/H ...          B   \n",
       "180  Evaluation for percent inhibition of recombina...          B   \n",
       "501  Inhibition of human Prostaglandin G/H synthase...          B   \n",
       "642  Inhibition of human Prostaglandin G/H synthase...          B   \n",
       "672  Inhibition of human recombinant COX-2 assessed...          B   \n",
       "\n",
       "    BAO Format ID              BAO Label   Assay Organism  \\\n",
       "33    BAO_0000357  single protein format  Cercopithecidae   \n",
       "180   BAO_0000221    tissue-based format              NaN   \n",
       "501   BAO_0000357  single protein format              NaN   \n",
       "642   BAO_0000357  single protein format              NaN   \n",
       "672   BAO_0000357  single protein format     Homo sapiens   \n",
       "\n",
       "    Assay Tissue ChEMBL ID Assay Tissue Name Assay Cell Type  \\\n",
       "33                     NaN               NaN             NaN   \n",
       "180          CHEMBL3638178             Blood             NaN   \n",
       "501                    NaN               NaN             NaN   \n",
       "642                    NaN               NaN             NaN   \n",
       "672                    NaN               NaN             NaN   \n",
       "\n",
       "    Assay Subcellular Fraction Assay Parameters  Assay Variant Accession  \\\n",
       "33                         NaN              NaN                      NaN   \n",
       "180                        NaN              NaN                      NaN   \n",
       "501                        NaN              NaN                      NaN   \n",
       "642                        NaN              NaN                      NaN   \n",
       "672                        NaN              NaN                      NaN   \n",
       "\n",
       "     Assay Variant Mutation Target ChEMBL ID       Target Name  \\\n",
       "33                      NaN        CHEMBL230  Cyclooxygenase-2   \n",
       "180                     NaN        CHEMBL230  Cyclooxygenase-2   \n",
       "501                     NaN        CHEMBL230  Cyclooxygenase-2   \n",
       "642                     NaN        CHEMBL230  Cyclooxygenase-2   \n",
       "672                     NaN        CHEMBL230  Cyclooxygenase-2   \n",
       "\n",
       "    Target Organism     Target Type Document ChEMBL ID  Source ID  \\\n",
       "33     Homo sapiens  SINGLE PROTEIN      CHEMBL1130988          1   \n",
       "180    Homo sapiens  SINGLE PROTEIN      CHEMBL1149153          1   \n",
       "501    Homo sapiens  SINGLE PROTEIN      CHEMBL1129978          1   \n",
       "642    Homo sapiens  SINGLE PROTEIN      CHEMBL1129978          1   \n",
       "672    Homo sapiens  SINGLE PROTEIN      CHEMBL4808246          1   \n",
       "\n",
       "        Source Description      Document Journal  Document Year  \\\n",
       "33   Scientific Literature  Bioorg Med Chem Lett         1998.0   \n",
       "180  Scientific Literature            J Med Chem         2004.0   \n",
       "501  Scientific Literature            J Med Chem         1997.0   \n",
       "642  Scientific Literature            J Med Chem         1997.0   \n",
       "672  Scientific Literature       Bioorg Med Chem         2021.0   \n",
       "\n",
       "    Cell ChEMBL ID                           Properties Action Type  \\\n",
       "33             NaN                                  NaN         NaN   \n",
       "180            NaN                                  NaN         NaN   \n",
       "501            NaN                                  NaN         NaN   \n",
       "642            NaN                                  NaN         NaN   \n",
       "672            NaN  Dose = 0.1 microM | TIME = 1.033 hr         NaN   \n",
       "\n",
       "     Standard Text Value  \n",
       "33                   NaN  \n",
       "180                  NaN  \n",
       "501                  NaN  \n",
       "642                  NaN  \n",
       "672                  NaN  "
      ]
     },
     "execution_count": 40,
     "metadata": {},
     "output_type": "execute_result"
    }
   ],
   "source": [
    "data[data['Standard Value'] < 0].head()"
   ]
  },
  {
   "cell_type": "markdown",
   "id": "injured-founder",
   "metadata": {},
   "source": [
    "A look at the source for the second entry reveals that this compound can actually be considered an activator of COX-2!!\n",
    " - ChEMBL Document [CHEMBL1149153](https://www.ebi.ac.uk/chembl/document_report_card/CHEMBL1149153/)\n",
    " - J. Med. Chem. 2004, 47, 9, 2180–2193 [here](https://pubs.acs.org/doi/10.1021/jm030276s)\n",
    " \n",
    " \n",
    "That means that, to use inhibitions, we should also remove data vith inhibition < 0. "
   ]
  },
  {
   "cell_type": "markdown",
   "id": "d9e1e42f-d9df-4fd3-b5cb-91a675928977",
   "metadata": {},
   "source": [
    "**Exercise:** Check the presence of valid dat and SMILES."
   ]
  },
  {
   "cell_type": "markdown",
   "id": "d7e4adf8-c365-4839-9413-baa6bfa135b9",
   "metadata": {
    "tags": []
   },
   "source": [
    "### $AC_{50}s$"
   ]
  },
  {
   "cell_type": "markdown",
   "id": "73bc524c-2d1c-4025-ab32-9273c389c57f",
   "metadata": {},
   "source": [
    "The third in the list is the concentration for half-maximal activity, $AC_{50}$:"
   ]
  },
  {
   "cell_type": "code",
   "execution_count": 41,
   "id": "1de5396a-56d8-413e-931c-7751b0bae89c",
   "metadata": {
    "tags": []
   },
   "outputs": [
    {
     "data": {
      "text/plain": [
       "Standard Units\n",
       "nM    1193\n",
       "Name: count, dtype: int64"
      ]
     },
     "execution_count": 41,
     "metadata": {},
     "output_type": "execute_result"
    }
   ],
   "source": [
    "data = cox2db[cox2db['Standard Type'] == 'AC50']\n",
    "data['Standard Units'].value_counts()"
   ]
  },
  {
   "cell_type": "markdown",
   "id": "84a620fb-c2c7-46ca-b379-d17497287860",
   "metadata": {},
   "source": [
    "So, they are all in the same units, which is good. However, some are missing the 'pChEMBL value':"
   ]
  },
  {
   "cell_type": "code",
   "execution_count": 42,
   "id": "e29f68f2-1ad1-4952-92ab-41ad9040d101",
   "metadata": {
    "tags": []
   },
   "outputs": [
    {
     "data": {
      "text/plain": [
       "(np.False_, np.True_)"
      ]
     },
     "execution_count": 42,
     "metadata": {},
     "output_type": "execute_result"
    }
   ],
   "source": [
    "data['Standard Value'].isna().any(), data['pChEMBL Value'].isna().any()"
   ]
  },
  {
   "cell_type": "markdown",
   "id": "556ed45e-02bb-47df-85a1-12f3c9e3a97a",
   "metadata": {},
   "source": [
    "There's also a weird variation in values:"
   ]
  },
  {
   "cell_type": "code",
   "execution_count": 43,
   "id": "cd6650e0-fc42-4abc-9e1e-057d72ce3cb5",
   "metadata": {
    "tags": []
   },
   "outputs": [
    {
     "data": {
      "text/plain": [
       "(np.float64(1000000.0), np.float64(48.4))"
      ]
     },
     "execution_count": 43,
     "metadata": {},
     "output_type": "execute_result"
    }
   ],
   "source": [
    "data['Standard Value'].max(), data['Standard Value'].min()"
   ]
  },
  {
   "cell_type": "code",
   "execution_count": 44,
   "id": "0f245bea-826d-44dc-8785-8cf93b6444c0",
   "metadata": {
    "tags": []
   },
   "outputs": [
    {
     "data": {
      "text/plain": [
       "count       1193.000000\n",
       "mean       27801.344091\n",
       "std        41885.943446\n",
       "min           48.400000\n",
       "25%        10000.000000\n",
       "50%        30000.000000\n",
       "75%        30000.000000\n",
       "max      1000000.000000\n",
       "Name: Standard Value, dtype: float64"
      ]
     },
     "execution_count": 44,
     "metadata": {},
     "output_type": "execute_result"
    }
   ],
   "source": [
    "data['Standard Value'].describe()"
   ]
  },
  {
   "cell_type": "code",
   "execution_count": 45,
   "id": "b969c984-a6d7-48ed-8fd7-066ce89cf601",
   "metadata": {
    "tags": []
   },
   "outputs": [
    {
     "data": {
      "text/plain": [
       "<Axes: xlabel='Standard Value', ylabel='Count'>"
      ]
     },
     "execution_count": 45,
     "metadata": {},
     "output_type": "execute_result"
    },
    {
     "data": {
      "image/png": "[encoded data removed]",
      "text/plain": [
       "<Figure size 640x480 with 1 Axes>"
      ]
     },
     "metadata": {},
     "output_type": "display_data"
    }
   ],
   "source": [
    "sns.histplot(data = data, x='Standard Value')"
   ]
  },
  {
   "cell_type": "markdown",
   "id": "33236339-8dae-4ed8-85b5-e382e461b1c1",
   "metadata": {},
   "source": [
    "Again, Ugh! The very large values are likely \"inactive\" molecules, where the data is reported just as _greater than_ some detection limit $X$ "
   ]
  },
  {
   "cell_type": "code",
   "execution_count": 46,
   "id": "818814ce-d07c-47b4-bc97-59b30737da9a",
   "metadata": {
    "tags": []
   },
   "outputs": [
    {
     "data": {
      "text/plain": [
       "Standard Relation\n",
       "'>'    1052\n",
       "'='     141\n",
       "Name: count, dtype: int64"
      ]
     },
     "execution_count": 46,
     "metadata": {},
     "output_type": "execute_result"
    }
   ],
   "source": [
    "data[\"Standard Relation\"].value_counts()"
   ]
  },
  {
   "cell_type": "markdown",
   "id": "a8485681-dd58-41cc-a1da-9e503a697dee",
   "metadata": {},
   "source": [
    "So, only about 141 points with real numbers."
   ]
  },
  {
   "cell_type": "markdown",
   "id": "abroad-squad",
   "metadata": {},
   "source": [
    "### $K_i$"
   ]
  },
  {
   "cell_type": "markdown",
   "id": "matched-edmonton",
   "metadata": {},
   "source": [
    "Next, lets look at $K_i$, with 899 entries."
   ]
  },
  {
   "cell_type": "code",
   "execution_count": 47,
   "id": "everyday-balance",
   "metadata": {
    "tags": []
   },
   "outputs": [],
   "source": [
    "data = cox2db[ cox2db['Standard Type'] == 'Ki' ]"
   ]
  },
  {
   "cell_type": "markdown",
   "id": "straight-illustration",
   "metadata": {},
   "source": [
    "From those, most have no value reported, because the dose-response curve could not be determined:"
   ]
  },
  {
   "cell_type": "code",
   "execution_count": 48,
   "id": "compressed-anniversary",
   "metadata": {
    "tags": []
   },
   "outputs": [
    {
     "data": {
      "text/plain": [
       "np.int64(871)"
      ]
     },
     "execution_count": 48,
     "metadata": {},
     "output_type": "execute_result"
    }
   ],
   "source": [
    "data['Standard Value'].isna().sum()"
   ]
  },
  {
   "cell_type": "code",
   "execution_count": 49,
   "id": "twelve-mission",
   "metadata": {
    "tags": []
   },
   "outputs": [
    {
     "data": {
      "text/html": [
       "<div>\n",
       "<style scoped>\n",
       "    .dataframe tbody tr th:only-of-type {\n",
       "        vertical-align: middle;\n",
       "    }\n",
       "\n",
       "    .dataframe tbody tr th {\n",
       "        vertical-align: top;\n",
       "    }\n",
       "\n",
       "    .dataframe thead th {\n",
       "        text-align: right;\n",
       "    }\n",
       "</style>\n",
       "<table border=\"1\" class=\"dataframe\">\n",
       "  <thead>\n",
       "    <tr style=\"text-align: right;\">\n",
       "      <th></th>\n",
       "      <th>Molecule ChEMBL ID</th>\n",
       "      <th>Molecule Name</th>\n",
       "      <th>Molecule Max Phase</th>\n",
       "      <th>Molecular Weight</th>\n",
       "      <th>#RO5 Violations</th>\n",
       "      <th>AlogP</th>\n",
       "      <th>Compound Key</th>\n",
       "      <th>Smiles</th>\n",
       "      <th>Standard Type</th>\n",
       "      <th>Standard Relation</th>\n",
       "      <th>Standard Value</th>\n",
       "      <th>Standard Units</th>\n",
       "      <th>pChEMBL Value</th>\n",
       "      <th>Data Validity Comment</th>\n",
       "      <th>Comment</th>\n",
       "      <th>Uo Units</th>\n",
       "      <th>Ligand Efficiency BEI</th>\n",
       "      <th>Ligand Efficiency LE</th>\n",
       "      <th>Ligand Efficiency LLE</th>\n",
       "      <th>Ligand Efficiency SEI</th>\n",
       "      <th>Potential Duplicate</th>\n",
       "      <th>Assay ChEMBL ID</th>\n",
       "      <th>Assay Description</th>\n",
       "      <th>Assay Type</th>\n",
       "      <th>BAO Format ID</th>\n",
       "      <th>BAO Label</th>\n",
       "      <th>Assay Organism</th>\n",
       "      <th>Assay Tissue ChEMBL ID</th>\n",
       "      <th>Assay Tissue Name</th>\n",
       "      <th>Assay Cell Type</th>\n",
       "      <th>Assay Subcellular Fraction</th>\n",
       "      <th>Assay Parameters</th>\n",
       "      <th>Assay Variant Accession</th>\n",
       "      <th>Assay Variant Mutation</th>\n",
       "      <th>Target ChEMBL ID</th>\n",
       "      <th>Target Name</th>\n",
       "      <th>Target Organism</th>\n",
       "      <th>Target Type</th>\n",
       "      <th>Document ChEMBL ID</th>\n",
       "      <th>Source ID</th>\n",
       "      <th>Source Description</th>\n",
       "      <th>Document Journal</th>\n",
       "      <th>Document Year</th>\n",
       "      <th>Cell ChEMBL ID</th>\n",
       "      <th>Properties</th>\n",
       "      <th>Action Type</th>\n",
       "      <th>Standard Text Value</th>\n",
       "    </tr>\n",
       "  </thead>\n",
       "  <tbody>\n",
       "    <tr>\n",
       "      <th>0</th>\n",
       "      <td>CHEMBL1200623</td>\n",
       "      <td>ETHYLESTRENOL</td>\n",
       "      <td>4.0</td>\n",
       "      <td>288.48</td>\n",
       "      <td>1.0</td>\n",
       "      <td>5.09</td>\n",
       "      <td>ETHYLESTRENOL</td>\n",
       "      <td>CC[C@]1(O)CC[C@H]2[C@@H]3CCC4=CCCC[C@@H]4[C@H]...</td>\n",
       "      <td>Ki</td>\n",
       "      <td>NaN</td>\n",
       "      <td>NaN</td>\n",
       "      <td>NaN</td>\n",
       "      <td>NaN</td>\n",
       "      <td>NaN</td>\n",
       "      <td>Not Active (inhibition &lt; 50% @ 10 uM and thus ...</td>\n",
       "      <td>NaN</td>\n",
       "      <td>NaN</td>\n",
       "      <td>NaN</td>\n",
       "      <td>NaN</td>\n",
       "      <td>NaN</td>\n",
       "      <td>0</td>\n",
       "      <td>CHEMBL1909131</td>\n",
       "      <td>DRUGMATRIX: Cyclooxygenase COX-2 enzyme inhibi...</td>\n",
       "      <td>B</td>\n",
       "      <td>BAO_0000219</td>\n",
       "      <td>cell-based format</td>\n",
       "      <td>NaN</td>\n",
       "      <td>NaN</td>\n",
       "      <td>NaN</td>\n",
       "      <td>Sf21</td>\n",
       "      <td>NaN</td>\n",
       "      <td>NaN</td>\n",
       "      <td>NaN</td>\n",
       "      <td>NaN</td>\n",
       "      <td>CHEMBL230</td>\n",
       "      <td>Cyclooxygenase-2</td>\n",
       "      <td>Homo sapiens</td>\n",
       "      <td>SINGLE PROTEIN</td>\n",
       "      <td>CHEMBL1909046</td>\n",
       "      <td>15</td>\n",
       "      <td>DrugMatrix</td>\n",
       "      <td>NaN</td>\n",
       "      <td>NaN</td>\n",
       "      <td>CHEMBL4106362</td>\n",
       "      <td>NaN</td>\n",
       "      <td>NaN</td>\n",
       "      <td>NaN</td>\n",
       "    </tr>\n",
       "  </tbody>\n",
       "</table>\n",
       "</div>"
      ],
      "text/plain": [
       "  Molecule ChEMBL ID  Molecule Name  Molecule Max Phase  Molecular Weight  \\\n",
       "0      CHEMBL1200623  ETHYLESTRENOL                 4.0            288.48   \n",
       "\n",
       "   #RO5 Violations  AlogP   Compound Key  \\\n",
       "0              1.0   5.09  ETHYLESTRENOL   \n",
       "\n",
       "                                              Smiles Standard Type  \\\n",
       "0  CC[C@]1(O)CC[C@H]2[C@@H]3CCC4=CCCC[C@@H]4[C@H]...            Ki   \n",
       "\n",
       "  Standard Relation  Standard Value Standard Units  pChEMBL Value  \\\n",
       "0               NaN             NaN            NaN            NaN   \n",
       "\n",
       "  Data Validity Comment                                            Comment  \\\n",
       "0                   NaN  Not Active (inhibition < 50% @ 10 uM and thus ...   \n",
       "\n",
       "  Uo Units  Ligand Efficiency BEI  Ligand Efficiency LE  \\\n",
       "0      NaN                    NaN                   NaN   \n",
       "\n",
       "   Ligand Efficiency LLE  Ligand Efficiency SEI  Potential Duplicate  \\\n",
       "0                    NaN                    NaN                    0   \n",
       "\n",
       "  Assay ChEMBL ID                                  Assay Description  \\\n",
       "0   CHEMBL1909131  DRUGMATRIX: Cyclooxygenase COX-2 enzyme inhibi...   \n",
       "\n",
       "  Assay Type BAO Format ID          BAO Label Assay Organism  \\\n",
       "0          B   BAO_0000219  cell-based format            NaN   \n",
       "\n",
       "  Assay Tissue ChEMBL ID Assay Tissue Name Assay Cell Type  \\\n",
       "0                    NaN               NaN            Sf21   \n",
       "\n",
       "  Assay Subcellular Fraction Assay Parameters  Assay Variant Accession  \\\n",
       "0                        NaN              NaN                      NaN   \n",
       "\n",
       "   Assay Variant Mutation Target ChEMBL ID       Target Name Target Organism  \\\n",
       "0                     NaN        CHEMBL230  Cyclooxygenase-2    Homo sapiens   \n",
       "\n",
       "      Target Type Document ChEMBL ID  Source ID Source Description  \\\n",
       "0  SINGLE PROTEIN      CHEMBL1909046         15         DrugMatrix   \n",
       "\n",
       "  Document Journal  Document Year Cell ChEMBL ID Properties Action Type  \\\n",
       "0              NaN            NaN  CHEMBL4106362        NaN         NaN   \n",
       "\n",
       "   Standard Text Value  \n",
       "0                  NaN  "
      ]
     },
     "execution_count": 49,
     "metadata": {},
     "output_type": "execute_result"
    }
   ],
   "source": [
    "data.head(1)"
   ]
  },
  {
   "cell_type": "code",
   "execution_count": 50,
   "id": "sound-combat",
   "metadata": {
    "tags": []
   },
   "outputs": [
    {
     "name": "stdout",
     "output_type": "stream",
     "text": [
      "Not Active (inhibition < 50% @ 10 uM and thus dose-reponse curve not measured)\n"
     ]
    }
   ],
   "source": [
    "print(data.loc[0]['Comment'])"
   ]
  },
  {
   "cell_type": "markdown",
   "id": "identical-following",
   "metadata": {},
   "source": [
    "Ant those that have a value reported include a range of different data. Some of the data are only \" > \" a certain threshold, indicating not active. "
   ]
  },
  {
   "cell_type": "code",
   "execution_count": 51,
   "id": "chief-rwanda",
   "metadata": {
    "tags": []
   },
   "outputs": [
    {
     "data": {
      "text/plain": [
       "Standard Relation\n",
       "'='    26\n",
       "'>'     2\n",
       "Name: count, dtype: int64"
      ]
     },
     "execution_count": 51,
     "metadata": {},
     "output_type": "execute_result"
    }
   ],
   "source": [
    "data[data['Standard Value'].notna()]['Standard Relation'].value_counts()"
   ]
  },
  {
   "cell_type": "markdown",
   "id": "electronic-analysis",
   "metadata": {},
   "source": [
    "Also, some have $K_i = 0$:"
   ]
  },
  {
   "cell_type": "markdown",
   "id": "combined-multiple",
   "metadata": {},
   "source": [
    "### Activity\n",
    "Activity, which is listed for 398 cases:"
   ]
  },
  {
   "cell_type": "code",
   "execution_count": 52,
   "id": "african-translator",
   "metadata": {
    "tags": []
   },
   "outputs": [],
   "source": [
    "data = cox2db[ cox2db['Standard Type'] == 'Activity' ]"
   ]
  },
  {
   "cell_type": "code",
   "execution_count": 53,
   "id": "spread-variable",
   "metadata": {
    "tags": []
   },
   "outputs": [
    {
     "data": {
      "text/plain": [
       "Standard Units\n",
       "%        226\n",
       "pg/ml     23\n",
       "ng/ml     17\n",
       "Name: count, dtype: int64"
      ]
     },
     "execution_count": 53,
     "metadata": {},
     "output_type": "execute_result"
    }
   ],
   "source": [
    "data['Standard Units'].value_counts()"
   ]
  },
  {
   "cell_type": "code",
   "execution_count": 54,
   "id": "tribal-particular",
   "metadata": {
    "tags": []
   },
   "outputs": [
    {
     "data": {
      "text/html": [
       "<div>\n",
       "<style scoped>\n",
       "    .dataframe tbody tr th:only-of-type {\n",
       "        vertical-align: middle;\n",
       "    }\n",
       "\n",
       "    .dataframe tbody tr th {\n",
       "        vertical-align: top;\n",
       "    }\n",
       "\n",
       "    .dataframe thead th {\n",
       "        text-align: right;\n",
       "    }\n",
       "</style>\n",
       "<table border=\"1\" class=\"dataframe\">\n",
       "  <thead>\n",
       "    <tr style=\"text-align: right;\">\n",
       "      <th></th>\n",
       "      <th>Molecule ChEMBL ID</th>\n",
       "      <th>Molecule Name</th>\n",
       "      <th>Molecule Max Phase</th>\n",
       "      <th>Molecular Weight</th>\n",
       "      <th>#RO5 Violations</th>\n",
       "      <th>AlogP</th>\n",
       "      <th>Compound Key</th>\n",
       "      <th>Smiles</th>\n",
       "      <th>Standard Type</th>\n",
       "      <th>Standard Relation</th>\n",
       "      <th>Standard Value</th>\n",
       "      <th>Standard Units</th>\n",
       "      <th>pChEMBL Value</th>\n",
       "      <th>Data Validity Comment</th>\n",
       "      <th>Comment</th>\n",
       "      <th>Uo Units</th>\n",
       "      <th>Ligand Efficiency BEI</th>\n",
       "      <th>Ligand Efficiency LE</th>\n",
       "      <th>Ligand Efficiency LLE</th>\n",
       "      <th>Ligand Efficiency SEI</th>\n",
       "      <th>Potential Duplicate</th>\n",
       "      <th>Assay ChEMBL ID</th>\n",
       "      <th>Assay Description</th>\n",
       "      <th>Assay Type</th>\n",
       "      <th>BAO Format ID</th>\n",
       "      <th>BAO Label</th>\n",
       "      <th>Assay Organism</th>\n",
       "      <th>Assay Tissue ChEMBL ID</th>\n",
       "      <th>Assay Tissue Name</th>\n",
       "      <th>Assay Cell Type</th>\n",
       "      <th>Assay Subcellular Fraction</th>\n",
       "      <th>Assay Parameters</th>\n",
       "      <th>Assay Variant Accession</th>\n",
       "      <th>Assay Variant Mutation</th>\n",
       "      <th>Target ChEMBL ID</th>\n",
       "      <th>Target Name</th>\n",
       "      <th>Target Organism</th>\n",
       "      <th>Target Type</th>\n",
       "      <th>Document ChEMBL ID</th>\n",
       "      <th>Source ID</th>\n",
       "      <th>Source Description</th>\n",
       "      <th>Document Journal</th>\n",
       "      <th>Document Year</th>\n",
       "      <th>Cell ChEMBL ID</th>\n",
       "      <th>Properties</th>\n",
       "      <th>Action Type</th>\n",
       "      <th>Standard Text Value</th>\n",
       "    </tr>\n",
       "  </thead>\n",
       "  <tbody>\n",
       "    <tr>\n",
       "      <th>1901</th>\n",
       "      <td>CHEMBL3809156</td>\n",
       "      <td>NaN</td>\n",
       "      <td>NaN</td>\n",
       "      <td>406.48</td>\n",
       "      <td>0.0</td>\n",
       "      <td>-0.51</td>\n",
       "      <td>30</td>\n",
       "      <td>COC(=O)[C@H](CC(C)C)NC(=O)[C@H](Cc1ccccc1)NC(=...</td>\n",
       "      <td>Activity</td>\n",
       "      <td>'='</td>\n",
       "      <td>0.08</td>\n",
       "      <td>ng/ml</td>\n",
       "      <td>NaN</td>\n",
       "      <td>NaN</td>\n",
       "      <td>NaN</td>\n",
       "      <td>UO_0000275</td>\n",
       "      <td>NaN</td>\n",
       "      <td>NaN</td>\n",
       "      <td>NaN</td>\n",
       "      <td>NaN</td>\n",
       "      <td>0</td>\n",
       "      <td>CHEMBL3811634</td>\n",
       "      <td>Inhibition of COX2 in healthy human whole bloo...</td>\n",
       "      <td>B</td>\n",
       "      <td>BAO_0000221</td>\n",
       "      <td>tissue-based format</td>\n",
       "      <td>Homo sapiens</td>\n",
       "      <td>CHEMBL3638178</td>\n",
       "      <td>Blood</td>\n",
       "      <td>NaN</td>\n",
       "      <td>NaN</td>\n",
       "      <td>NaN</td>\n",
       "      <td>NaN</td>\n",
       "      <td>NaN</td>\n",
       "      <td>CHEMBL230</td>\n",
       "      <td>Cyclooxygenase-2</td>\n",
       "      <td>Homo sapiens</td>\n",
       "      <td>SINGLE PROTEIN</td>\n",
       "      <td>CHEMBL3808358</td>\n",
       "      <td>1</td>\n",
       "      <td>Scientific Literature</td>\n",
       "      <td>J Med Chem</td>\n",
       "      <td>2016.0</td>\n",
       "      <td>NaN</td>\n",
       "      <td>NaN</td>\n",
       "      <td>NaN</td>\n",
       "      <td>NaN</td>\n",
       "    </tr>\n",
       "    <tr>\n",
       "      <th>2608</th>\n",
       "      <td>CHEMBL6</td>\n",
       "      <td>INDOMETHACIN</td>\n",
       "      <td>4.0</td>\n",
       "      <td>357.79</td>\n",
       "      <td>0.0</td>\n",
       "      <td>3.93</td>\n",
       "      <td>indomethacin</td>\n",
       "      <td>COc1ccc2c(c1)c(CC(=O)O)c(C)n2C(=O)c1ccc(Cl)cc1</td>\n",
       "      <td>Activity</td>\n",
       "      <td>'='</td>\n",
       "      <td>2.10</td>\n",
       "      <td>ng/ml</td>\n",
       "      <td>NaN</td>\n",
       "      <td>NaN</td>\n",
       "      <td>NaN</td>\n",
       "      <td>UO_0000275</td>\n",
       "      <td>NaN</td>\n",
       "      <td>NaN</td>\n",
       "      <td>NaN</td>\n",
       "      <td>NaN</td>\n",
       "      <td>0</td>\n",
       "      <td>CHEMBL3811634</td>\n",
       "      <td>Inhibition of COX2 in healthy human whole bloo...</td>\n",
       "      <td>B</td>\n",
       "      <td>BAO_0000221</td>\n",
       "      <td>tissue-based format</td>\n",
       "      <td>Homo sapiens</td>\n",
       "      <td>CHEMBL3638178</td>\n",
       "      <td>Blood</td>\n",
       "      <td>NaN</td>\n",
       "      <td>NaN</td>\n",
       "      <td>NaN</td>\n",
       "      <td>NaN</td>\n",
       "      <td>NaN</td>\n",
       "      <td>CHEMBL230</td>\n",
       "      <td>Cyclooxygenase-2</td>\n",
       "      <td>Homo sapiens</td>\n",
       "      <td>SINGLE PROTEIN</td>\n",
       "      <td>CHEMBL3808358</td>\n",
       "      <td>1</td>\n",
       "      <td>Scientific Literature</td>\n",
       "      <td>J Med Chem</td>\n",
       "      <td>2016.0</td>\n",
       "      <td>NaN</td>\n",
       "      <td>NaN</td>\n",
       "      <td>NaN</td>\n",
       "      <td>NaN</td>\n",
       "    </tr>\n",
       "    <tr>\n",
       "      <th>3784</th>\n",
       "      <td>CHEMBL4640256</td>\n",
       "      <td>NaN</td>\n",
       "      <td>NaN</td>\n",
       "      <td>414.90</td>\n",
       "      <td>0.0</td>\n",
       "      <td>2.50</td>\n",
       "      <td>10</td>\n",
       "      <td>COC(=O)[C@@H](N)Cc1cn(-c2nc(Cl)nc(N3CCCCC3)n2)...</td>\n",
       "      <td>Activity</td>\n",
       "      <td>'='</td>\n",
       "      <td>0.45</td>\n",
       "      <td>ng/ml</td>\n",
       "      <td>NaN</td>\n",
       "      <td>NaN</td>\n",
       "      <td>NaN</td>\n",
       "      <td>UO_0000275</td>\n",
       "      <td>NaN</td>\n",
       "      <td>NaN</td>\n",
       "      <td>NaN</td>\n",
       "      <td>NaN</td>\n",
       "      <td>0</td>\n",
       "      <td>CHEMBL4610813</td>\n",
       "      <td>Inhibition of LPS-activated COX2 in human whol...</td>\n",
       "      <td>B</td>\n",
       "      <td>BAO_0000221</td>\n",
       "      <td>tissue-based format</td>\n",
       "      <td>Homo sapiens</td>\n",
       "      <td>CHEMBL3638178</td>\n",
       "      <td>Blood</td>\n",
       "      <td>NaN</td>\n",
       "      <td>NaN</td>\n",
       "      <td>NaN</td>\n",
       "      <td>NaN</td>\n",
       "      <td>NaN</td>\n",
       "      <td>CHEMBL230</td>\n",
       "      <td>Cyclooxygenase-2</td>\n",
       "      <td>Homo sapiens</td>\n",
       "      <td>SINGLE PROTEIN</td>\n",
       "      <td>CHEMBL4610009</td>\n",
       "      <td>1</td>\n",
       "      <td>Scientific Literature</td>\n",
       "      <td>Bioorg Med Chem</td>\n",
       "      <td>2020.0</td>\n",
       "      <td>NaN</td>\n",
       "      <td>NaN</td>\n",
       "      <td>NaN</td>\n",
       "      <td>NaN</td>\n",
       "    </tr>\n",
       "    <tr>\n",
       "      <th>3785</th>\n",
       "      <td>CHEMBL6</td>\n",
       "      <td>INDOMETHACIN</td>\n",
       "      <td>4.0</td>\n",
       "      <td>357.79</td>\n",
       "      <td>0.0</td>\n",
       "      <td>3.93</td>\n",
       "      <td>Indomethacin</td>\n",
       "      <td>COc1ccc2c(c1)c(CC(=O)O)c(C)n2C(=O)c1ccc(Cl)cc1</td>\n",
       "      <td>Activity</td>\n",
       "      <td>'='</td>\n",
       "      <td>0.98</td>\n",
       "      <td>ng/ml</td>\n",
       "      <td>NaN</td>\n",
       "      <td>NaN</td>\n",
       "      <td>NaN</td>\n",
       "      <td>UO_0000275</td>\n",
       "      <td>NaN</td>\n",
       "      <td>NaN</td>\n",
       "      <td>NaN</td>\n",
       "      <td>NaN</td>\n",
       "      <td>0</td>\n",
       "      <td>CHEMBL4610813</td>\n",
       "      <td>Inhibition of LPS-activated COX2 in human whol...</td>\n",
       "      <td>B</td>\n",
       "      <td>BAO_0000221</td>\n",
       "      <td>tissue-based format</td>\n",
       "      <td>Homo sapiens</td>\n",
       "      <td>CHEMBL3638178</td>\n",
       "      <td>Blood</td>\n",
       "      <td>NaN</td>\n",
       "      <td>NaN</td>\n",
       "      <td>NaN</td>\n",
       "      <td>NaN</td>\n",
       "      <td>NaN</td>\n",
       "      <td>CHEMBL230</td>\n",
       "      <td>Cyclooxygenase-2</td>\n",
       "      <td>Homo sapiens</td>\n",
       "      <td>SINGLE PROTEIN</td>\n",
       "      <td>CHEMBL4610009</td>\n",
       "      <td>1</td>\n",
       "      <td>Scientific Literature</td>\n",
       "      <td>Bioorg Med Chem</td>\n",
       "      <td>2020.0</td>\n",
       "      <td>NaN</td>\n",
       "      <td>NaN</td>\n",
       "      <td>NaN</td>\n",
       "      <td>NaN</td>\n",
       "    </tr>\n",
       "    <tr>\n",
       "      <th>4287</th>\n",
       "      <td>CHEMBL4164251</td>\n",
       "      <td>NaN</td>\n",
       "      <td>NaN</td>\n",
       "      <td>320.74</td>\n",
       "      <td>0.0</td>\n",
       "      <td>1.21</td>\n",
       "      <td>2</td>\n",
       "      <td>Nc1nc(Cl)nc(Nc2ccc(N3CCOCC3=O)cc2)n1</td>\n",
       "      <td>Activity</td>\n",
       "      <td>'='</td>\n",
       "      <td>1.14</td>\n",
       "      <td>ng/ml</td>\n",
       "      <td>NaN</td>\n",
       "      <td>NaN</td>\n",
       "      <td>NaN</td>\n",
       "      <td>UO_0000275</td>\n",
       "      <td>NaN</td>\n",
       "      <td>NaN</td>\n",
       "      <td>NaN</td>\n",
       "      <td>NaN</td>\n",
       "      <td>0</td>\n",
       "      <td>CHEMBL4151940</td>\n",
       "      <td>Inhibition of COX2 in human whole blood assess...</td>\n",
       "      <td>B</td>\n",
       "      <td>BAO_0000357</td>\n",
       "      <td>single protein format</td>\n",
       "      <td>Homo sapiens</td>\n",
       "      <td>NaN</td>\n",
       "      <td>NaN</td>\n",
       "      <td>NaN</td>\n",
       "      <td>NaN</td>\n",
       "      <td>NaN</td>\n",
       "      <td>NaN</td>\n",
       "      <td>NaN</td>\n",
       "      <td>CHEMBL230</td>\n",
       "      <td>Cyclooxygenase-2</td>\n",
       "      <td>Homo sapiens</td>\n",
       "      <td>SINGLE PROTEIN</td>\n",
       "      <td>CHEMBL4145689</td>\n",
       "      <td>1</td>\n",
       "      <td>Scientific Literature</td>\n",
       "      <td>J Med Chem</td>\n",
       "      <td>2018.0</td>\n",
       "      <td>NaN</td>\n",
       "      <td>NaN</td>\n",
       "      <td>NaN</td>\n",
       "      <td>NaN</td>\n",
       "    </tr>\n",
       "  </tbody>\n",
       "</table>\n",
       "</div>"
      ],
      "text/plain": [
       "     Molecule ChEMBL ID Molecule Name  Molecule Max Phase  Molecular Weight  \\\n",
       "1901      CHEMBL3809156           NaN                 NaN            406.48   \n",
       "2608            CHEMBL6  INDOMETHACIN                 4.0            357.79   \n",
       "3784      CHEMBL4640256           NaN                 NaN            414.90   \n",
       "3785            CHEMBL6  INDOMETHACIN                 4.0            357.79   \n",
       "4287      CHEMBL4164251           NaN                 NaN            320.74   \n",
       "\n",
       "      #RO5 Violations  AlogP  Compound Key  \\\n",
       "1901              0.0  -0.51            30   \n",
       "2608              0.0   3.93  indomethacin   \n",
       "3784              0.0   2.50            10   \n",
       "3785              0.0   3.93  Indomethacin   \n",
       "4287              0.0   1.21             2   \n",
       "\n",
       "                                                 Smiles Standard Type  \\\n",
       "1901  COC(=O)[C@H](CC(C)C)NC(=O)[C@H](Cc1ccccc1)NC(=...      Activity   \n",
       "2608     COc1ccc2c(c1)c(CC(=O)O)c(C)n2C(=O)c1ccc(Cl)cc1      Activity   \n",
       "3784  COC(=O)[C@@H](N)Cc1cn(-c2nc(Cl)nc(N3CCCCC3)n2)...      Activity   \n",
       "3785     COc1ccc2c(c1)c(CC(=O)O)c(C)n2C(=O)c1ccc(Cl)cc1      Activity   \n",
       "4287               Nc1nc(Cl)nc(Nc2ccc(N3CCOCC3=O)cc2)n1      Activity   \n",
       "\n",
       "     Standard Relation  Standard Value Standard Units  pChEMBL Value  \\\n",
       "1901               '='            0.08          ng/ml            NaN   \n",
       "2608               '='            2.10          ng/ml            NaN   \n",
       "3784               '='            0.45          ng/ml            NaN   \n",
       "3785               '='            0.98          ng/ml            NaN   \n",
       "4287               '='            1.14          ng/ml            NaN   \n",
       "\n",
       "     Data Validity Comment Comment    Uo Units  Ligand Efficiency BEI  \\\n",
       "1901                   NaN     NaN  UO_0000275                    NaN   \n",
       "2608                   NaN     NaN  UO_0000275                    NaN   \n",
       "3784                   NaN     NaN  UO_0000275                    NaN   \n",
       "3785                   NaN     NaN  UO_0000275                    NaN   \n",
       "4287                   NaN     NaN  UO_0000275                    NaN   \n",
       "\n",
       "      Ligand Efficiency LE  Ligand Efficiency LLE  Ligand Efficiency SEI  \\\n",
       "1901                   NaN                    NaN                    NaN   \n",
       "2608                   NaN                    NaN                    NaN   \n",
       "3784                   NaN                    NaN                    NaN   \n",
       "3785                   NaN                    NaN                    NaN   \n",
       "4287                   NaN                    NaN                    NaN   \n",
       "\n",
       "      Potential Duplicate Assay ChEMBL ID  \\\n",
       "1901                    0   CHEMBL3811634   \n",
       "2608                    0   CHEMBL3811634   \n",
       "3784                    0   CHEMBL4610813   \n",
       "3785                    0   CHEMBL4610813   \n",
       "4287                    0   CHEMBL4151940   \n",
       "\n",
       "                                      Assay Description Assay Type  \\\n",
       "1901  Inhibition of COX2 in healthy human whole bloo...          B   \n",
       "2608  Inhibition of COX2 in healthy human whole bloo...          B   \n",
       "3784  Inhibition of LPS-activated COX2 in human whol...          B   \n",
       "3785  Inhibition of LPS-activated COX2 in human whol...          B   \n",
       "4287  Inhibition of COX2 in human whole blood assess...          B   \n",
       "\n",
       "     BAO Format ID              BAO Label Assay Organism  \\\n",
       "1901   BAO_0000221    tissue-based format   Homo sapiens   \n",
       "2608   BAO_0000221    tissue-based format   Homo sapiens   \n",
       "3784   BAO_0000221    tissue-based format   Homo sapiens   \n",
       "3785   BAO_0000221    tissue-based format   Homo sapiens   \n",
       "4287   BAO_0000357  single protein format   Homo sapiens   \n",
       "\n",
       "     Assay Tissue ChEMBL ID Assay Tissue Name Assay Cell Type  \\\n",
       "1901          CHEMBL3638178             Blood             NaN   \n",
       "2608          CHEMBL3638178             Blood             NaN   \n",
       "3784          CHEMBL3638178             Blood             NaN   \n",
       "3785          CHEMBL3638178             Blood             NaN   \n",
       "4287                    NaN               NaN             NaN   \n",
       "\n",
       "     Assay Subcellular Fraction Assay Parameters  Assay Variant Accession  \\\n",
       "1901                        NaN              NaN                      NaN   \n",
       "2608                        NaN              NaN                      NaN   \n",
       "3784                        NaN              NaN                      NaN   \n",
       "3785                        NaN              NaN                      NaN   \n",
       "4287                        NaN              NaN                      NaN   \n",
       "\n",
       "      Assay Variant Mutation Target ChEMBL ID       Target Name  \\\n",
       "1901                     NaN        CHEMBL230  Cyclooxygenase-2   \n",
       "2608                     NaN        CHEMBL230  Cyclooxygenase-2   \n",
       "3784                     NaN        CHEMBL230  Cyclooxygenase-2   \n",
       "3785                     NaN        CHEMBL230  Cyclooxygenase-2   \n",
       "4287                     NaN        CHEMBL230  Cyclooxygenase-2   \n",
       "\n",
       "     Target Organism     Target Type Document ChEMBL ID  Source ID  \\\n",
       "1901    Homo sapiens  SINGLE PROTEIN      CHEMBL3808358          1   \n",
       "2608    Homo sapiens  SINGLE PROTEIN      CHEMBL3808358          1   \n",
       "3784    Homo sapiens  SINGLE PROTEIN      CHEMBL4610009          1   \n",
       "3785    Homo sapiens  SINGLE PROTEIN      CHEMBL4610009          1   \n",
       "4287    Homo sapiens  SINGLE PROTEIN      CHEMBL4145689          1   \n",
       "\n",
       "         Source Description Document Journal  Document Year Cell ChEMBL ID  \\\n",
       "1901  Scientific Literature       J Med Chem         2016.0            NaN   \n",
       "2608  Scientific Literature       J Med Chem         2016.0            NaN   \n",
       "3784  Scientific Literature  Bioorg Med Chem         2020.0            NaN   \n",
       "3785  Scientific Literature  Bioorg Med Chem         2020.0            NaN   \n",
       "4287  Scientific Literature       J Med Chem         2018.0            NaN   \n",
       "\n",
       "     Properties Action Type  Standard Text Value  \n",
       "1901        NaN         NaN                  NaN  \n",
       "2608        NaN         NaN                  NaN  \n",
       "3784        NaN         NaN                  NaN  \n",
       "3785        NaN         NaN                  NaN  \n",
       "4287        NaN         NaN                  NaN  "
      ]
     },
     "execution_count": 54,
     "metadata": {},
     "output_type": "execute_result"
    }
   ],
   "source": [
    "data[ data['Standard Units'] == 'ng/ml' ].head()"
   ]
  },
  {
   "cell_type": "markdown",
   "id": "prostate-cattle",
   "metadata": {},
   "source": [
    "This is a relly hard data to analyze. Looking at one document [here](https://pubs.acs.org/doi/10.1021/acs.jmedchem.8b00922), we see that the data listed as \"inhibition\" actually is the . _\"Inhibition of TxB2 during Calcium-Ionophore Stimulation and Inhibition of PGE2 during LPS-Stimulation of Human Whole Blood\"_, at the compound concentration of 1 μM.\n",
    "\n",
    "The only way to use this data is by looking at each article case-by-case! However, the same papers can also have IC50s for the molecules, so we can use that instead."
   ]
  },
  {
   "cell_type": "markdown",
   "id": "sonic-rubber",
   "metadata": {},
   "source": [
    "# Build Database"
   ]
  },
  {
   "cell_type": "markdown",
   "id": "shared-highland",
   "metadata": {},
   "source": [
    "There are a total of 8,545 compounds wth unique SMILES in the database. However, the database actually has:\n",
    "\n",
    "- 7891 entries for $IC_{50}$ (which seems to be the most complete type of data). \n",
    "- 3315 entries with \"Inhibition\" data\n",
    "- 1193 with \"$AC_{50}$s\"\n",
    "- 899 with $K_i$ data, from which only 25 acctually have any data to it.\n",
    "- 398 with \"Activity\" data.\n",
    "\n",
    "Let's create a database with only useful data. It is likely that we can get *some* data on all molecules by using a combination of these."
   ]
  },
  {
   "cell_type": "markdown",
   "id": "53e4261c-3f64-47ef-82db-154d29f795c7",
   "metadata": {},
   "source": [
    "## Columns\n",
    "There's a large number of columns, with all kinds of data in the database:"
   ]
  },
  {
   "cell_type": "code",
   "execution_count": 55,
   "id": "fifty-italy",
   "metadata": {
    "tags": []
   },
   "outputs": [
    {
     "data": {
      "text/plain": [
       "Index(['Molecule ChEMBL ID', 'Molecule Name', 'Molecule Max Phase',\n",
       "       'Molecular Weight', '#RO5 Violations', 'AlogP', 'Compound Key',\n",
       "       'Smiles', 'Standard Type', 'Standard Relation', 'Standard Value',\n",
       "       'Standard Units', 'pChEMBL Value', 'Data Validity Comment', 'Comment',\n",
       "       'Uo Units', 'Ligand Efficiency BEI', 'Ligand Efficiency LE',\n",
       "       'Ligand Efficiency LLE', 'Ligand Efficiency SEI', 'Potential Duplicate',\n",
       "       'Assay ChEMBL ID', 'Assay Description', 'Assay Type', 'BAO Format ID',\n",
       "       'BAO Label', 'Assay Organism', 'Assay Tissue ChEMBL ID',\n",
       "       'Assay Tissue Name', 'Assay Cell Type', 'Assay Subcellular Fraction',\n",
       "       'Assay Parameters', 'Assay Variant Accession', 'Assay Variant Mutation',\n",
       "       'Target ChEMBL ID', 'Target Name', 'Target Organism', 'Target Type',\n",
       "       'Document ChEMBL ID', 'Source ID', 'Source Description',\n",
       "       'Document Journal', 'Document Year', 'Cell ChEMBL ID', 'Properties',\n",
       "       'Action Type', 'Standard Text Value'],\n",
       "      dtype='object')"
      ]
     },
     "execution_count": 55,
     "metadata": {},
     "output_type": "execute_result"
    }
   ],
   "source": [
    "cox2db.columns"
   ]
  },
  {
   "cell_type": "markdown",
   "id": "4c78192e-8167-4f29-a226-ee85bce14ec6",
   "metadata": {
    "tags": []
   },
   "source": [
    "That's a lot of columns, and not all are necessary. Let's keep only a selection of these:"
   ]
  },
  {
   "cell_type": "code",
   "execution_count": 56,
   "id": "framed-convention",
   "metadata": {
    "tags": []
   },
   "outputs": [],
   "source": [
    "columns = ['Molecule ChEMBL ID', 'Molecule Name', 'Molecule Max Phase',\n",
    "           'Smiles', 'Standard Type', 'Standard Relation', 'Standard Value','Standard Units']"
   ]
  },
  {
   "cell_type": "markdown",
   "id": "front-mixer",
   "metadata": {},
   "source": [
    "## IC50s"
   ]
  },
  {
   "cell_type": "markdown",
   "id": "96e5eadd-1184-4925-ad61-d373fe27947e",
   "metadata": {},
   "source": [
    "Let's do some checking first. We start with the 7,891 entries with IC50 data.\n",
    "\n",
    "**Remember that:**\n",
    "- Some are reported in different units,\n",
    "- some have values or SMILES missing,\n",
    "- Some are only annotated as _\"larger than\"_ or _\"smaller than\"_ some threshold\n",
    "- Some have `Data Validity Comment`s indicating the data may be problematic\n",
    "\n",
    "We will need to remove all those cases.\n",
    "\n",
    "Lets start only with data for which we have:\n",
    "1. Measured IC50 values in units of nM\n",
    "1. There is a Smiles value\n",
    "1. Have no warnings on data value"
   ]
  },
  {
   "cell_type": "code",
   "execution_count": 58,
   "id": "fifty-swiss",
   "metadata": {
    "tags": []
   },
   "outputs": [
    {
     "name": "stdout",
     "output_type": "stream",
     "text": [
      "Total number of entries that match the criteria: 5571\n",
      "Number of entries with unique SMILES strings:    4011\n",
      "Do the number of unique SMILES match the number of unique ChEMBL IDs? True\n"
     ]
    }
   ],
   "source": [
    "ic50_data = cox2db[ (cox2db['Standard Type']     == 'IC50')  &\n",
    "                    (cox2db['Standard Relation'] ==  \"'='\")  &\n",
    "                    (cox2db['Standard Units']    ==  'nM' )  &\n",
    "                    (cox2db['Smiles'].notna()             )  &\n",
    "                    (cox2db['Data Validity Comment'].isna()) ][columns]\n",
    "\n",
    "print(\"Total number of entries that match the criteria:\", len(ic50_data))\n",
    "print(\"Number of entries with unique SMILES strings:   \", len(ic50_data['Smiles'].unique()))\n",
    "print(\"Do the number of unique SMILES match the number of unique ChEMBL IDs?\", \n",
    "      len(ic50_data['Smiles'].unique()) == len(ic50_data['Molecule ChEMBL ID'].unique()))"
   ]
  },
  {
   "cell_type": "markdown",
   "id": "greek-violence",
   "metadata": {},
   "source": [
    "### Wisdom of the crowd\n",
    "\n",
    "There are a total of 5,571 entries that match the criteria, but only 4,011 unique molecules. That means there a lot of molecules appear more than once (remember Celecoxib?). If the values vary so much, how do we choose the correct one?\n",
    "\n",
    "We *could* just average the values, but that may be skewed by outliers. Here, we will use the *Wisdom of the Crowd* idea: for each molecule, we will choose the **most common** value (`mode`)."
   ]
  },
  {
   "cell_type": "code",
   "execution_count": 59,
   "id": "signed-scott",
   "metadata": {
    "tags": []
   },
   "outputs": [
    {
     "name": "stderr",
     "output_type": "stream",
     "text": [
      "  0%|          | 0/4011 [00:00<?, ?it/s]/scratch/local/42758336/ipykernel_664549/66569010.py:5: FutureWarning: The behavior of DataFrame concatenation with empty or all-NA entries is deprecated. In a future version, this will no longer exclude empty or all-NA columns when determining the result dtypes. To retain the old behavior, exclude the relevant entries before the concat operation.\n",
      "  cox2_ic50s = pd.concat([cox2_ic50s,new_row])\n",
      "100%|██████████| 4011/4011 [00:08<00:00, 453.43it/s]\n"
     ]
    },
    {
     "data": {
      "text/plain": [
       "(4011, 8)"
      ]
     },
     "execution_count": 59,
     "metadata": {},
     "output_type": "execute_result"
    }
   ],
   "source": [
    "# This creates a new DataFrame to hold unique entries, and use the `mode` of IC50s for that molecule as the value.\n",
    "cox2_ic50s = pd.DataFrame(columns=columns)\n",
    "for  ic50_data_line in tqdm(ic50_data['Molecule ChEMBL ID'].unique()):\n",
    "    new_row =  ic50_data[ ic50_data['Molecule ChEMBL ID'] ==  ic50_data_line].mode().head(1).copy(deep=True)\n",
    "    cox2_ic50s = pd.concat([cox2_ic50s,new_row])\n",
    "cox2_ic50s.shape"
   ]
  },
  {
   "cell_type": "code",
   "execution_count": 60,
   "id": "announced-postcard",
   "metadata": {
    "tags": []
   },
   "outputs": [
    {
     "data": {
      "text/html": [
       "<div>\n",
       "<style scoped>\n",
       "    .dataframe tbody tr th:only-of-type {\n",
       "        vertical-align: middle;\n",
       "    }\n",
       "\n",
       "    .dataframe tbody tr th {\n",
       "        vertical-align: top;\n",
       "    }\n",
       "\n",
       "    .dataframe thead th {\n",
       "        text-align: right;\n",
       "    }\n",
       "</style>\n",
       "<table border=\"1\" class=\"dataframe\">\n",
       "  <thead>\n",
       "    <tr style=\"text-align: right;\">\n",
       "      <th></th>\n",
       "      <th>Molecule ChEMBL ID</th>\n",
       "      <th>Molecule Name</th>\n",
       "      <th>Molecule Max Phase</th>\n",
       "      <th>Smiles</th>\n",
       "      <th>Standard Type</th>\n",
       "      <th>Standard Relation</th>\n",
       "      <th>Standard Value</th>\n",
       "      <th>Standard Units</th>\n",
       "    </tr>\n",
       "  </thead>\n",
       "  <tbody>\n",
       "    <tr>\n",
       "      <th>0</th>\n",
       "      <td>CHEMBL416126</td>\n",
       "      <td>NaN</td>\n",
       "      <td>NaN</td>\n",
       "      <td>CS(=O)(=O)c1ccc(-c2cc(F)c(F)cc2-c2ccc3c(c2)OCO...</td>\n",
       "      <td>IC50</td>\n",
       "      <td>'='</td>\n",
       "      <td>12.00</td>\n",
       "      <td>nM</td>\n",
       "    </tr>\n",
       "    <tr>\n",
       "      <th>0</th>\n",
       "      <td>CHEMBL143776</td>\n",
       "      <td>NaN</td>\n",
       "      <td>NaN</td>\n",
       "      <td>Fc1ccc(-c2[nH]c(-c3ccc(F)cc3)c3c2C2CCC3C2)cc1</td>\n",
       "      <td>IC50</td>\n",
       "      <td>'='</td>\n",
       "      <td>0.08</td>\n",
       "      <td>nM</td>\n",
       "    </tr>\n",
       "    <tr>\n",
       "      <th>0</th>\n",
       "      <td>CHEMBL322276</td>\n",
       "      <td>NaN</td>\n",
       "      <td>NaN</td>\n",
       "      <td>CC1(C)OC(=O)C(Oc2ccc3[nH]ccc3c2)=C1c1ccc(S(C)(...</td>\n",
       "      <td>IC50</td>\n",
       "      <td>'='</td>\n",
       "      <td>30.00</td>\n",
       "      <td>nM</td>\n",
       "    </tr>\n",
       "    <tr>\n",
       "      <th>0</th>\n",
       "      <td>CHEMBL43864</td>\n",
       "      <td>NaN</td>\n",
       "      <td>NaN</td>\n",
       "      <td>Cc1ccc(-c2ccc(S(C)(=O)=O)cc2)n1C1CCCCC1</td>\n",
       "      <td>IC50</td>\n",
       "      <td>'='</td>\n",
       "      <td>520.00</td>\n",
       "      <td>nM</td>\n",
       "    </tr>\n",
       "    <tr>\n",
       "      <th>0</th>\n",
       "      <td>CHEMBL45090</td>\n",
       "      <td>NaN</td>\n",
       "      <td>NaN</td>\n",
       "      <td>CS(=O)(=O)c1ccc(-n2cc(C(F)(F)F)nc2-c2cc(Cl)cc(...</td>\n",
       "      <td>IC50</td>\n",
       "      <td>'='</td>\n",
       "      <td>169.82</td>\n",
       "      <td>nM</td>\n",
       "    </tr>\n",
       "  </tbody>\n",
       "</table>\n",
       "</div>"
      ],
      "text/plain": [
       "  Molecule ChEMBL ID Molecule Name  Molecule Max Phase  \\\n",
       "0       CHEMBL416126           NaN                 NaN   \n",
       "0       CHEMBL143776           NaN                 NaN   \n",
       "0       CHEMBL322276           NaN                 NaN   \n",
       "0        CHEMBL43864           NaN                 NaN   \n",
       "0        CHEMBL45090           NaN                 NaN   \n",
       "\n",
       "                                              Smiles Standard Type  \\\n",
       "0  CS(=O)(=O)c1ccc(-c2cc(F)c(F)cc2-c2ccc3c(c2)OCO...          IC50   \n",
       "0      Fc1ccc(-c2[nH]c(-c3ccc(F)cc3)c3c2C2CCC3C2)cc1          IC50   \n",
       "0  CC1(C)OC(=O)C(Oc2ccc3[nH]ccc3c2)=C1c1ccc(S(C)(...          IC50   \n",
       "0            Cc1ccc(-c2ccc(S(C)(=O)=O)cc2)n1C1CCCCC1          IC50   \n",
       "0  CS(=O)(=O)c1ccc(-n2cc(C(F)(F)F)nc2-c2cc(Cl)cc(...          IC50   \n",
       "\n",
       "  Standard Relation  Standard Value Standard Units  \n",
       "0               '='           12.00             nM  \n",
       "0               '='            0.08             nM  \n",
       "0               '='           30.00             nM  \n",
       "0               '='          520.00             nM  \n",
       "0               '='          169.82             nM  "
      ]
     },
     "execution_count": 60,
     "metadata": {},
     "output_type": "execute_result"
    }
   ],
   "source": [
    "cox2_ic50s.head()"
   ]
  },
  {
   "cell_type": "code",
   "execution_count": 61,
   "id": "95318eaa-c391-4dcb-b686-69214eac12e2",
   "metadata": {
    "tags": []
   },
   "outputs": [
    {
     "name": "stdout",
     "output_type": "stream",
     "text": [
      "The new database has shape:  (4011, 8)\n",
      "The new database has length:  4011\n",
      "Number of unique ChEMBL IDs:  4011\n"
     ]
    }
   ],
   "source": [
    "print(\"The new database has shape: \", cox2_ic50s.shape)\n",
    "print(\"The new database has length: \", len( cox2_ic50s['Smiles'].unique() ))\n",
    "print(\"Number of unique ChEMBL IDs: \", len( cox2_ic50s['Molecule ChEMBL ID'].unique() ))"
   ]
  },
  {
   "cell_type": "markdown",
   "id": "fea8e376-b8bc-4cec-b4a0-cac441a7c024",
   "metadata": {},
   "source": [
    "Finally, let's remove the temporary dataframes, to save memory:"
   ]
  },
  {
   "cell_type": "code",
   "execution_count": null,
   "id": "technological-infrastructure",
   "metadata": {
    "tags": []
   },
   "outputs": [],
   "source": [
    "del(ic50_data, ic50_data_line)"
   ]
  },
  {
   "cell_type": "markdown",
   "id": "70287bc6-c56e-488a-9aae-a69df0393223",
   "metadata": {},
   "source": [
    "### Activity Bit\n",
    "The numerical data we have so far is good for regression. We can also add a column to represent\n",
    "if the molecule is active or not, useful for classification purposes. Here, let's define a molecule\n",
    "as *acctive* if the $IC_{50}$ is below 100 nM:"
   ]
  },
  {
   "cell_type": "code",
   "execution_count": 62,
   "id": "b0dd59d4-7a84-4b5d-b34e-9bffba659ade",
   "metadata": {
    "tags": []
   },
   "outputs": [],
   "source": [
    "cox2_ic50s[\"Active\"] = cox2_ic50s[\"Standard Value\"] < 100"
   ]
  },
  {
   "cell_type": "code",
   "execution_count": 63,
   "id": "67daf1fb-8c6b-47c7-8ce4-f5ba6e89f6d6",
   "metadata": {
    "tags": []
   },
   "outputs": [
    {
     "data": {
      "text/plain": [
       "Active\n",
       "False    3004\n",
       "True     1007\n",
       "Name: count, dtype: int64"
      ]
     },
     "execution_count": 63,
     "metadata": {},
     "output_type": "execute_result"
    }
   ],
   "source": [
    "cox2_ic50s[\"Active\"].value_counts()"
   ]
  },
  {
   "cell_type": "markdown",
   "id": "19adfad2-20a4-490d-be60-e17323570801",
   "metadata": {},
   "source": [
    "We have about 3 inactives for each active compound."
   ]
  },
  {
   "cell_type": "markdown",
   "id": "6079f22e-c7bc-4ed1-b5d0-74529b6be29f",
   "metadata": {},
   "source": [
    "### Other Relationships\n",
    "\n",
    "We can now go back to the other relationships, Furst, look at the molecules with a \"larger than\" relationship. Those were so inactive they couldn't even measure the $IC_{50}$s! "
   ]
  },
  {
   "cell_type": "code",
   "execution_count": 64,
   "id": "9437c32c-e0f7-4109-a87d-976eeb6ed7c0",
   "metadata": {
    "tags": []
   },
   "outputs": [],
   "source": [
    "ic50_lt_data = cox2db[ (cox2db['Standard Type']     == 'IC50')  &\n",
    "                       (cox2db['Standard Relation'] ==  \"'>'\")  &\n",
    "                       (cox2db['Smiles'].notna()             )  &\n",
    "                       (cox2db['Data Validity Comment'].isna()) ][columns]"
   ]
  },
  {
   "cell_type": "markdown",
   "id": "2037b263-2d70-4d8e-b1cf-599ec793e6bc",
   "metadata": {
    "tags": []
   },
   "source": [
    "However, not all are unique, and some were already counted before:"
   ]
  },
  {
   "cell_type": "code",
   "execution_count": 65,
   "id": "b5a02d15-9343-4249-8f07-7d29001069a9",
   "metadata": {
    "tags": []
   },
   "outputs": [
    {
     "name": "stdout",
     "output_type": "stream",
     "text": [
      "Total number of molecules with 'lt' relationship data: 910\n",
      "Number of unique molecules with 'lt' relationship data:  856\n",
      "Number of those without IC50 data: 811\n"
     ]
    }
   ],
   "source": [
    "cox2_ic50s_mols = set(cox2_ic50s['Molecule ChEMBL ID'].unique())\n",
    "\n",
    "lt_mols = set(ic50_lt_data['Molecule ChEMBL ID'].unique())\n",
    "new_mols = lt_mols - cox2_ic50s_mols\n",
    "print(\"Total number of molecules with 'lt' relationship data:\", len(ic50_lt_data))\n",
    "print(\"Number of unique molecules with 'lt' relationship data: \", len(lt_mols) )\n",
    "print(\"Number of those without IC50 data:\", len(new_mols))"
   ]
  },
  {
   "cell_type": "markdown",
   "id": "8fbfb049-f713-44ee-9505-e170d3f2c17c",
   "metadata": {},
   "source": [
    "Still, we can sue the data for 811 new molecules. Let's just set them all as inactive, and marge to the previous database."
   ]
  },
  {
   "cell_type": "code",
   "execution_count": 66,
   "id": "63cc547d-805d-4f18-ae0a-1e5ae4eab3d7",
   "metadata": {
    "tags": []
   },
   "outputs": [],
   "source": [
    "ic50_lt_data.drop_duplicates(subset=['Molecule ChEMBL ID'], inplace=True)"
   ]
  },
  {
   "cell_type": "code",
   "execution_count": 67,
   "id": "f4b66e79-a9e8-46f2-9e40-b60ca4bc57a3",
   "metadata": {
    "tags": []
   },
   "outputs": [
    {
     "name": "stderr",
     "output_type": "stream",
     "text": [
      "100%|██████████| 856/856 [00:00<00:00, 43074.24it/s]\n"
     ]
    }
   ],
   "source": [
    "for mol in tqdm(ic50_lt_data['Molecule ChEMBL ID']):\n",
    "    if (mol in cox2_ic50s_mols):\n",
    "        ic50_lt_data.drop( ic50_lt_data.loc[ic50_lt_data['Molecule ChEMBL ID'] == mol].index, inplace=True)"
   ]
  },
  {
   "cell_type": "code",
   "execution_count": 68,
   "id": "bb01c2c2-8ba6-4e69-977a-b58781ea01c2",
   "metadata": {
    "tags": []
   },
   "outputs": [
    {
     "data": {
      "text/plain": [
       "811"
      ]
     },
     "execution_count": 68,
     "metadata": {},
     "output_type": "execute_result"
    }
   ],
   "source": [
    "len(ic50_lt_data)"
   ]
  },
  {
   "cell_type": "markdown",
   "id": "b71223bc-6dc6-4044-ba52-5b620ff4cec6",
   "metadata": {},
   "source": [
    "Let's now set the `Active` bit of those to \"False\" (inactive) and merge to the database:"
   ]
  },
  {
   "cell_type": "code",
   "execution_count": 69,
   "id": "f13b2b7c-9661-4292-94b7-6dec62726ac6",
   "metadata": {
    "tags": []
   },
   "outputs": [
    {
     "name": "stdout",
     "output_type": "stream",
     "text": [
      "The IC50s database now has 4822 unique molecules.\n"
     ]
    }
   ],
   "source": [
    "ic50_lt_data['Active'] = False\n",
    "cox2_ic50s = pd.concat([cox2_ic50s,ic50_lt_data], ignore_index=True)\n",
    "print(f\"The IC50s database now has {len(cox2_ic50s)} unique molecules.\")"
   ]
  },
  {
   "cell_type": "markdown",
   "id": "professional-dollar",
   "metadata": {},
   "source": [
    "### $IC_{50}$s Summary\n",
    "\n",
    "From an initial total of 13,999 entries, there were only 8,545 unique molecules. From those, only  4,011 were unique molecules with reasonably useful IC50 data."
   ]
  },
  {
   "cell_type": "markdown",
   "id": "e1683b1d-f21a-4207-81ed-119cce19fca2",
   "metadata": {},
   "source": [
    "### A quick peek at the molecules"
   ]
  },
  {
   "cell_type": "code",
   "execution_count": 77,
   "id": "complete-indonesia",
   "metadata": {
    "tags": []
   },
   "outputs": [
    {
     "data": {
      "image/png": "[encoded data removed]",
      "text/plain": [
       "<IPython.core.display.Image object>"
      ]
     },
     "execution_count": 77,
     "metadata": {},
     "output_type": "execute_result"
    }
   ],
   "source": [
    "# A quick look at the molecules\n",
    "n_to_draw = 8\n",
    "df = cox2_ic50s.sort_values(by=[\"Standard Value\"],ascending=[True]).head(n_to_draw)\n",
    "PandasTools.AddMoleculeColumnToFrame(df, smilesCol='Smiles')\n",
    "mols = df.ROMol.values\n",
    "top_ic50s = df['Molecule ChEMBL ID'].values\n",
    "legends = []\n",
    "for chemblid, ic50, unit in zip(df['Molecule ChEMBL ID'].values, df['Standard Value'].values, df['Standard Units']):\n",
    "    legends.append(f\"{chemblid}\\nIC50={ic50:.3f}{unit}\") \n",
    "Draw.MolsToGridImage(mols, molsPerRow=4,subImgSize=(250,250), legends=legends)"
   ]
  },
  {
   "cell_type": "markdown",
   "id": "fba36cee-d598-4922-862b-b782bf9faa8c",
   "metadata": {},
   "source": [
    "## Other Properties"
   ]
  },
  {
   "cell_type": "markdown",
   "id": "2a35a5ca-bd51-488e-9711-49e0e094aae8",
   "metadata": {},
   "source": [
    "There are also some molecules with only other types of activity reported:"
   ]
  },
  {
   "cell_type": "code",
   "execution_count": 70,
   "id": "6eed5a0a-22a4-45c2-acac-03c6b28b286b",
   "metadata": {
    "tags": []
   },
   "outputs": [
    {
     "name": "stdout",
     "output_type": "stream",
     "text": [
      "Number of entries with data as Inhibition: 2666\n",
      "Number of those without IC50 data: 1233\n",
      "------------------------------------------------------------\n",
      "Number of entries with data as AC50: 136\n",
      "Number of those without IC50 data: 117\n",
      "------------------------------------------------------------\n",
      "Number of entries with data as Ki: 26\n",
      "Number of those without IC50 data: 2\n",
      "------------------------------------------------------------\n",
      "Number of entries with data as Activity: 263\n",
      "Number of those without IC50 data: 132\n",
      "------------------------------------------------------------\n"
     ]
    }
   ],
   "source": [
    "other_properties = ['Inhibition', 'AC50','Ki','Activity']\n",
    "\n",
    "cox2_ic50s_mols = set(cox2_ic50s['Molecule ChEMBL ID'].unique())\n",
    "for prop in other_properties:\n",
    "    prop_data = cox2db[ (cox2db['Standard Type']     == prop)  &\n",
    "                        (cox2db['Standard Relation'] ==  \"'='\")  &\n",
    "                        (cox2db['Smiles'].notna()             )  &\n",
    "                        (cox2db['Data Validity Comment'].isna()) ][columns]\n",
    "    print(f\"Number of entries with data as {prop}: {len(prop_data)}\")\n",
    "    prop_mols = set(prop_data['Molecule ChEMBL ID'].unique())\n",
    "    new_mols = prop_mols - cox2_ic50s_mols\n",
    "    print(\"Number of those without IC50 data:\", len(new_mols))\n",
    "    print(\"-\"*60)"
   ]
  },
  {
   "cell_type": "markdown",
   "id": "633ded0b-7713-4265-9899-8e4b7e765a8d",
   "metadata": {},
   "source": [
    "It looks like we can recover some more data using those measures."
   ]
  },
  {
   "cell_type": "markdown",
   "id": "95c5f48f-c036-4426-93a4-2cf91b45514b",
   "metadata": {},
   "source": [
    "<div class=\"alert alert-info\" role=\"alert\">\n",
    "    <b>Exercise:</b> Try to gather more data from those other measures and enrich your database.\n",
    "</div>"
   ]
  },
  {
   "cell_type": "markdown",
   "id": "indonesian-complexity",
   "metadata": {},
   "source": [
    "## Pre-process database"
   ]
  },
  {
   "cell_type": "markdown",
   "id": "viral-stanley",
   "metadata": {},
   "source": [
    "Now we need to pre-process the database, to:\n",
    "\n",
    "1. Remove molecules that contain atoms other than ['C','N','O','H','S','P','As','Se','F','Cl','Br','I']\n",
    "1. Standardize (remove salts, etc.)\n",
    "1. Reset the SMILES from the ROMol objects\n",
    "1. Remove duplicates\n",
    "\n",
    "This process involves a number of functions. To make it easier, we collect all those functions\n",
    "in an external file (`utils/preprocess.py`), and just import it here."
   ]
  },
  {
   "cell_type": "markdown",
   "id": "f50412f7-9b82-4892-b2e4-6ed9cd937954",
   "metadata": {},
   "source": [
    "<div class=\"alert alert-warning\" role=\"alert\">\n",
    "    <b>Question:</b> Why didn't we do this earlier?\n",
    "</div>"
   ]
  },
  {
   "cell_type": "code",
   "execution_count": 71,
   "id": "8f74f49c-8a63-4a48-a2ad-4fd20fe7fa7e",
   "metadata": {
    "tags": []
   },
   "outputs": [],
   "source": [
    "# -- Preprocessing Tools\n",
    "from utils import preprocess"
   ]
  },
  {
   "cell_type": "code",
   "execution_count": 72,
   "id": "opened-hybrid",
   "metadata": {
    "tags": []
   },
   "outputs": [
    {
     "name": "stderr",
     "output_type": "stream",
     "text": [
      "Removing molecules with invalid atoms: 100%|██████████| 4822/4822 [00:00<00:00, 16779.78it/s]\n",
      "Standardizing: 100%|██████████| 4789/4789 [00:12<00:00, 384.55it/s]\n",
      "Resetting SMILES: 100%|██████████| 4789/4789 [00:00<00:00, 11171.93it/s]\n",
      "Generating InChI Keys: 100%|██████████| 4789/4789 [00:02<00:00, 2391.29it/s]\n"
     ]
    }
   ],
   "source": [
    "clean_df, dup_df = preprocess.preprocess_db(cox2_ic50s, smiles_col='Smiles')"
   ]
  },
  {
   "cell_type": "markdown",
   "id": "acoustic-cedar",
   "metadata": {},
   "source": [
    "So, the there were 52 molecules with atoms other than ['C','N','O','H','S','P','As','Se','F','Cl','Br','I']. Other than that, all was fine."
   ]
  },
  {
   "cell_type": "code",
   "execution_count": 73,
   "id": "global-setup",
   "metadata": {
    "tags": []
   },
   "outputs": [
    {
     "data": {
      "text/plain": [
       "((4822, 11), (4789, 11), (0, 0))"
      ]
     },
     "execution_count": 73,
     "metadata": {},
     "output_type": "execute_result"
    }
   ],
   "source": [
    "cox2_ic50s.shape, clean_df.shape, dup_df.shape"
   ]
  },
  {
   "cell_type": "code",
   "execution_count": 74,
   "id": "alternate-practitioner",
   "metadata": {
    "tags": []
   },
   "outputs": [
    {
     "data": {
      "text/plain": [
       "Index(['Molecule ChEMBL ID', 'Molecule Name', 'Molecule Max Phase',\n",
       "       'Standard Type', 'Standard Relation', 'Standard Value',\n",
       "       'Standard Units', 'Active', 'ROMol', 'Smiles', 'InChI Key'],\n",
       "      dtype='object')"
      ]
     },
     "execution_count": 74,
     "metadata": {},
     "output_type": "execute_result"
    }
   ],
   "source": [
    "clean_df.columns"
   ]
  },
  {
   "cell_type": "code",
   "execution_count": 78,
   "id": "neutral-conducting",
   "metadata": {
    "tags": []
   },
   "outputs": [
    {
     "data": {
      "image/png": "[encoded data removed]",
      "text/plain": [
       "<IPython.core.display.Image object>"
      ]
     },
     "execution_count": 78,
     "metadata": {},
     "output_type": "execute_result"
    }
   ],
   "source": [
    "# A quick look at the molecules\n",
    "n_to_draw = 8\n",
    "df = clean_df[ clean_df['Molecule ChEMBL ID'].isin(top_ic50s) ]\n",
    "mols = df.ROMol.values\n",
    "legends = []\n",
    "for chemblid, ic50, unit in zip(df['Molecule ChEMBL ID'].values, df['Standard Value'].values, df['Standard Units'].values):\n",
    "    legends.append(f\"{chemblid}\\nIC50={ic50:.3f} {unit}\") \n",
    "Draw.MolsToGridImage(mols, molsPerRow=4,subImgSize=(250,250), legends=legends)"
   ]
  },
  {
   "cell_type": "code",
   "execution_count": 79,
   "id": "better-atmosphere",
   "metadata": {
    "tags": []
   },
   "outputs": [],
   "source": [
    "cox2_ic50s = clean_df.copy(deep=True)"
   ]
  },
  {
   "cell_type": "markdown",
   "id": "registered-reserve",
   "metadata": {},
   "source": [
    "We no longer need these other databases, let's remove them."
   ]
  },
  {
   "cell_type": "code",
   "execution_count": 80,
   "id": "chemical-reference",
   "metadata": {
    "tags": []
   },
   "outputs": [],
   "source": [
    "del(clean_df,dup_df)"
   ]
  },
  {
   "cell_type": "code",
   "execution_count": 81,
   "id": "constant-ontario",
   "metadata": {
    "tags": []
   },
   "outputs": [
    {
     "data": {
      "text/html": [
       "<div>\n",
       "<style scoped>\n",
       "    .dataframe tbody tr th:only-of-type {\n",
       "        vertical-align: middle;\n",
       "    }\n",
       "\n",
       "    .dataframe tbody tr th {\n",
       "        vertical-align: top;\n",
       "    }\n",
       "\n",
       "    .dataframe thead th {\n",
       "        text-align: right;\n",
       "    }\n",
       "</style>\n",
       "<table border=\"1\" class=\"dataframe\">\n",
       "  <thead>\n",
       "    <tr style=\"text-align: right;\">\n",
       "      <th></th>\n",
       "      <th>Molecule ChEMBL ID</th>\n",
       "      <th>Molecule Name</th>\n",
       "      <th>Molecule Max Phase</th>\n",
       "      <th>Standard Type</th>\n",
       "      <th>Standard Relation</th>\n",
       "      <th>Standard Value</th>\n",
       "      <th>Standard Units</th>\n",
       "      <th>Active</th>\n",
       "      <th>ROMol</th>\n",
       "      <th>Smiles</th>\n",
       "      <th>InChI Key</th>\n",
       "    </tr>\n",
       "  </thead>\n",
       "  <tbody>\n",
       "    <tr>\n",
       "      <th>1533</th>\n",
       "      <td>CHEMBL1078376</td>\n",
       "      <td>NaN</td>\n",
       "      <td>NaN</td>\n",
       "      <td>IC50</td>\n",
       "      <td>'='</td>\n",
       "      <td>12030.0</td>\n",
       "      <td>nM</td>\n",
       "      <td>False</td>\n",
       "      <td style=\"text-align: center;\"><div style=\"width: 200px; height: 200px\" data-content=\"rdkit/molecule\"><img src=\"data:image/png;base64,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\" alt=\"Mol\"/></div></td>\n",
       "      <td>Cc1ccc(Nc2cnccc2NS(C)(=O)=O)cc1</td>\n",
       "      <td>QUVHDJSZHHKWSL-WYUMXYHSNA-N</td>\n",
       "    </tr>\n",
       "    <tr>\n",
       "      <th>4096</th>\n",
       "      <td>CHEMBL1689435</td>\n",
       "      <td>ETHANESULFONYLHYDROXAMIC ACID</td>\n",
       "      <td>NaN</td>\n",
       "      <td>IC50</td>\n",
       "      <td>'&gt;'</td>\n",
       "      <td>100000.0</td>\n",
       "      <td>nM</td>\n",
       "      <td>False</td>\n",
       "      <td style=\"text-align: center;\"><div style=\"width: 200px; height: 200px\" data-content=\"rdkit/molecule\"><img src=\"data:image/png;base64,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\" alt=\"Mol\"/></div></td>\n",
       "      <td>CCS(=O)(=O)NO</td>\n",
       "      <td>NZZOAMPXUAJBIA-UHFFFAOYNA-N</td>\n",
       "    </tr>\n",
       "    <tr>\n",
       "      <th>3507</th>\n",
       "      <td>CHEMBL4072942</td>\n",
       "      <td>NaN</td>\n",
       "      <td>NaN</td>\n",
       "      <td>IC50</td>\n",
       "      <td>'='</td>\n",
       "      <td>1860.0</td>\n",
       "      <td>nM</td>\n",
       "      <td>False</td>\n",
       "      <td style=\"text-align: center;\"><div style=\"width: 200px; height: 200px\" data-content=\"rdkit/molecule\"><img src=\"data:image/png;base64,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\" alt=\"Mol\"/></div></td>\n",
       "      <td>c1ccc(-n2nccc2-c2ccc(Nc3nc(N4CCCCC4)nc(N4CCCCC...</td>\n",
       "      <td>VVQZMIKHELEROZ-SREBMQDQNA-N</td>\n",
       "    </tr>\n",
       "    <tr>\n",
       "      <th>3220</th>\n",
       "      <td>CHEMBL3264696</td>\n",
       "      <td>NaN</td>\n",
       "      <td>NaN</td>\n",
       "      <td>IC50</td>\n",
       "      <td>'='</td>\n",
       "      <td>5210.0</td>\n",
       "      <td>nM</td>\n",
       "      <td>False</td>\n",
       "      <td style=\"text-align: center;\"><div style=\"width: 200px; height: 200px\" data-content=\"rdkit/molecule\"><img src=\"data:image/png;base64,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\" alt=\"Mol\"/></div></td>\n",
       "      <td>Fc1ccc(-n2cc(CSc3nc4ccccc4o3)nn2)cc1</td>\n",
       "      <td>IKKBSTHJSYHHHQ-UHFFFAOYNA-N</td>\n",
       "    </tr>\n",
       "    <tr>\n",
       "      <th>1381</th>\n",
       "      <td>CHEMBL502799</td>\n",
       "      <td>NaN</td>\n",
       "      <td>NaN</td>\n",
       "      <td>IC50</td>\n",
       "      <td>'='</td>\n",
       "      <td>2200.0</td>\n",
       "      <td>nM</td>\n",
       "      <td>False</td>\n",
       "      <td style=\"text-align: center;\"><div style=\"width: 200px; height: 200px\" data-content=\"rdkit/molecule\"><img src=\"data:image/png;base64,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\" alt=\"Mol\"/></div></td>\n",
       "      <td>CC(=O)O[C@@]12[C@H](OC(=O)[C@@H](C(C)C)N(C)C)[...</td>\n",
       "      <td>NNQZZZKSYAIGAN-XUSXYMRCNA-N</td>\n",
       "    </tr>\n",
       "  </tbody>\n",
       "</table>\n",
       "</div>"
      ],
      "text/plain": [
       "     Molecule ChEMBL ID                  Molecule Name  Molecule Max Phase  \\\n",
       "1533      CHEMBL1078376                            NaN                 NaN   \n",
       "4096      CHEMBL1689435  ETHANESULFONYLHYDROXAMIC ACID                 NaN   \n",
       "3507      CHEMBL4072942                            NaN                 NaN   \n",
       "3220      CHEMBL3264696                            NaN                 NaN   \n",
       "1381       CHEMBL502799                            NaN                 NaN   \n",
       "\n",
       "     Standard Type Standard Relation  Standard Value Standard Units  Active  \\\n",
       "1533          IC50               '='         12030.0             nM   False   \n",
       "4096          IC50               '>'        100000.0             nM   False   \n",
       "3507          IC50               '='          1860.0             nM   False   \n",
       "3220          IC50               '='          5210.0             nM   False   \n",
       "1381          IC50               '='          2200.0             nM   False   \n",
       "\n",
       "                                                 ROMol  \\\n",
       "1533  <rdkit.Chem.rdchem.Mol object at 0x14ac66a12c70>   \n",
       "4096  <rdkit.Chem.rdchem.Mol object at 0x14ac668fe500>   \n",
       "3507  <rdkit.Chem.rdchem.Mol object at 0x14ac66ac18c0>   \n",
       "3220  <rdkit.Chem.rdchem.Mol object at 0x14ac66aa5850>   \n",
       "1381  <rdkit.Chem.rdchem.Mol object at 0x14ac66a0f220>   \n",
       "\n",
       "                                                 Smiles  \\\n",
       "1533                    Cc1ccc(Nc2cnccc2NS(C)(=O)=O)cc1   \n",
       "4096                                      CCS(=O)(=O)NO   \n",
       "3507  c1ccc(-n2nccc2-c2ccc(Nc3nc(N4CCCCC4)nc(N4CCCCC...   \n",
       "3220               Fc1ccc(-n2cc(CSc3nc4ccccc4o3)nn2)cc1   \n",
       "1381  CC(=O)O[C@@]12[C@H](OC(=O)[C@@H](C(C)C)N(C)C)[...   \n",
       "\n",
       "                        InChI Key  \n",
       "1533  QUVHDJSZHHKWSL-WYUMXYHSNA-N  \n",
       "4096  NZZOAMPXUAJBIA-UHFFFAOYNA-N  \n",
       "3507  VVQZMIKHELEROZ-SREBMQDQNA-N  \n",
       "3220  IKKBSTHJSYHHHQ-UHFFFAOYNA-N  \n",
       "1381  NNQZZZKSYAIGAN-XUSXYMRCNA-N  "
      ]
     },
     "execution_count": 81,
     "metadata": {},
     "output_type": "execute_result"
    }
   ],
   "source": [
    "cox2_ic50s.sample(5)"
   ]
  },
  {
   "cell_type": "code",
   "execution_count": 82,
   "id": "healthy-marsh",
   "metadata": {
    "tags": []
   },
   "outputs": [
    {
     "data": {
      "text/plain": [
       "4789"
      ]
     },
     "execution_count": 82,
     "metadata": {},
     "output_type": "execute_result"
    }
   ],
   "source": [
    "len(cox2_ic50s)"
   ]
  },
  {
   "cell_type": "code",
   "execution_count": 83,
   "id": "a697ccb7-973c-41ad-ae19-56ebeed2b911",
   "metadata": {
    "tags": []
   },
   "outputs": [
    {
     "data": {
      "text/plain": [
       "4789"
      ]
     },
     "execution_count": 83,
     "metadata": {},
     "output_type": "execute_result"
    }
   ],
   "source": [
    "len(cox2_ic50s['Molecule ChEMBL ID'].unique())"
   ]
  },
  {
   "cell_type": "markdown",
   "id": "89d9d858-d6be-4545-87de-5d01b5e5bd8b",
   "metadata": {},
   "source": [
    "## Save database"
   ]
  },
  {
   "cell_type": "raw",
   "id": "e16d5439-8974-492b-80c1-94fdeb747b93",
   "metadata": {},
   "source": [
    "cox2_ic50s.to_pickle(\"cox2_ic50s.pkl\")"
   ]
  },
  {
   "cell_type": "markdown",
   "id": "227c7c71-88b4-4c1b-85bd-6122531a9150",
   "metadata": {},
   "source": [
    "# Example: A Random Forest Classifier"
   ]
  },
  {
   "cell_type": "markdown",
   "id": "f292ac1d-d182-45ec-8a7e-3d516927b2c6",
   "metadata": {},
   "source": [
    "As a usage example, let's build a simple Random Forest Classifier to determine if a molecule is active against COX-2 or not."
   ]
  },
  {
   "cell_type": "markdown",
   "id": "b7440cc4-e552-4dec-a735-711235703c3c",
   "metadata": {},
   "source": [
    "## Featurize the Molecules\n",
    "To create a model, we will need to add features to the molecules. Here, let's use the molecular fingerprint as features."
   ]
  },
  {
   "cell_type": "code",
   "execution_count": 84,
   "id": "c9a0cf24-13c8-4dce-947f-c82c7c8d0792",
   "metadata": {
    "tags": []
   },
   "outputs": [],
   "source": [
    "fpgen = AllChem.GetMorganGenerator(radius=3,fpSize=2048)"
   ]
  },
  {
   "cell_type": "code",
   "execution_count": 85,
   "id": "064c1b90-cfb8-46e7-8ef5-4d798a3b023a",
   "metadata": {
    "tags": []
   },
   "outputs": [],
   "source": [
    "cox2_ic50s['MorganFP'] = [fpgen.GetFingerprintAsNumPy(x) for x in cox2_ic50s.ROMol]"
   ]
  },
  {
   "cell_type": "code",
   "execution_count": 86,
   "id": "c251bfab-eac5-400b-a12f-9d550d636505",
   "metadata": {
    "tags": []
   },
   "outputs": [
    {
     "data": {
      "text/html": [
       "<div>\n",
       "<style scoped>\n",
       "    .dataframe tbody tr th:only-of-type {\n",
       "        vertical-align: middle;\n",
       "    }\n",
       "\n",
       "    .dataframe tbody tr th {\n",
       "        vertical-align: top;\n",
       "    }\n",
       "\n",
       "    .dataframe thead th {\n",
       "        text-align: right;\n",
       "    }\n",
       "</style>\n",
       "<table border=\"1\" class=\"dataframe\">\n",
       "  <thead>\n",
       "    <tr style=\"text-align: right;\">\n",
       "      <th></th>\n",
       "      <th>Molecule ChEMBL ID</th>\n",
       "      <th>Molecule Name</th>\n",
       "      <th>Molecule Max Phase</th>\n",
       "      <th>Standard Type</th>\n",
       "      <th>Standard Relation</th>\n",
       "      <th>Standard Value</th>\n",
       "      <th>Standard Units</th>\n",
       "      <th>Active</th>\n",
       "      <th>ROMol</th>\n",
       "      <th>Smiles</th>\n",
       "      <th>InChI Key</th>\n",
       "      <th>MorganFP</th>\n",
       "    </tr>\n",
       "  </thead>\n",
       "  <tbody>\n",
       "    <tr>\n",
       "      <th>0</th>\n",
       "      <td>CHEMBL416126</td>\n",
       "      <td>NaN</td>\n",
       "      <td>NaN</td>\n",
       "      <td>IC50</td>\n",
       "      <td>'='</td>\n",
       "      <td>12.00</td>\n",
       "      <td>nM</td>\n",
       "      <td>True</td>\n",
       "      <td style=\"text-align: center;\"><div style=\"width: 200px; height: 200px\" data-content=\"rdkit/molecule\"><img src=\"data:image/png;base64,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\" alt=\"Mol\"/></div></td>\n",
       "      <td>CS(=O)(=O)c1ccc(-c2cc(F)c(F)cc2-c2ccc3c(c2)OCO...</td>\n",
       "      <td>GARKKXFHXDZJSG-UHFFFAOYNA-N</td>\n",
       "      <td>[0, 0, 0, 0, 0, 0, 0, 0, 0, 0, 0, 0, 0, 0, 0, ...</td>\n",
       "    </tr>\n",
       "    <tr>\n",
       "      <th>1</th>\n",
       "      <td>CHEMBL143776</td>\n",
       "      <td>NaN</td>\n",
       "      <td>NaN</td>\n",
       "      <td>IC50</td>\n",
       "      <td>'='</td>\n",
       "      <td>0.08</td>\n",
       "      <td>nM</td>\n",
       "      <td>True</td>\n",
       "      <td style=\"text-align: center;\"><div style=\"width: 200px; height: 200px\" data-content=\"rdkit/molecule\"><img src=\"data:image/png;base64,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\" alt=\"Mol\"/></div></td>\n",
       "      <td>Fc1ccc(-c2[nH]c(-c3ccc(F)cc3)c3c2C2CCC3C2)cc1</td>\n",
       "      <td>BVZXSBMLTOYNIL-UHFFFAOYNA-N</td>\n",
       "      <td>[0, 0, 0, 0, 0, 0, 0, 0, 0, 0, 0, 0, 0, 0, 0, ...</td>\n",
       "    </tr>\n",
       "    <tr>\n",
       "      <th>2</th>\n",
       "      <td>CHEMBL322276</td>\n",
       "      <td>NaN</td>\n",
       "      <td>NaN</td>\n",
       "      <td>IC50</td>\n",
       "      <td>'='</td>\n",
       "      <td>30.00</td>\n",
       "      <td>nM</td>\n",
       "      <td>True</td>\n",
       "      <td style=\"text-align: center;\"><div style=\"width: 200px; height: 200px\" data-content=\"rdkit/molecule\"><img src=\"data:image/png;base64,iVBORw0KGgoAAAANSUhEUgAAAMgAAADICAIAAAAiOjnJAAAABmJLR0QA/wD/AP+gvaeTAAAd3ElEQVR4nO2deVxT17bHV0jCLKDBiYpKQKVUoYoKGhyLxQEHVOpA5aq1FK8Sh77boPaKt4NCa320tXpxLLXeKq19wsWholZBHDBUmZFJKCIKCcqYMJ39/tg2jZUhw9kBdX8//oHknLVXyC97OmutzUEIAYXCNkZd7QDlxYQKi0IEKiwKEaiwKESgwqIQgQqLQgQqLAoRqLAoRKDCohCBCotCBCosChGosChEoMKiEIEKi0IEKiwKEaiwKESgwqIQgQqLQgQqLAoRqLAoRKDCohCBCotCBCosChGosChEoMKiEIEKi0IEKiwKEaiwKESgwqIQgQqLQgQqLAoRqLAoRKDCohCBCotCBCosChGosChEoMKiEIEKi0IEKiwKEaiwKESgwqIQgQqLQgQqLAoRqLAoRKDCohCBCotCBCosQ9PY2NjVLhgCKiyDghBycnKaMGFCVVVVV/tCFl5XO/BykZqaeu/ePQ6H07Nnz672hSy0xzIo8fHxAODr68vhcLraF7JQYRmUU6dOAcCsWbO62hHicOiZ0AajoqKif//+JiYmMpnM3Ny8q90hC+2xDEd8fDzDMG+88cYLryqgwjIkL884CHQoNBhNTU22tra1tbXFxcWDBg3qaneIQ7cbNKahAfbtg7IymDoVZszQ9u7Lly/X1ta6ubm9DKoCOhRqQUAAuLnBpk1w5gzExGh790s1DgIVlqbI5cDhwJQp0KsXbNsGP/ygrQEqLEpbKBSgWsqZm4NCAbm5cO2ahnfn5uYWFBT06tXLw8ODlIfdDCoszbCzg9JSqK8HADh9Gry8YPt2GD8eXFzgyy+hrq7ju1XdFZfLNYCz3QEqLA1gGDAygp074d13YdUq+PVX2LABHB2hTx/IyYH162HAAAgJgZyc9gy8bOMgAACidExNDRozBh050sZLSiU6ehSJRAgA/2ueMeP48eNNTU3qV1VXV/P5fB6PV1VVZSCfuwFUWB3S3IymT0cA6LXXUGNju5fl5CCJBNnYpE+cCAB9+/aVSCTFxcX4xePHjwPApEmTDONyN4EKq0PWrEEAyNYW5ed3fnF1dez+/a+99hoeCng8np+f37lz5wIDAwHgs88+I+9uN4IKq33+938RADI1RcnJWt136dKlRYsWGRsbY4XhCfuuXbtycnJaWloIOdvdoI902uHMGZg9GxgGjhyBgAAdDDx8+PDbb7/dvXt3VVVVQ0MD/qWxsbGTk5O7u7u7u/trr732+uuv29rasup3d4EKqw3Sbt0yCQx0zsyEjz+GDz/Ux1RSUtLEiRMHDBgwatSotLS0kpIS9Vc5HI6Dg4ObGg4ODvr53l2gwvor9+/f9/DwqK+ru7xy5YidO0G/UM/Y2Nh58+bNmTMnNjYWAB4/fpymRlZWllKpVL/e2tra1dXVzc3N1dVVJBK5uLjo9Wa6kC4eitmlqAht2YIkEpSWhhBCSqW2BhoaGsaOHQsAXl5eSu1vf5YDBw4AwIoVK9p8tbm5ubCwMC4uLiwszNfXVygUqn80wcHB+jvQVbxA0Q2PHsHKlXDoEJiZQWAgREVBSAicPw8CAdjagkAAvXuDrS3Y2j5+5ZVTFha2tra9e/e2tbUVCAQWFhYAwDDM0qVLU1JShELhzz//bGJior9TcrkcANqbSPF4PKFQKBQKZ8+ejX/z8OHD9PT027dvp6WlTZ06VX8HuooXSFgXLsD8+YDnKKtXQ1wc1NdDYyPcvw/376tf2DRmzNs3b6r/xszMTCAQNDU1VVRU9OrV6/Tp071792bFKSwsgUCg4fV9+/adNm3atGnTWGm9C3mBhKVUgpnZk5/NzECphN27Afc69fUgk0FlJcjlIJPVcjhLhwyRyWQVFRVyuVwulzc0NNy7dw8A+Hz+iRMnhg0bxpZTMpkM2u+xXmBeIGF5esLmzfDOO8DhQHw8LF0KXl7w+DEAgLk5CAQgEECfPiAQKJydhw4dOn78eIFAgEdDCwuLqVOnlpWVrV27dvLkySw6RYX1/OPkBHPnQmAgcLkwciR4esLgwSCTgVwODQ3Q0AClpfjCssmTt1261KaNzMxMdp16aYX1cmw31NfjQRCPhteVyjMlJTKZTC6X49FQJpPJZLKWlhaGYY4dO7Zo0SK2Wh42bFheXl5ubi6Lw+tzwcshLM3Ys2fPmjVr+vXrl5OTY2Njw4pNgUBQVVUlk8k0n7+/GNB4rD9ZvXr1pEmTHjx4EBYWxorB1tbWx48fGxkZsSXT5wjaYz1FZmbmqFGjWltbr127hndK9aGysrJPnz62traVlZWsuPccQXuspxg+fLhYLGYYZs2aNa2trXpae2ln7kCF9SwfffTR4MGDpVLpvn379DRFhUX5E3Nz8127dgFAaGhoeXm5PqaosChP4efnN3v27Jqamg8++EDzu5qamq5evRoREeHr6yuRSODlFtaLFd3AHiUlJfjJ9Pnz5zu4rL6+PikpKTw83NfX18rKSvVXHT58OEJo+/btACCRSAzldTfiBdp5Z5WBAwdu3rx5y5Ytq1evzsjIUI90qK2tvXHjxpUrV5KTk5OSktSL1QqFQpFI5OXl5eXldeHChf/+979d4Xv3oKuV3X1pbGzEcXaffPIJ/k1oaKirq6uR0Z/zBx6PN3r06A0bNpw8efLu3bsJCQlhYWHe3t4qIdrZ2VlbW1+6dKlr34vhoftYHZGUlDRp0iRTU9OMjAxHR0cfH59z587xeDw3Nzdvb2+RSDR06ND09PSkpKTLly9nZmYyDINv5PF4I0eO9PDwuH379pUrV0xMTA4cOPD222937dsxKF2t7O7OsmXLAMDHxwchlJSUlJiYWFRUFBMTIxaL3d3d1WvU8ng8d3d3iUQSFxenyk1taWnBE3kOhyORSFpbW7v03RgOKqxOqKysxI/53nvvvYCAgAEDBqh/LXv06OHj4/Pxxx8nJiYqFIr2jOzbt4/P5wOAv79/Q0ODIf3vKqiwOmfnzp2mpqbqYvL29g4PD8czdw2N/PLLL9bW1gDg6en58OFDog53B6iwOiciIgIAHBwc9uzZgydSutnJyMjA5fwcHByys7P19Kq+vv7TTz994403tm7dqqcpElBhdQLDMEOGDAGA+Ph4/a2Vl5ePGTMGd3unT5/WwUJLS0tSUlJQUFCPHj1UnWhISEh3m71RYXXC6dOnAWDgwIFsZccrFIolS5bgyf4333yj+Y3Xrl0LCQnp06cPFhOHwxk/fvyoUaNwLv+MGTNqampY8ZAVnj9hNTY2Xrx4UVXLhTQ4MWvHjh0s2mQYRhXyJRaLO+5s7t69Gx4ePnToUFX/9Oqrr4aFheXn5yOEHj16lJSUhHOK3Nzcfv/9dxb91IduLayqqiqpVBoTExMeHh4UFOTt7S0UCnGNDSMjo40bN5J2oKSkhMvlGhsbk5huHzp0CHc2fn5+9fX1f3lVJpNFRUWJRCLVjoadnZ1YLE5KSlJdg9NrFy5cmJGRgUOf7ezspFIp667qQLcQllKpzM3NPX369O7duzdu3Ojn5+fm5qY+h1CHy+Xip3iWlpY5OTlEHdu8eTMABAQEELKflJSEH1G7ubmVlpYihBoaGmJiYnx9fXm8J0/brK2tly1bFhcX19zc/JfbU1JS8APKcePG3blzB+cXWVpaxsbGEnJYc7pSWNnZ2U5OTr1791Z/SKKOjY3NqFGjFi5c+MEHH+zdu/eXX37Jz8/H9fLwvuWwYcMITiwaGw9On27O56t3EqyTk5Pj6OgIAP369Zs+fbrZH6mRJiYmfn5+P/30UwfbYwihjIyMwYMH45Xm7du3cS0uLpcbHh5OzmdN6Eph9e/fX7Vn3b9/f3d3d39/f4lEEhUVlZCQUFhY2OZdTU1NoaGhWVlZuMTZ4sWLSfn3ww8IoHHiRFL2/0Aul48bNw73PUZGRiKRKDIysrKyUsPbKysrvby88Erz1KlTkZGR+Iv67rvv/qVopSHpMmHl5+dzOBxjY+MzZ84828l3wKZNmwBg9OjRGRkZ+MPQam2lBRMmIAC0dy8R409z9OhRABgxYgQeELVFqVQuXboUf0V37979448/4p5v2rRpjx8/Zt1bTegyYW3YsAEAVq1adenSJa2WeI8ePcJjR3BwMC7vyefzk7Usutc5WVmIw0E9eqDqapYtt8WWLVsAYMuWLZcuXUpJSel4+GuTv6w0k5OT+/btCwDDhw+/e/cuAZc7oWuE1dDQ0KtXLwBISUkZNGgQl8vVai2TlpaGv5HffvttSEgIANjb22s+dmjE6tUIAK1Zw6bN9vH19QWAmJiYkSNHAoDO35PDhw+rtrUyMjJw2I+trS3RaWKbdI2wDh48CAAeHh64HJmjo6O2G8f79+8HADMzs5s3b4pEIgDw9vZmrcJnbS2yskIAKD2dHYOdgZ9t5+TkmJqacjicaj26yStXrqhWmtnZ2TNnzgQAU1PTo0ePsuhwp3SNsEaPHo37m+nTpwPAzp07dTCyYsUKABgyZEh2djbeIfzoo4/Y8e+bbxAAMlQBbVzqyMLCIi0tDX/N9DSYn5+v2tZKSUkJCgrCO/Vz585lxWFN6AJh3bhxAwAEAkF2draRkZGZmZlMJtPBjkKhGDVqFADMnTv3/PnzXC7XyMjo7NmzLLi4ejXicNAPP7BgSgMuXrwIAJ6ent9//z0AzJ8/X3+blZWVEyZMwNtap06d+vzzz7G2DDbf6oIsnb179wLAypUrDx8+zDDMokWLdKtrYGpqevz4cWtr69jY2MzMzK1bt+KSfMXFxbo7d/cuHD0KixZBTg7Mn6+7HW3AHZWbm5vqB/1t2tranj9/PjAwEK8D1q9fz+PxEEKqIuHEMYx+VTx69Mjc3JzD4WRmZuLx68aNG/oYjI2N5XA4fD7/8uXLM2bMAAAPDw/Nw6SeIjERLVyILlxAn32G1q3TxyutWL58OQDs2bPnzTffBICTJ0+yZZlhGLwqysjIADYGWc0xtLB27twJANOnT4+OjgaA119/XX+b77//PgD069cvNzcXl7Nep5UsmppQQQEqLUX+/qis7Mkvvb3RM8/vCKFaCeINAhLP1/Egu2DBAtYtt4dBhcUwDH5KHxsb6+npCQAHDhzQ32xzc/PEiRMBYMqUKdevX8cZMkfaOlZJJpOVpqaiY8fQ9u1o1So0dSpycEA8HgJAGzagqVORal0ZEIAMEinQ3NxsYmLC4XDy8vIAwMbGRudAwg74xz/+ASwubjTAoHmF586dy8vLGzhwoL29/fXr121sbBYvXqy/WR6Ph3eAfv311/j4+C+++GLt2rXBwcEKhaKlpaWoqKioqOju3btFRUXV1dXzPDz+78aNp+43MoKBA8HcHFxc4NYtGD0aEIKSErCz09+3TsnJyWlsbHRycioqKgIAV1dXjn6V5dvk9u3bwNLsTUMMKiw8bX/vvffwD8uXL8dxCvrTt2/fo0ePTps2bfv27VlZWfPmzTtz5gxeZqtjZWXF79UL5s8HoRCEQnBwAKEQBg8GPKW9fx+Cg2HYMCgshPXrwSCHVpKYuT9Leno6OeNtYjhhlZaWnjp1ytjY2N/ff+TIkRwOJzg4mEX7U6ZM2blzp729vbOz87Bhw06ePGlnZzdz5kxcSN3BwUEoFHZSRsHODuLioKoKrK0NoyowiLAePHjw8OFDGxubgQMHsm68XQw26H744YcAsGTJksjISADw9vYm1FBTU5OdnR0AJCYmEmqCRXBJ99jYWByscfPmTdabOHv2LABMJB+moY6BhKX+YeO/4IkTJwi1dezYMQBwcXEhMQtmHbwSzMvL4/P5XC6XRNYhzjISi8WsW+4AA22QxsTE3L9/38XFpampKSsrq3///qpDPlgHT+DWrFlDYhbMLuXl5XiQqq6ubm5uHjZsmCrQj0WIzt7ag+wcCxfzPHLkyJEjRywtLX18fDw9Pfft22dkZIQzg1knJycnMTHR0tLyuSiUoPrIiU6uDb8kBCA2x3o2VwkA+vfv/+DBA0ItYtauXQsAq1evJtoKW/j7+wPAtGnTFAqFVCpNw4eWsYpSqeTxeIQG2Q5gWVg5OSgi4jgOxMO4uLh88skn+fn5eJY6efJkreJFtaK2thansZP4hEiwdetWADA1Nb148SKhJqRSKf4UCNlvD3aEJZOhqCgkEiEOB02cmA5t5So9ePDglVdeAYDQ0FBWGn2Wf//73wDg5eVFyD7rVFRUjBgxAgCMjY0PHz5Mogkc+rZkyRIWbDEM+v57tHEjOngQdRb61omwVG82IQHdu4cOHEB5eQghlJqKbt9G1dXo8GHk7Y24XASAAJCNDVq7tuHixYttBu5dvXqVz+dzOJyff/5Z+7fVOTiKxsARbXqiVfKqDojFYgBgJ2ln2zb09dfo8WN06BBav77jazsRlmqzafNmlJKCZsxACxcihkHR0WjHDmRm9kRPJibIzw+dOIE6jdXGgUE2NjYFBQWavh/NuHLlCgD07t2blZNRDcz+/fvxambBggXPJq9qRWNjY2xs7OLFi3EaxaRJkwCAnTA19cjHCRM6vrYTYY0Zg5KTUXIy+tvfUEoKmj0bff01io5G0dHoyBHUvz8SiVBkJNI83JxhmAULFgCAq6sru9PJgIAAANi0aROLNg1JQkICPhnFw8NDtyWOVCoVi8WqIzwPHjzIMEzPnj0BoLy8nAUXJ0/+8+fOwms7EZaLCzp0CB06hHx9nwiruRm9+Sb66iv0n/+gujpd3KupqXF2dgaAd999V5f726KystLU1NTIyKioqIgtm4YnMzMTh/0MGDDg1q1bGt6Vnp4ukUjUH9e4ubl9/vnnBQUFX331FR4f2PFv6VKEqy8VF6N58zq+VruhcPZshBC6ehU5OKD//Ed3D9PT083NzQHg0KFDultRY8eOHQAwG/v3PCOTyXBIcY8ePTounFRaWhoZGYkTSTD29vZisfjmzZvqdY5wjxUUFKTjYpxh0LJlaM8ehBAqK0PLl6NVq9Dbb6POQpw7EVZg4JMfvvgCpaejVaue/HfdOhQXp4ufKnDomamp6W+//aabhbKysvv37yOEWltb8Rddt4pT3Q2lUomHdS6X+/XXX//l1UePHkVHR/v6+nL/eEzes2fPZcuWJSQkXLt2TSwW42dE8Eedo5UrV+JyhD4+Prok/4SGPlmUlZUhbRYWWm83nD2LNm1C169re18bvPPOOwDg5OTUcbauUqksLCxMSEiIioqSSCT+/v7u7u6WlpbwR6RofHw8AAwaNIi19K+uBi8V8a6yWCxWvS+xWKwKWjc3N1+8eHFcXFxBQUGbdY7y8AIeoatXr+Kd6hEjRpSUlGjhx+HDCADx+eiXX9CyZWj+fM2jarUW1tq1CAA980XSBYVC4e7uDgBz5szBD4ybm5svX758+PDhf/7znwEBAePHj+/Xr197zwx69+6NKxnNmjULACIiIljwqTtx7Ngx3NlMnz4ddzZhYWG4uENUVFRxcXGndY5UFBYWvvrqq/jhh6YBFJcvIxMTBID27EEffYQAUI8eKDNTQ+e1Ftb77yMApFMiYBsUFxfjFB2cWtjU1MR9JhDK2NhYKBR6e3sHBQWFh4fHxMRIpdI7d+4kJycfOXJk0aJFOJnihawYm5ycjFd5rq6uJSUllZWVxcXFmtc5Ukcul+M6RxYWFqmppzpuV6HIrdjrjUxN0f/8D4qJQRwOMjJC2mR5aH2AwJYtsH07fPopbN6s1X3tEh8fP2fOHC6Xe+HChYkTJ86fP9/c3Fz4BwMGDGAYpri4uEiN/Pz8mpoadSNjx4698ZeA4xeF/Pz8WbNm5efnW1lZOTo65ubmKhQKADAxMZk5c2ZAQMCsWbPUizp3QEtLS0hICJd7c+XK9H79NtvZbWvnMllu7rjGxgL72vf68JeBtzcolRAZCevWaeG35hrE/OtfCACxW6gXl9jv06fPyZMno6Ojt23bFhgY6OXlZdd+1LlAIBgzZsxbb721Zs2adevWkXv+2B2Qy+U4kwfU6hxVVFToZq2s7HOplCOVQnFxEMP89e/GMI137kyRSiE7e5RCkVWQ8DrzquOfqzaN0brHioiA0FCQSCA8XKv7OqKlpcXT0zMzM1P9wCMMn8+3t7cXPo2jo+PLdspyXV3drl27srKyIiIicKU1fXj06ERxcSDDNFhZeQuFP3K5qj8mKi7+m1x+hM+3GzIkoajIX6nMFvDnD3Y5DjztIqy0jsfCpw89IwC9aGlpqaura2xsdHR0HDt2LI5PVw2Fz866XkIsLS1xKAQr9Oy5wNjYvrBwbk3N+ZycsUOGnDIxGQIALS3y+voULreHk1PcvXvrlcpsU1MXe+dDwNVaJ91CWFu2bLlz546zs/Nvv/1GIoSS8iwWFmOdna8XFMxWKDJyc72GDDlrbv66kZGps/M1hSJLJjtYU5PA5/cbMuQ0l2utg32tQ5NtbC6NG/dWjx67dWisTZKTk7/88ksejxcdHU1VZUiMjQc5O1+1tvblci0BIC9valnZpqqqHywsxjGM0sjI3NEx1th4kI7WtZ2U4R1ztgoJ19XVOTk5AUBYWBgrBinawjDNTU1lVVXHysufCq1RKPSqSK11j4UT2J+dZevG+vXrCwoKRo4ciWslUgwPh8Pj8+2srKY3NNwqLPRraJDi35uaOutjtiuFde7cuYMHD5qYmHz33XeEcisoHYNQM8MoAIDLtRYKjw0cuLe0dCMAMIxST8tdJiy5XL58+XKE0Pbt24cPH66nNYpulJaK8/KmNDc/qK9Pqa7+b13dZS63R1XVsezsEUplrj6WdRSWUqkEgKtXr4pEoh07duA0Jq34+9//Xl5eLhKJ1mm1n0thj4cPP6+s/LdCkdHU9DuHw2eYJoRaHRyOVlR81dhYcOeOqLb2ku7WtZ2UXbt2DQA8PDwQQqGhoSo7ffv2XbZsWUxMjCZHReCy5hYWFvikIYrhefw4PjWVK5Vy5PIffv9dfOuWdXX1OfxSa2tdQcE8qRRSU3kVFTqWuddRWMbGxvv378fRLGKxWP1AW1NTU29v78jIyPYiNMrKynAtblaKY1F0oL7u5m+/mUulUF4eXlm5TyqF1FTjmhr1FDSmrCxMKgWpFH7/XYyQ1ikeWgvr4cOHqqhqAHBxcZFIJElJSenp6eHh4SKRSP1gHKFQKBaLExISVGdvMAyDC0T7+Pg8F7UVXkDKyhh3t7sxLnfvrqiuPpOaypNKOTLZd89eWFl5IDWVL5VCYeGC1lbtUjx0ySvMysraunXr7NmzcXixaihcsWLFTz/9VFBQcPDgwQULFqgf39WnTx+cfIILKwgEAnbC+ynaUlOD3NwQADNrhkJ2+9YtK6kUysrC2ru8ujrh1i2bH398dfLkiVp9ZHolrCoUioSEBIlEgquKY7hcrkgkCg8PT09PT0pKkkgkLi4unp6eCKGioiKstuPHj+vTLkVHWlrQnDkIADk7o9xcNGhQzcZJhYVvIdTR0KFQZHl6jgaAwYMHZ2RkaNgUayn2hYWFkZGR3t7e6jtSQqEwKCgoLi6usrKytbUV57gtXbqUrUYp2hESggCQQIDS0tCYMQgAiUSosfNze1QpHpaWlhqejc1+URC5XH706NElS5bgGTrGysoKB/nb2dnJ5XLWG6V0TksLWr4cmZigxES0eDECQA4OSOOw245TPJ6FYOG1lpYWqVQaFhbm7u6uisvegxOJKF1FRgaSSJ4k3uAkQY1pL8WjTQxU0S83Nzc4OPjKlSuGaY7yFAkJKDgYhYQgfNLxTz8hKyuUkKCbsejoaGNjYzs7u47TtbWOIKU8Z6SmwmefwXffQXU1+PtDXBxYW0NVFahNVLQlMTHRwsICZ1i1BxXWi86//gWTJsHkyQAAERHg6gozZhig2S44pIliUFpa/gxX5/GgtdUwzVJhvehMnQrHjwMANDVBQgJ4eBimWToUvgRERcGNG8AwEBgIU6capk0qLAoR6FBIIQIVFoUIVFgUIlBhUYhAhUUhAhUWhQhUWBQiUGFRiECFRSECFRaFCFRYFCJQYVGIQIVFIQIVFoUIVFgUIlBhUYhAhUUhAhUWhQhUWBQiUGFRiECFRSECFRaFCFRYFCJQYVGIQIVFIQIVFoUIVFgUIlBhUYhAhUUhAhUWhQhUWBQiUGFRiECFRSECFRaFCFRYFCJQYVGIQIVFIQIVFoUIVFgUIlBhUYhAhUUhAhUWhQhUWBQiUGFRiECFRSECFRaFCFRYFCL8P1zTdvazop36AAACDHpUWHRyZGtpdFBLTCByZGtpdCAyMDI0LjAzLjUAAHice79v7T0GIBAAYkYGCJABYnkgbmBkY0gAiTOzMSgAaRYYl4NBA0gzM7FBaBacfAcIn80hA0QzMyIxIDLsDhYgGmgDTiUIAQaYACFTBcDOZUN3LsJZ6Bq5gX5nZAIqBWpWYGHVYGJhU2BjV2DnUODgzGDi5Erg4s5g4uZJ4OFN4OXLYOLjT+AXyGBiE9RgEhRSEBLOYBIWSRARzWASFWMQE2cQk+BgEpPkYBKVSpCSzmASZGSQFkoQ4Ejg505wYgFayMoIdLwgGycXN78ABysPNz8fL5uwiKiUtJB4FCMiGhhk7JMP25dtmegA4tzi67WPCnUHs098UHFQ/2gKZt9cMHFf9M9sMJvx44L9ei+UwOxregYHZodqgdnZRz/uqzVfZA9iR+9s3a/58/NeEPsFm9KBu4KL9oHYSr0xBzKi48Fq1t2ee2D+RR0IW3fDgUYZs/0gdlzG3QPaEbPBbHfJOwc+LdI9AGLX8a87oHLWA8ye+GrSgRyHz2A1L1a5HWj/fRPMZsioseeyOw82U0ebw6EuSxXM/tT71v6tVQhYjdoNewfHZc/A7MNqvQ7hMcvA7Mj1Gx0mFgmCzX9vfs3h2zZ/MLvn4gWHE4cmQPT2TnLY2xwFFr97Y6rDl03GdiB274IkB83/k8B2iQEAtU2Px4kszXMAAAKfelRYdE1PTCByZGtpdCAyMDI0LjAzLjUAAHicfVVLblsxDNz7FLqABZLid9nYQVEUsYEm7R267/1RUm7yFEDos0U8ySOKImfoU6vnx/X77z/t46Hr6dQa/OcbEe3XAIDTS6uX9vT89dutXd6+PL2vXO4/b2+vjbwNzD35+Yz98nZ/eV/BdmnYhZRVG3eRQRYNOszn2EkTh0CA2kZHZHHZ4EbiqIsZhuaLMznzBsft3s7Q69fa1dUNYgeUdHjGTmJDpFyzMOEGqOWRugm5RAJVkW0XopVH6GxEEHkpUhvoG6CXR+zAnLepLYiBtENGuczYBqpRIfNFeGyQCAUdnVkzhwlwI/ZdxrFKc+YeY0DWBrqagO1ShFWcs3QBEdM63hBHBrKBjnZrZ+2BHgEzsTh0e6eM7lJQNwfXmVocYLCDyiMAHjEC63p5vGyrlOyZt5LIELkCCACGbarskSoERseCGlDsc+UJhR5ZeaUsqWKAb4+PyU8k01HcSNqj6I7vMAnvIp60zJQ6BdAu+4TTZYSJekXpgMFbDVWduDNCOM3cR2jsrk6jvbYsaOoySZ+pJyPdcpSqSto1eGQVM1vEkgLZISXprCn1JEnU6VnN2GqTSkpZIgvLWZEVmWKXTrJ5I/WMr85EE3bbAatAI8WbxSzNITvjLsrn2/VTf3p0rKf77Xp0rPrQ0Zhy0sbRf2rKR5vBHHI0E8qhR8vAnNrRGDCHH/LHHHFonHPgqmQug7golssgLcrkMjgWAXIZ5EVnXAZlkVNNUyuLargM2iIOqoB9kQBOEwvXuQytpOYyhAt5uQzRQtKaJgUXMmIZ4oV0NFdkIddjRRcS8fRjC1m4DPnCihnzcXiFTOslHjW0owwD/6XiY1NRZiVIzd//DvP99BfN6F7staZJMQAAAV96VFh0U01JTEVTIHJka2l0IDIwMjQuMDMuNQAAeJwdkTlu5UAMRK8yoT7QbnBfIDhS4uwHEw4cKfcJfPgpChBAobpYfOy+Lj6u1/s6Pt+v63jfct+3/vv5+p56y+vz4pvxf/yFbUz47pv//B68XcJy2XZXqXXyZhKSpZvZHIJsz5Qlu0zK1vlBG9UUjqikhsJbPNXhcXMTKLLTpQJKBCN+uixFYIc5UuVpI4O4cMbcPNPR6MqRo6E6xpwfus2CedGuFKuZaLtVKSFFOuVg+XZyAKMzmTVnQuzm6l5DyBr6SJUFjEHkiZhO01ZI2FnB/eR7I2Qam8geCCbjGiVJkHnS7vIOwUbBTc9VsWTYUAHYY26zwNQDVdIkNqbu9JygIm5fp21j6icawYFo7IJn8YGUFIw4Y0eb6jCKudsoLs++eDGltsnx7Hw8xiY9ShQCAMTpVlhW8URMDma2Ml6v3/9WuXV90wlYjgAAAABJRU5ErkJggg==\" alt=\"Mol\"/></div></td>\n",
       "      <td>CC1(C)OC(=O)C(Oc2ccc3[nH]ccc3c2)=C1c1ccc(S(C)(...</td>\n",
       "      <td>QXPOHFKFFDZLPM-UHFFFAOYNA-N</td>\n",
       "      <td>[0, 0, 0, 0, 0, 0, 0, 0, 0, 0, 0, 0, 0, 0, 0, ...</td>\n",
       "    </tr>\n",
       "    <tr>\n",
       "      <th>3</th>\n",
       "      <td>CHEMBL43864</td>\n",
       "      <td>NaN</td>\n",
       "      <td>NaN</td>\n",
       "      <td>IC50</td>\n",
       "      <td>'='</td>\n",
       "      <td>520.00</td>\n",
       "      <td>nM</td>\n",
       "      <td>False</td>\n",
       "      <td style=\"text-align: center;\"><div style=\"width: 200px; height: 200px\" data-content=\"rdkit/molecule\"><img src=\"data:image/png;base64,iVBORw0KGgoAAAANSUhEUgAAAMgAAADICAIAAAAiOjnJAAAABmJLR0QA/wD/AP+gvaeTAAAaqElEQVR4nO2deVSUR7rGn+622ZcGlRhAkbiMoqKiwRNxizqDC8ZRQzSJbbyTGZyYpD03eiQzJ55OzJ0znNw5CaNJtJOjDmYhwWwiahhIRg9xSW6DGgFZFRCUvYlsTS9f3T9KW+KCQH/1fS3W7y8avq56oR+q6q3lKQUhBByO2CjlDoAzMOHC4jCBC4vDBC4sDhO4sDhM4MLiMIELi8MELiwOE7iwOEzgwuIwgQuLwwQuLA4TuLA4TODC4jCBC4vDBC4sDhO4sDhM4MLiMIELi8MELiwOE7iwOEzgwuIwgQuLwwQuLA4TuLA4TODC4jCBC4vDBC4sDhO4sDhM4MLiMIELi8MELiwOE7iwOEzgwuIwgQuLwwQuLA4TuLA4TODC4jCBC4vDBC4sDhO4sDhMcF1h2Ww2uUPg9B9XFFZBQUFgYKBarR42bNjZs2flDofTH1xLWO3t7Vu3bp06darJZAJQV1c3bdq09evXX758We7QOH2EuAzp6elhYWEAlErl6tWrv/vuu82bN3t4eABwc3PT6XQmk0nuGDm9xSWEVV5evnTpUir0qKio06dPO35UWVmZkJCgVCoBBAYGJiUldXZ2yhgqp5fILCyLxZKcnOzj4wNAo9EkJyfbbLbbHzt//rxDecOHDzcYDHd8jOM6yCmsY8eORUREULnEx8fX1tb2/HxWVtaUKVPo8xMmTDh06JA0cXL6gTzCunr1qlarVSgUAMaOHZuVldXLN9rt9rS0tPDwcCqvhQsX5uXlMQ2V0z+kFpbdbjcYDP7+/gC8vLz0er3ZbO5rIV1dXcnJyRqNBoBCoYiPjy8vL2cRLaffSCqs3Nzc6Oho2tjExcVdunTJmdKampoSExMdaWNCQkJ9fb1IkXKcRSJhmUwmnU6nUqkAhIaGHjhwQKySq6qqEhISaMkBAQFJSUkdHR1iFc7pN8yFJQhCSkpKUFAQALVardPpWltbRa8lPz8/Li6OtoWhoaE8bZQdtsIqLi5euHAh/bznzp1bUFDAtLrMzExH2hgUFLRr1y6m1XF6gJWwWlpaZsyYMWjQIADDhg375JNPGFV0C4IgpKWlhYSEAPDw8Lh69ao09XJugZWwXnrpJZqyabXaxsZGRrXcDZPJpFarAZw4cULiqjkUVovQ2dnZABYvXrx///7BgwczquVuaDSaRx55BID0VXMorIQ1b948AMuWLWNU/j1xc3MD0NXVJVcADzishEU/V4vFwqj8e+Lu7i5vAA84bIUlY4Mhu7IfcFgJS/YGgwtLXlgJiyZlsneFfIwlF7zF4jBhwA7eZQ/gAWeAD955VygXA7YrlD2ABxzeFXKYwLbF4l3hA8uAbbF4VygvA3zwzoUlFwN28C67sh9wBmxXSAOwWq1yBSAnFy/ixRexZAk2bkRZmSwhDPCu8EFssa5exYIFWLwYH32EJUuwYAFqaqSPYsB2hbIHIBu7d+O55xAXh8GDEReH55/Hrl3SRzHAu8IHUVglJZg48ebLyZNRXCx9FLwrHHD4+qKj4+bLtjb4+UkfBe8KBxwxMTh8+ObLjAzExEgfxSBG5creE8kegGysXYu0NDz9NGJicOoUWlqwbp30UQzYJZ1jx44BOHXqlFwByIZKhYwMvPgifH3x5z8jIwPHjuHVVyWOglWLZbfbAZhMJpPJFBAQwKiWO2K1Wt9//32DwQBg+vTpUlbtKigUmDULbm7w9QUArRa1tXjqKURFSRcDo/OKXV1dvr6+AAYPHiylk0J2dvZvfvMbAAqFYuzYsZWVldLU63K8/TYByPr1hBCi0xGAbNkiZf0MvRv2798/ZMgQKt9JkyYdPnyYXV3ECTO3gUlZGVEoiJ8f6eggp08TgAQHEwmNUtiaglAnhVGjRlF5zZw584cffhC9ltvN3Lq6ukSv5f4jOpoAhDpGjRlDAPL995JVLoU/lsViMRgM1MmIGvCVlpaKVfgtZm4VFRVilXzf8847BCArVxJCyLZtBCB/+pNklUvn6Nfa2qrX6z09PQGo1eqEhIR7utn2zC1mbl988YVYoQ4Qrl4lKhVxdycmE7lwgQAkIID03Zizf0jtQXr58mWHAZ+Pj09iYuK1a9f6Wog0Zm4DgYULCUD27CGEkKgoYdwj5vNHpKlZHtfkgoKC+Ph42n+FhIQYDAar1drL90ps5nZ/s3cvAYSnfk8IaSrdaTSivPwpaWqW0+c9Ozt72rRpVCLjxo1LS0vr+fn29na9Xk+n1IcNG5aSkiIIgjSh3q/80nL540dz/09tsdRYLDW5uaq8PA+brUWCmmW+meKWtPGxxx7Lycm545Pdb9rRarVNTU0Sh3qfUl6+ymhEbe3bhJDi4nlGIxobU5wv9p4Tky5xl07PaWN5efmSJUuo8qKion788UcZQ3WSK1eurF27Njo6WqfTSVOjyfSl0YjCwumEkIaGD4xGlJTE9rs0s9mcnp6u1WrHjx/fc3fhEsKi3J42Xr58OTk52dvbGz3etOP6tLS0pKSkxMXFUVNWyoYNGyT4dQTBfOaMxmhEZ2eRzdacm+uem6uyWPqWj9tstn//+9/r16/3u7EDR6VSnT9/voe3uJCwKFVVVevXr6fXfXl5edE27Lnnnqurq5M7tD5jNpu/+uqrVatW0VsOALi7u8fGxs6cOZOOFBctWvTLL7+wDqOi4g9GI2pq9ISQsrLlRiPq6nb08r35+fmJiYkPP/yw4/8hIiIiKSnpypUrPb/R5YRFKSwsnDNnTlBQ0JAhQ+67xRm73Z6Tk6PT6RwrWkqlMiYmJjk5uaGhgT5z8uTJoUOHAoiMjKyqqmIaz7Vr2UYjzp8fTYjQ3Px5b3rDzs4LWVlvjx492qGncePGvfHGG72f2XZRYRFCvvrqKwArVqyQO5A+QP+/g4ODu/9/6/V6x+UuFy5ccFxaVlZWNm7cOADBwcG5ubks47KfOxdiNKKt7Se7vaOl5ZAgWO74nMVSXVeXXFQUYzTiu++CVCpVcHCwTqe7W0bVA64rrIyMDABLliyRO5B7U1FRkZSURHdVUMLCwhITE4uKiugD1dXVycnJMTExAIYOHWqxXP9cm5qaqAuwj49Peno6uwgbGvY0NX1st7dZLLWNjfsbG1O6um6ufdlszQ0NHxYXzzMalUYjjEacORNQUfG80Xjcbrf3r0bXFVZWVhaAhQsXyh3IXWlsbDQYDDExMXRLBd0jlJCQkJOTQzOm5ubmDz/8cN68eXTICCAgIOCPf/xj97mSrq6udevW0eHwP//5T6YBWyw158+HX72adOXK/9TX77LbO1ta0i9d0ubleVE95eV5lJbGNTam2O3tTtblusI6fvw4gDlz5sgdyK3cnuL5+/trtdr09HS6ftDZ2Ulzcpp8APDw8IiLi0tJSWlvv8MHJghCUlISVWdCQkLvFyH6SnPz52VlN4cWdPbBaERurqqkJLaxMcVmEy2TcF1h0V3FM2bMkDuQm9TX1z/yyCPUXpXKZeXKlV9++SW9ppqO2RMSEhw5OR2zGwyG3qR+aWlpdKolNjaWUapoNpefO/fQ5cv/3dGRTwix2ZqLimbX1e3o6+xDb3BdYeXl5QGYOnWq3IHc5NFHH6XTH7ekeHTMPmzYsFty8r7e5HPy5Ek6SxwZGSni3tfOzoKamtcaG/cTQiyWq7W1/3v+/KgrV94Uq/w74rrCys/PBzBhwgS5A7lJaGgogLfeeou+LCws1Ov1Y8aMcehp/Pjxer2+pKSk31WUl5c7UkWj0ehMtN1TPKMRFy5EO37U1VV19uwQZwq/J64rrNLSUgCjR4+WO5DrdHV1ubm5KZVKukVn+/btDj2FhoZu2bJFrNupm5ubaaro7e198ODBvr7dam1qaDAUF891pHhnzwZWVCRcu3aso+PctWvZFktNff27RUWzRYn2briusCorKwGMGDFC7kCuQ7vmcePG0ZfHjx/XaDTdx+wi0j1VTEpK6s1bOjo6rlz5oqzsidxctxspnmd5+WqT6aAgXN+o3dlZWFW1qazsiaoqncVSTYjQ2prj+Km4uK6w6uraZ882LFr0mdyBXGfv3r0A1qxZQ18KgsB6Z31ycjKdp+ghVbTZbDRj8PX1TUubR1O8oqKYhgZDDyme3d5KCCktjTMaYTJ9wyJ41xVWc/P1zbQuwqZNmwD8/e9/l7LSu6WKgiCcOHHixRdfpOtCNKXQ6X5fV7fTau1pUbWj4+eCgsiSkoWEkNrat4xGlJevZhG56wqrrY0AxNtb7jhuMHfuXABHjki0tdeBI1WcNGlSZWVlQUGBXq/vvopHV416mTHYbL/k5XkajUqLpdpiqTEalXl5HiJOXzlwXWFZLAQggwbJHQchhBBBEOh57nuu6rOgtLSUrhfRI26UESNGbN269ezZs30traxspdGIurp3CCHFxXONRtCZCHFxXWERQpRKApD+rlaJycWLFwEEBQXJFUBTU1NYWFhISIivr69Wq83Kyur3Kl5z8wHH7ENDg8FoREnJIlGDJYQQVt4NouDmBrMZFgtubGeSjXPnzgGYOnWqxPVmZmZardZZs2YFBgZqNJpz587l5OTMmjXLmTL9/eNUKk17+09mc0lAQHxVla61NdtqrVOrHxIrbLBzmxEFNzcAcAXvtLNnzwKYMmWKxPVu37592bJlRqPRYrFcuHBBqVQ6H4NS6aHRrABgMqWqVAH+/rGE2FprvhEj3m61iFucuLi7A4ArWFzRFmvy5MlSVioIws8//wxgypQpBQUFFotlzJgxPj4+zpccGPg0gKamjwGEtP3X1PVjA59Jcb7Y7ri0sGiL5QrCkqXFKi8vb2trCw0NHTJkCFW2WAH4+s4PP7Vk/AYv5Bo9xsYqq2px+jQuXhSlcMp9ICzZu8KWlpbKykpPT8/uy4IS0F3N4jaZCoUqsHys6uTP+DQVnp5YvhyEIDVVlMIpLi2stWuxZct18zAZoSn9pEmTup+xkYDuYhK/yXz6aQBITYXdfv3rTz4RrXB2jn5OcuIEDh5EUhKUSggCtmzBP/4hWzByjdxpvZMnTyaEiNsVAkB0NMaORUkJjh/Hb3+Lhx7ChQs4dw4iNYou2mIVFeH992EwAAAh2L9fzmBkGbmjm6ArKytNJtPQoUO7H8MSgTVrAODTTzFoEJ588vrXIuGiwgLw3HN45x3U1sodxw1hSdxiNTU11dTU+Pj4jBo1iipM/Fk0rRYADhyA2YxnngGA1FQIgihlu66wNBps3YrNm2UOw2q1FhYWKpXKyMhIKes9c+YMgMjISKVSyUrZo0dj2jRcu4ajR/HYY0hMxMcf48bBECdx0TEW5Q9/wN69+M9/5IyhsLCwq6tLrAmk3sMuJfwVzz+PsWMRGgoAGzbA3V0sYblciyUIaGm5/rVSiffew9atAEAIvvoKhEgdj1wjd7YpoYMXXrg+roqMRGIiNmzAjBm4dMn5gl1LWI2NWLoUS5bAZrv+nalTMXs2AOzYgVWr8Lvfobpa0pBkH7m3tLRUVFR4enqOHTuWSU1WK7Ra7N2LtDQcOoSXXsILL4hQrOjL2v3mxAkSGkoAEhREjhwhP/10/fstLSQlhXz9NRk69PrWv08/lS6qxx9/HEBGRgZ9efx4/w8H9x6z2axWq1UqVXt7O71i49FHH2VVWUEBiYq6+VIQiJ+f81alriIsg4G4uRGAzJpFamru/ExdHVm+nAAEIPHxpLGReVR2uz0wMBBAdXU1ISQjI0OlUi1evLgfvql9wmg0Ahg/fjwhJDk5GcCf2BkeHz9ObjluPnw4cXrbmfxdYWsrVq/Ghg2wWqHT4fvv0c1T41cEBeGbb5CSAl9fHDiACRNw6BCrqAoKCl5//XW6UdPb25suBms0msDAwKNHj86ePbuaZZcs0cidMmLErwZV7e345Rc85PQWmp51Z2bs3lxYSCIiCED8/Mi9LEhvUlFB5s273nRptUREx+Ty8vI333xz/Pjxjr8P3TiqVqv37NlDum3mDAkJEeu81+28/PLLAOj5HDp9xeLihZssWEAMBkIIEQTyyitk40bni+xJWIIgDB8+fNq0aXq93mg0iu4ku2+f3dOTAGTKFFJW1rf32u3krbeIuzu1yD9z8uRJZyJpamq6xd4jMDCQ2nvY7Xa9Xk+/qdPp7HZ7U1MT3f/u4+Pj8CQSl9mzZwP49ttvrVarh4eHQqFg689WX0+eeYZMn06mTyebNpE7GUz0lZ6EVVJSQm+Ho4SHh7/88suZmZnON2OdnZ06nW7OnJdpk9PvX+Tnn8mSJdc8PDQqleovf/lLX89jdXR0pKWlxcXFOewYPD094+Pj09PTHU5DlD179tBnVq1a1d7ebjab165dC0ClUu3cubOf0d8FQRDo3vba2lraD7rOqd3ec4+usL29PT09PSEhISQkxKEwLy+vuLg4g8FQc7dhdo+UlpbSEYOXl1dqqrM3lFgsFr1eT28kmDhx4pkzZ+75FodDK3U3BeDu7k7dYHq4iCA7O1uj0QCYMWNGbW2tIAh6vZ62cDqdTkQ30fLycgDDhg0jhKSkpAB48sknxSpcMvqQFebn5yclJXXvLwBEREQkJiY6HKHuycGDB+nHM2bMmHPnzvU37Fs5deoUneZRq9V6vf6OH7PDwdFxFs/h4FhfX9+bWkpKSuiWrPDwcHpxwWeffUb9RRctWiRWqpifnx8bG/vss88SQl555RUAb77J1sCDBf2Zbqirq0tJSYmPj/fttlUqKChIq9WmpaXd7e9rtVoTExOpKJcvX24ymZyL/FY6Ojp0Oh0t/7HHHuvulpmfn6/X68PDw7v/P+j1+osXL/a1lsbGRjoA8vX1pRflnThxgip18uTJoruJzp8/HwCjkRxTnJrH6ujoyMrK0ul0w4cPd3xmnp6eCxcuTE5O7v5Xrq6upkaJgwYNSkpKYnejRGZmJu21vby8Xnvttddff52at1BGjx69bdu2CxcuOFOF2Wx+5pln6O/y3nvvEULKyspoqiium2hFRQXdWijiZWmSIc4EqSAIeXl527dvj46OdtgiKhSKqKiobdu27d69m3pHhYaGnjhxQpQae6Cpqempp55yzBTgNgdH56EDLEapomMISC27vby8RIlZYsSfeW9oaEhLS9NqtQ5jO+pKHRsb63AqkwDaYc2cOTMzM5ORT//evXtpqrhy5UqaKmq1Wpoq7tjRWyN1Bw6TfsdxZ5VKNXjw4G+//ZZF8KxhuKRjNpszMzPXrVunVCp9fHwckxSdnZ2MusJnn332r3/9q8lkstlsVM3FxcUsKnLgSBWjo6NpquhwE+19qthvk35XRoq1wokTJwKgQ93ExEQ/P7/Tp0+LXsuVK1cUCoW3t3dnZ2dOTo5k0z+OVDE0NJROduzfv5/O/61YsaKHf6FLly4lJSV137MwcuTIxMRE1v8M0iCFsP72t78BWLt2LSFk8+bNADZt2iR6LR988AHNNwkhr776KoDNmzeLXssduVuqmJycfPvDNTU1Ds93isOkfyDdkieFsCoqKmhb0tbWlpubS+cmRHfBW758OYAPP/yQ3Ggjv5fwbu3bU8VbLv8xmUy3mHizMwR0BSTaNjNz5kwAqamphJCIiAgAmZmZIpZvNpt9fHwUCkV1dXVFRQUAf3//W5ZlWHN7qkj67vk+YJBIWO+++y6AZcuWEULeeOMNAOvXrxex/CNHjgCYPn06IWTHjh0AVq9mYlR3T/bt20enCYKDg+fMmdP9HrbY2Nh//etfElz35QpIJKz6+nq1Wq1WqxsbG8vKyhQKhZ+fX0dHh1jlb9y4EYBeryeExMbGAvjoo4/EKryv/PDDD1Rb3VO8vnq+3+9It4N08eLFAHbv3k0IiY6OBnDgwAGxCh85ciQAo9HY1tbm4eGhUqmknDO7ncOHD69atWrBggWOe5oeNKQT1kcffYQbd+PQ7bZiXRlH95Y8/PDDgiDQy+hmzZolSsmcfiPd1uQVK1Z4e3vn5ORUVFQ8/fTTgwYNOnz4cHNzs/Ml0wvo4uLiFAoF/Xrp0qXOF8txBumE5e3tTQfvaWlpQUFBjz/+uMVi+frrr50v2SEmQRDoKD4uLs75YjlOIWXzePDgQQBTpkwhhOzbtw/A/PnznSyzvr5epVK5u7u3trb++OOPAMLCwkSIleMckp7SWbx48eDBg8+ePZufn79y5UpPT89jx47V1NQ4U+aRI0fsdvv8+fN9fHwOHz4M4IknnhApXk7/kVRYarX6ySefBPDZZ5/5+fnRzuvzzz93pkwqJtr38QGWCyFxC0nP9YaFhQmC8OWXX+LGrGb/sFgsdHPBpUuXampqHIvQIgbM6R9SC0sQhLCwMAAnT540m81UFv2e7MnOzgYQGRlJCNm9ezfut1vvBzBSn4RWKBR0e+enn37q7u6+atUqAKn9tVV1TDTg130iR36k1zK1FBs6dKjVaqVNzqhRo/q3Y4RuhDp58mRHR4eXl5dSqXzQVk5cFnlMQSZMmADg6NGjdrudnn34yWEu02uam5sjIiKGDBlis9lo0xUdHX3vt3EkQR5TkDVr1gBITU1VKpV6vX7fvn3dz9L0koCAgIKCgqKiIpVKxfNBV0NBpDfJAyorK8PDw318fGprax0blZxh5MiRlZWVubm5UVFRzpfGcR55hAVg5syZp06d2rlz50svvXTLjywWS3t7O4C2tjar1QrAZDIBsFqtbW1tANrb2y0WC4CWlhZCSEZGxqFDhzQaTXNzs0IkC02Ok8gmrI0bN+7atUuhUIwYMaKzs5Nuz21x2I/2nejoaLqkw3EFZBNWcXHxvHnzau/k4+7m5kbtOry9vemOOY1Go1Ao1Go1tS728vKix2D8/f2VSmVpaenw4cMNBoOH7Pcacm4gm7AA0LMVwcHB/v7+9OSn4+wy535HTmFxBjDye5ByBiRcWBwmcGFxmMCFxWECFxaHCVxYHCZwYXGYwIXFYQIXFocJXFgcJnBhcZjAhcVhAhcWhwlcWBwmcGFxmMCFxWECFxaHCVxYHCZwYXGYwIXFYQIXFocJXFgcJnBhcZjAhcVhAhcWhwlcWBwmcGFxmMCFxWECFxaHCVxYHCZwYXGYwIXFYQIXFocJXFgcJnBhcZjAhcVhAhcWhwlcWBwmcGFxmMCFxWECFxaHCf8PC0mvOlyBOIkAAAGselRYdHJka2l0UEtMIHJka2l0IDIwMjQuMDMuNQAAeJx7v2/tPQYgEABiRgYIEANiCSBuYGRjSACJM7M5aABpZhY2hwwQzcyIxIDJEFIhwKAApNlgRnIwgIWZYDSmRnaIRmaIDmaoY5iYCNHcQI8wMmUwMTEnMLNkMLGwKrCyZTCxsSewc2QwcXAycHIxcHJzMHHycDBx8Cbw8gGV8CfwCzAICDIICjEICTMIizCIiDLwMyaICjDwsSY4MQONZWVkYmbhZ2Nj5+DlY2UTFBIWERUQF2JEBBqDGGPr3AMO7gv3gzjH2OMPLBK4AWaHytgf4J3kdgDEPuK+b/8dAxcwO7Gufb9D7AWwmsiQbXaxbRPAbN2M/fbft7KB1VyytXLgmXoWLM50z9th3xG2fSD2fePJDjo/d9uB2HsrDjjErIq1B7HV7JodDgk+AbNnaC520BFtA+st/8Lk8FkyAiz+bpWiffSNDWC9fSeFDjCccgOr2a8leuC0uCVYzaOatv31iw+A2c723fuNvBwcQGzFt5IHbprlgdn5N7MP8GjbgNl2FZkHjFJ3gNWLAQCDT2f0eKtFJgAAAht6VFh0TU9MIHJka2l0IDIwMjQuMDMuNQAAeJx9VFtuGzEM/PcpdIEs+Bb1GdtBEBRZA43bO/Q/90dJbVwpgNCVSazlESkOhz6VfH5ef/z5LP8eup5OpcB/Pq218psB4PRe8qWcX17f9nK5P58fO5fbr/3+UYgKSZyJ9R37fL+9P3awXMqTbI1I3MoTbqSteS2wQX/GWUokb+KxWiLNHcAXSE4kbc0NQfIMApnJAimJxIhpappIMBWnBVIPJKirSM9O1cUWSAskbKyGSAlEagi4ANYARu6mbDXvG5d1XUX0AEY5CEDcU0PEXkVsAYxq44oU1cCGjEHBAhibH0UiUBCY1cYNkHUFzP7YBiiVk+ogyn2VOmq9RcSolLlGWdWxthWRyAHUDZo71U6pVKVlSOl1gxjW/N1FcMk4aqfcGBWzyywqS8bRyp5MU2NVSoZqNaUlQ/UQETNUzqCVGLCtkP6QBlhIGDcFab5Eti+kVzePTgGI0goZV+rZJYK2RFaifFkg8RgLc01yQiZROi3n52uATGqLYQjlRXRfxXzZr99m9Jja822/jqnNRWM0JYzH/EnaGLJcOiYJw2yMi4TVMRQS5kP6EtaGwDFt1jF2h5Ngqe/QpMxjhycJSoaRSWmSDnWSlORNbZIOdlcnhWB3PikBu2tTxzEdzZ3FdIRTBzEd0dQpyVxjgxNCU3LqN55ozJ7NHcrvj//keD/9BWxlGO1UuRH3AAABGHpUWHRTTUlMRVMgcmRraXQgMjAyNC4wMy41AAB4nC2QyW3EMBRDW8nRBmTh7wuMObmAHFKC76lgig/ljCBAAEU+6uu6+b7v7bhlHT/btW+v7x37vmX/5YuvtfjrvR02W8R6HDzFu3uch04rK19SVBFDktkVPHDFJBFQGKbwXBKFWz0Sebk9OUkATprqwSxLYmmQEGtXxAQkEMYJNBM9liCYx4kSYHQcNFkZtafhiqgGeJGsIMcktjQoeEXV42FitcEzixNz+KSu0gUmS5dVRRacK2TGFuuBoey8OGpun1ml1X3VZ8bKQVKlVLhSlLg/w1I06pysP0pl5cCHkLk+MSNnCCnCz8dGOfvAyKjSf8WyAxSDtcf+/gNkflo86wFWXwAAAABJRU5ErkJggg==\" alt=\"Mol\"/></div></td>\n",
       "      <td>Cc1ccc(-c2ccc(S(C)(=O)=O)cc2)n1C1CCCCC1</td>\n",
       "      <td>ODRFJVIOUFCXSN-UHFFFAOYNA-N</td>\n",
       "      <td>[0, 0, 1, 0, 0, 0, 0, 0, 0, 0, 0, 0, 0, 0, 0, ...</td>\n",
       "    </tr>\n",
       "    <tr>\n",
       "      <th>4</th>\n",
       "      <td>CHEMBL45090</td>\n",
       "      <td>NaN</td>\n",
       "      <td>NaN</td>\n",
       "      <td>IC50</td>\n",
       "      <td>'='</td>\n",
       "      <td>169.82</td>\n",
       "      <td>nM</td>\n",
       "      <td>False</td>\n",
       "      <td style=\"text-align: center;\"><div style=\"width: 200px; height: 200px\" data-content=\"rdkit/molecule\"><img src=\"data:image/png;base64,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\" alt=\"Mol\"/></div></td>\n",
       "      <td>CS(=O)(=O)c1ccc(-n2cc(C(F)(F)F)nc2-c2cc(Cl)cc(...</td>\n",
       "      <td>MQWARLALXCOJKW-UHFFFAOYNA-N</td>\n",
       "      <td>[0, 0, 0, 0, 0, 0, 0, 0, 0, 0, 0, 0, 0, 0, 0, ...</td>\n",
       "    </tr>\n",
       "  </tbody>\n",
       "</table>\n",
       "</div>"
      ],
      "text/plain": [
       "  Molecule ChEMBL ID Molecule Name  Molecule Max Phase Standard Type  \\\n",
       "0       CHEMBL416126           NaN                 NaN          IC50   \n",
       "1       CHEMBL143776           NaN                 NaN          IC50   \n",
       "2       CHEMBL322276           NaN                 NaN          IC50   \n",
       "3        CHEMBL43864           NaN                 NaN          IC50   \n",
       "4        CHEMBL45090           NaN                 NaN          IC50   \n",
       "\n",
       "  Standard Relation  Standard Value Standard Units  Active  \\\n",
       "0               '='           12.00             nM    True   \n",
       "1               '='            0.08             nM    True   \n",
       "2               '='           30.00             nM    True   \n",
       "3               '='          520.00             nM   False   \n",
       "4               '='          169.82             nM   False   \n",
       "\n",
       "                                              ROMol  \\\n",
       "0  <rdkit.Chem.rdchem.Mol object at 0x14ac66b6a420>   \n",
       "1  <rdkit.Chem.rdchem.Mol object at 0x14ac66b6a5e0>   \n",
       "2  <rdkit.Chem.rdchem.Mol object at 0x14ac66b6a570>   \n",
       "3  <rdkit.Chem.rdchem.Mol object at 0x14ac66b70eb0>   \n",
       "4  <rdkit.Chem.rdchem.Mol object at 0x14ac66b70f90>   \n",
       "\n",
       "                                              Smiles  \\\n",
       "0  CS(=O)(=O)c1ccc(-c2cc(F)c(F)cc2-c2ccc3c(c2)OCO...   \n",
       "1      Fc1ccc(-c2[nH]c(-c3ccc(F)cc3)c3c2C2CCC3C2)cc1   \n",
       "2  CC1(C)OC(=O)C(Oc2ccc3[nH]ccc3c2)=C1c1ccc(S(C)(...   \n",
       "3            Cc1ccc(-c2ccc(S(C)(=O)=O)cc2)n1C1CCCCC1   \n",
       "4  CS(=O)(=O)c1ccc(-n2cc(C(F)(F)F)nc2-c2cc(Cl)cc(...   \n",
       "\n",
       "                     InChI Key  \\\n",
       "0  GARKKXFHXDZJSG-UHFFFAOYNA-N   \n",
       "1  BVZXSBMLTOYNIL-UHFFFAOYNA-N   \n",
       "2  QXPOHFKFFDZLPM-UHFFFAOYNA-N   \n",
       "3  ODRFJVIOUFCXSN-UHFFFAOYNA-N   \n",
       "4  MQWARLALXCOJKW-UHFFFAOYNA-N   \n",
       "\n",
       "                                            MorganFP  \n",
       "0  [0, 0, 0, 0, 0, 0, 0, 0, 0, 0, 0, 0, 0, 0, 0, ...  \n",
       "1  [0, 0, 0, 0, 0, 0, 0, 0, 0, 0, 0, 0, 0, 0, 0, ...  \n",
       "2  [0, 0, 0, 0, 0, 0, 0, 0, 0, 0, 0, 0, 0, 0, 0, ...  \n",
       "3  [0, 0, 1, 0, 0, 0, 0, 0, 0, 0, 0, 0, 0, 0, 0, ...  \n",
       "4  [0, 0, 0, 0, 0, 0, 0, 0, 0, 0, 0, 0, 0, 0, 0, ...  "
      ]
     },
     "execution_count": 86,
     "metadata": {},
     "output_type": "execute_result"
    }
   ],
   "source": [
    "cox2_ic50s.head()"
   ]
  },
  {
   "cell_type": "markdown",
   "id": "a507ade2-e3f6-4331-86c3-f2239a117011",
   "metadata": {},
   "source": [
    "## Split the dataset"
   ]
  },
  {
   "cell_type": "code",
   "execution_count": 87,
   "id": "26e6997a-73e2-445b-b354-4f4d5e467061",
   "metadata": {
    "tags": []
   },
   "outputs": [],
   "source": [
    "from sklearn.model_selection import train_test_split"
   ]
  },
  {
   "cell_type": "code",
   "execution_count": 88,
   "id": "e86430d9-f80c-4501-9ba0-846e6a1cd323",
   "metadata": {
    "tags": []
   },
   "outputs": [],
   "source": [
    "X, y = cox2_ic50s.MorganFP.values.tolist(), cox2_ic50s.Active.values.tolist()"
   ]
  },
  {
   "cell_type": "code",
   "execution_count": 89,
   "id": "2610a8b2-a316-404d-a083-d9d55013f354",
   "metadata": {
    "tags": []
   },
   "outputs": [
    {
     "data": {
      "text/plain": [
       "(4789, 4789)"
      ]
     },
     "execution_count": 89,
     "metadata": {},
     "output_type": "execute_result"
    }
   ],
   "source": [
    "len(X), len(y)"
   ]
  },
  {
   "cell_type": "markdown",
   "id": "c5f57019-5133-4fa9-85e9-df5287285f2c",
   "metadata": {},
   "source": [
    "Let's use 80% of the molecules for training, and test the model with the remaining 20%:"
   ]
  },
  {
   "cell_type": "code",
   "execution_count": 90,
   "id": "53df0d32-50de-432d-954f-2a303979bb3f",
   "metadata": {
    "tags": []
   },
   "outputs": [],
   "source": [
    "X_train, X_test, y_train, y_test = train_test_split(X, y, \n",
    "                                                    test_size = 0.30,\n",
    "                                                    random_state=42,\n",
    "                                                    shuffle=True,\n",
    "                                                    stratify=y)"
   ]
  },
  {
   "cell_type": "code",
   "execution_count": 91,
   "id": "6d341766-94ba-4246-8394-25f543f7e63a",
   "metadata": {
    "tags": []
   },
   "outputs": [
    {
     "name": "stdout",
     "output_type": "stream",
     "text": [
      "Training set:  3352\n",
      "Testing set:   1437\n"
     ]
    }
   ],
   "source": [
    "print('Training set: ', len(X_train))\n",
    "print('Testing set:  ', len(X_test))"
   ]
  },
  {
   "cell_type": "code",
   "execution_count": 92,
   "id": "e6d759fd-7c83-48a3-8de1-7541da1312c7",
   "metadata": {
    "tags": []
   },
   "outputs": [
    {
     "name": "stdout",
     "output_type": "stream",
     "text": [
      "Active? False:   2647\n",
      "Active? True :    705\n",
      "Proportion of inactive molecules in the training set: 0.79\n"
     ]
    }
   ],
   "source": [
    "values,counts = np.unique(y_train, return_counts=True)\n",
    "for value, count in zip(values, counts):\n",
    "    print(f\"Active? {value!s:5}: {count: 6d}\")\n",
    "print(f\"Proportion of inactive molecules in the training set: {counts[0]/(counts[0] + counts[1]):0.2f}\")"
   ]
  },
  {
   "cell_type": "code",
   "execution_count": 93,
   "id": "53f81ecc-7764-4871-828d-efe35ee8428e",
   "metadata": {
    "tags": []
   },
   "outputs": [
    {
     "name": "stdout",
     "output_type": "stream",
     "text": [
      "Active? False:   1135\n",
      "Active? True :    302\n",
      "Proportion of inactive molecules in the testing set: 78.98%\n"
     ]
    }
   ],
   "source": [
    "values,counts = np.unique(y_test, return_counts=True)\n",
    "for value, count in zip(values, counts):\n",
    "    print(f\"Active? {value!s:5}: {count: 6d}\")\n",
    "print(f\"Proportion of inactive molecules in the testing set: {counts[0]/(counts[0] + counts[1]):0.2%}\")"
   ]
  },
  {
   "cell_type": "markdown",
   "id": "b0186f58-1379-4a59-99e6-f3bc9a44eab8",
   "metadata": {},
   "source": [
    "## Train the model"
   ]
  },
  {
   "cell_type": "markdown",
   "id": "514cbe64-18de-4207-8790-a13369b7e45f",
   "metadata": {},
   "source": [
    "For this example, we will use a simple Random Forest. This is always a good baseline: Any model you create should be at least as good as a Random Forest."
   ]
  },
  {
   "cell_type": "code",
   "execution_count": 94,
   "id": "78990b4f-4639-4b06-a90e-6a2d58c6c0c7",
   "metadata": {
    "tags": []
   },
   "outputs": [],
   "source": [
    "from sklearn.ensemble import RandomForestClassifier"
   ]
  },
  {
   "cell_type": "code",
   "execution_count": 95,
   "id": "20ef955f-08b8-45f2-9d86-41081f8d4e59",
   "metadata": {
    "tags": []
   },
   "outputs": [],
   "source": [
    "clf = RandomForestClassifier(random_state=42)"
   ]
  },
  {
   "cell_type": "code",
   "execution_count": 96,
   "id": "c2e2fe3f-b6ac-44f1-948e-c2256bf75462",
   "metadata": {
    "tags": []
   },
   "outputs": [
    {
     "data": {
      "text/html": [
       "<style>#sk-container-id-1 {\n",
       "  /* Definition of color scheme common for light and dark mode */\n",
       "  --sklearn-color-text: black;\n",
       "  --sklearn-color-line: gray;\n",
       "  /* Definition of color scheme for unfitted estimators */\n",
       "  --sklearn-color-unfitted-level-0: #fff5e6;\n",
       "  --sklearn-color-unfitted-level-1: #f6e4d2;\n",
       "  --sklearn-color-unfitted-level-2: #ffe0b3;\n",
       "  --sklearn-color-unfitted-level-3: chocolate;\n",
       "  /* Definition of color scheme for fitted estimators */\n",
       "  --sklearn-color-fitted-level-0: #f0f8ff;\n",
       "  --sklearn-color-fitted-level-1: #d4ebff;\n",
       "  --sklearn-color-fitted-level-2: #b3dbfd;\n",
       "  --sklearn-color-fitted-level-3: cornflowerblue;\n",
       "\n",
       "  /* Specific color for light theme */\n",
       "  --sklearn-color-text-on-default-background: var(--sg-text-color, var(--theme-code-foreground, var(--jp-content-font-color1, black)));\n",
       "  --sklearn-color-background: var(--sg-background-color, var(--theme-background, var(--jp-layout-color0, white)));\n",
       "  --sklearn-color-border-box: var(--sg-text-color, var(--theme-code-foreground, var(--jp-content-font-color1, black)));\n",
       "  --sklearn-color-icon: #696969;\n",
       "\n",
       "  @media (prefers-color-scheme: dark) {\n",
       "    /* Redefinition of color scheme for dark theme */\n",
       "    --sklearn-color-text-on-default-background: var(--sg-text-color, var(--theme-code-foreground, var(--jp-content-font-color1, white)));\n",
       "    --sklearn-color-background: var(--sg-background-color, var(--theme-background, var(--jp-layout-color0, #111)));\n",
       "    --sklearn-color-border-box: var(--sg-text-color, var(--theme-code-foreground, var(--jp-content-font-color1, white)));\n",
       "    --sklearn-color-icon: #878787;\n",
       "  }\n",
       "}\n",
       "\n",
       "#sk-container-id-1 {\n",
       "  color: var(--sklearn-color-text);\n",
       "}\n",
       "\n",
       "#sk-container-id-1 pre {\n",
       "  padding: 0;\n",
       "}\n",
       "\n",
       "#sk-container-id-1 input.sk-hidden--visually {\n",
       "  border: 0;\n",
       "  clip: rect(1px 1px 1px 1px);\n",
       "  clip: rect(1px, 1px, 1px, 1px);\n",
       "  height: 1px;\n",
       "  margin: -1px;\n",
       "  overflow: hidden;\n",
       "  padding: 0;\n",
       "  position: absolute;\n",
       "  width: 1px;\n",
       "}\n",
       "\n",
       "#sk-container-id-1 div.sk-dashed-wrapped {\n",
       "  border: 1px dashed var(--sklearn-color-line);\n",
       "  margin: 0 0.4em 0.5em 0.4em;\n",
       "  box-sizing: border-box;\n",
       "  padding-bottom: 0.4em;\n",
       "  background-color: var(--sklearn-color-background);\n",
       "}\n",
       "\n",
       "#sk-container-id-1 div.sk-container {\n",
       "  /* jupyter's `normalize.less` sets `[hidden] { display: none; }`\n",
       "     but bootstrap.min.css set `[hidden] { display: none !important; }`\n",
       "     so we also need the `!important` here to be able to override the\n",
       "     default hidden behavior on the sphinx rendered scikit-learn.org.\n",
       "     See: https://github.com/scikit-learn/scikit-learn/issues/21755 */\n",
       "  display: inline-block !important;\n",
       "  position: relative;\n",
       "}\n",
       "\n",
       "#sk-container-id-1 div.sk-text-repr-fallback {\n",
       "  display: none;\n",
       "}\n",
       "\n",
       "div.sk-parallel-item,\n",
       "div.sk-serial,\n",
       "div.sk-item {\n",
       "  /* draw centered vertical line to link estimators */\n",
       "  background-image: linear-gradient(var(--sklearn-color-text-on-default-background), var(--sklearn-color-text-on-default-background));\n",
       "  background-size: 2px 100%;\n",
       "  background-repeat: no-repeat;\n",
       "  background-position: center center;\n",
       "}\n",
       "\n",
       "/* Parallel-specific style estimator block */\n",
       "\n",
       "#sk-container-id-1 div.sk-parallel-item::after {\n",
       "  content: \"\";\n",
       "  width: 100%;\n",
       "  border-bottom: 2px solid var(--sklearn-color-text-on-default-background);\n",
       "  flex-grow: 1;\n",
       "}\n",
       "\n",
       "#sk-container-id-1 div.sk-parallel {\n",
       "  display: flex;\n",
       "  align-items: stretch;\n",
       "  justify-content: center;\n",
       "  background-color: var(--sklearn-color-background);\n",
       "  position: relative;\n",
       "}\n",
       "\n",
       "#sk-container-id-1 div.sk-parallel-item {\n",
       "  display: flex;\n",
       "  flex-direction: column;\n",
       "}\n",
       "\n",
       "#sk-container-id-1 div.sk-parallel-item:first-child::after {\n",
       "  align-self: flex-end;\n",
       "  width: 50%;\n",
       "}\n",
       "\n",
       "#sk-container-id-1 div.sk-parallel-item:last-child::after {\n",
       "  align-self: flex-start;\n",
       "  width: 50%;\n",
       "}\n",
       "\n",
       "#sk-container-id-1 div.sk-parallel-item:only-child::after {\n",
       "  width: 0;\n",
       "}\n",
       "\n",
       "/* Serial-specific style estimator block */\n",
       "\n",
       "#sk-container-id-1 div.sk-serial {\n",
       "  display: flex;\n",
       "  flex-direction: column;\n",
       "  align-items: center;\n",
       "  background-color: var(--sklearn-color-background);\n",
       "  padding-right: 1em;\n",
       "  padding-left: 1em;\n",
       "}\n",
       "\n",
       "\n",
       "/* Toggleable style: style used for estimator/Pipeline/ColumnTransformer box that is\n",
       "clickable and can be expanded/collapsed.\n",
       "- Pipeline and ColumnTransformer use this feature and define the default style\n",
       "- Estimators will overwrite some part of the style using the `sk-estimator` class\n",
       "*/\n",
       "\n",
       "/* Pipeline and ColumnTransformer style (default) */\n",
       "\n",
       "#sk-container-id-1 div.sk-toggleable {\n",
       "  /* Default theme specific background. It is overwritten whether we have a\n",
       "  specific estimator or a Pipeline/ColumnTransformer */\n",
       "  background-color: var(--sklearn-color-background);\n",
       "}\n",
       "\n",
       "/* Toggleable label */\n",
       "#sk-container-id-1 label.sk-toggleable__label {\n",
       "  cursor: pointer;\n",
       "  display: block;\n",
       "  width: 100%;\n",
       "  margin-bottom: 0;\n",
       "  padding: 0.5em;\n",
       "  box-sizing: border-box;\n",
       "  text-align: center;\n",
       "}\n",
       "\n",
       "#sk-container-id-1 label.sk-toggleable__label-arrow:before {\n",
       "  /* Arrow on the left of the label */\n",
       "  content: \"▸\";\n",
       "  float: left;\n",
       "  margin-right: 0.25em;\n",
       "  color: var(--sklearn-color-icon);\n",
       "}\n",
       "\n",
       "#sk-container-id-1 label.sk-toggleable__label-arrow:hover:before {\n",
       "  color: var(--sklearn-color-text);\n",
       "}\n",
       "\n",
       "/* Toggleable content - dropdown */\n",
       "\n",
       "#sk-container-id-1 div.sk-toggleable__content {\n",
       "  max-height: 0;\n",
       "  max-width: 0;\n",
       "  overflow: hidden;\n",
       "  text-align: left;\n",
       "  /* unfitted */\n",
       "  background-color: var(--sklearn-color-unfitted-level-0);\n",
       "}\n",
       "\n",
       "#sk-container-id-1 div.sk-toggleable__content.fitted {\n",
       "  /* fitted */\n",
       "  background-color: var(--sklearn-color-fitted-level-0);\n",
       "}\n",
       "\n",
       "#sk-container-id-1 div.sk-toggleable__content pre {\n",
       "  margin: 0.2em;\n",
       "  border-radius: 0.25em;\n",
       "  color: var(--sklearn-color-text);\n",
       "  /* unfitted */\n",
       "  background-color: var(--sklearn-color-unfitted-level-0);\n",
       "}\n",
       "\n",
       "#sk-container-id-1 div.sk-toggleable__content.fitted pre {\n",
       "  /* unfitted */\n",
       "  background-color: var(--sklearn-color-fitted-level-0);\n",
       "}\n",
       "\n",
       "#sk-container-id-1 input.sk-toggleable__control:checked~div.sk-toggleable__content {\n",
       "  /* Expand drop-down */\n",
       "  max-height: 200px;\n",
       "  max-width: 100%;\n",
       "  overflow: auto;\n",
       "}\n",
       "\n",
       "#sk-container-id-1 input.sk-toggleable__control:checked~label.sk-toggleable__label-arrow:before {\n",
       "  content: \"▾\";\n",
       "}\n",
       "\n",
       "/* Pipeline/ColumnTransformer-specific style */\n",
       "\n",
       "#sk-container-id-1 div.sk-label input.sk-toggleable__control:checked~label.sk-toggleable__label {\n",
       "  color: var(--sklearn-color-text);\n",
       "  background-color: var(--sklearn-color-unfitted-level-2);\n",
       "}\n",
       "\n",
       "#sk-container-id-1 div.sk-label.fitted input.sk-toggleable__control:checked~label.sk-toggleable__label {\n",
       "  background-color: var(--sklearn-color-fitted-level-2);\n",
       "}\n",
       "\n",
       "/* Estimator-specific style */\n",
       "\n",
       "/* Colorize estimator box */\n",
       "#sk-container-id-1 div.sk-estimator input.sk-toggleable__control:checked~label.sk-toggleable__label {\n",
       "  /* unfitted */\n",
       "  background-color: var(--sklearn-color-unfitted-level-2);\n",
       "}\n",
       "\n",
       "#sk-container-id-1 div.sk-estimator.fitted input.sk-toggleable__control:checked~label.sk-toggleable__label {\n",
       "  /* fitted */\n",
       "  background-color: var(--sklearn-color-fitted-level-2);\n",
       "}\n",
       "\n",
       "#sk-container-id-1 div.sk-label label.sk-toggleable__label,\n",
       "#sk-container-id-1 div.sk-label label {\n",
       "  /* The background is the default theme color */\n",
       "  color: var(--sklearn-color-text-on-default-background);\n",
       "}\n",
       "\n",
       "/* On hover, darken the color of the background */\n",
       "#sk-container-id-1 div.sk-label:hover label.sk-toggleable__label {\n",
       "  color: var(--sklearn-color-text);\n",
       "  background-color: var(--sklearn-color-unfitted-level-2);\n",
       "}\n",
       "\n",
       "/* Label box, darken color on hover, fitted */\n",
       "#sk-container-id-1 div.sk-label.fitted:hover label.sk-toggleable__label.fitted {\n",
       "  color: var(--sklearn-color-text);\n",
       "  background-color: var(--sklearn-color-fitted-level-2);\n",
       "}\n",
       "\n",
       "/* Estimator label */\n",
       "\n",
       "#sk-container-id-1 div.sk-label label {\n",
       "  font-family: monospace;\n",
       "  font-weight: bold;\n",
       "  display: inline-block;\n",
       "  line-height: 1.2em;\n",
       "}\n",
       "\n",
       "#sk-container-id-1 div.sk-label-container {\n",
       "  text-align: center;\n",
       "}\n",
       "\n",
       "/* Estimator-specific */\n",
       "#sk-container-id-1 div.sk-estimator {\n",
       "  font-family: monospace;\n",
       "  border: 1px dotted var(--sklearn-color-border-box);\n",
       "  border-radius: 0.25em;\n",
       "  box-sizing: border-box;\n",
       "  margin-bottom: 0.5em;\n",
       "  /* unfitted */\n",
       "  background-color: var(--sklearn-color-unfitted-level-0);\n",
       "}\n",
       "\n",
       "#sk-container-id-1 div.sk-estimator.fitted {\n",
       "  /* fitted */\n",
       "  background-color: var(--sklearn-color-fitted-level-0);\n",
       "}\n",
       "\n",
       "/* on hover */\n",
       "#sk-container-id-1 div.sk-estimator:hover {\n",
       "  /* unfitted */\n",
       "  background-color: var(--sklearn-color-unfitted-level-2);\n",
       "}\n",
       "\n",
       "#sk-container-id-1 div.sk-estimator.fitted:hover {\n",
       "  /* fitted */\n",
       "  background-color: var(--sklearn-color-fitted-level-2);\n",
       "}\n",
       "\n",
       "/* Specification for estimator info (e.g. \"i\" and \"?\") */\n",
       "\n",
       "/* Common style for \"i\" and \"?\" */\n",
       "\n",
       ".sk-estimator-doc-link,\n",
       "a:link.sk-estimator-doc-link,\n",
       "a:visited.sk-estimator-doc-link {\n",
       "  float: right;\n",
       "  font-size: smaller;\n",
       "  line-height: 1em;\n",
       "  font-family: monospace;\n",
       "  background-color: var(--sklearn-color-background);\n",
       "  border-radius: 1em;\n",
       "  height: 1em;\n",
       "  width: 1em;\n",
       "  text-decoration: none !important;\n",
       "  margin-left: 1ex;\n",
       "  /* unfitted */\n",
       "  border: var(--sklearn-color-unfitted-level-1) 1pt solid;\n",
       "  color: var(--sklearn-color-unfitted-level-1);\n",
       "}\n",
       "\n",
       ".sk-estimator-doc-link.fitted,\n",
       "a:link.sk-estimator-doc-link.fitted,\n",
       "a:visited.sk-estimator-doc-link.fitted {\n",
       "  /* fitted */\n",
       "  border: var(--sklearn-color-fitted-level-1) 1pt solid;\n",
       "  color: var(--sklearn-color-fitted-level-1);\n",
       "}\n",
       "\n",
       "/* On hover */\n",
       "div.sk-estimator:hover .sk-estimator-doc-link:hover,\n",
       ".sk-estimator-doc-link:hover,\n",
       "div.sk-label-container:hover .sk-estimator-doc-link:hover,\n",
       ".sk-estimator-doc-link:hover {\n",
       "  /* unfitted */\n",
       "  background-color: var(--sklearn-color-unfitted-level-3);\n",
       "  color: var(--sklearn-color-background);\n",
       "  text-decoration: none;\n",
       "}\n",
       "\n",
       "div.sk-estimator.fitted:hover .sk-estimator-doc-link.fitted:hover,\n",
       ".sk-estimator-doc-link.fitted:hover,\n",
       "div.sk-label-container:hover .sk-estimator-doc-link.fitted:hover,\n",
       ".sk-estimator-doc-link.fitted:hover {\n",
       "  /* fitted */\n",
       "  background-color: var(--sklearn-color-fitted-level-3);\n",
       "  color: var(--sklearn-color-background);\n",
       "  text-decoration: none;\n",
       "}\n",
       "\n",
       "/* Span, style for the box shown on hovering the info icon */\n",
       ".sk-estimator-doc-link span {\n",
       "  display: none;\n",
       "  z-index: 9999;\n",
       "  position: relative;\n",
       "  font-weight: normal;\n",
       "  right: .2ex;\n",
       "  padding: .5ex;\n",
       "  margin: .5ex;\n",
       "  width: min-content;\n",
       "  min-width: 20ex;\n",
       "  max-width: 50ex;\n",
       "  color: var(--sklearn-color-text);\n",
       "  box-shadow: 2pt 2pt 4pt #999;\n",
       "  /* unfitted */\n",
       "  background: var(--sklearn-color-unfitted-level-0);\n",
       "  border: .5pt solid var(--sklearn-color-unfitted-level-3);\n",
       "}\n",
       "\n",
       ".sk-estimator-doc-link.fitted span {\n",
       "  /* fitted */\n",
       "  background: var(--sklearn-color-fitted-level-0);\n",
       "  border: var(--sklearn-color-fitted-level-3);\n",
       "}\n",
       "\n",
       ".sk-estimator-doc-link:hover span {\n",
       "  display: block;\n",
       "}\n",
       "\n",
       "/* \"?\"-specific style due to the `<a>` HTML tag */\n",
       "\n",
       "#sk-container-id-1 a.estimator_doc_link {\n",
       "  float: right;\n",
       "  font-size: 1rem;\n",
       "  line-height: 1em;\n",
       "  font-family: monospace;\n",
       "  background-color: var(--sklearn-color-background);\n",
       "  border-radius: 1rem;\n",
       "  height: 1rem;\n",
       "  width: 1rem;\n",
       "  text-decoration: none;\n",
       "  /* unfitted */\n",
       "  color: var(--sklearn-color-unfitted-level-1);\n",
       "  border: var(--sklearn-color-unfitted-level-1) 1pt solid;\n",
       "}\n",
       "\n",
       "#sk-container-id-1 a.estimator_doc_link.fitted {\n",
       "  /* fitted */\n",
       "  border: var(--sklearn-color-fitted-level-1) 1pt solid;\n",
       "  color: var(--sklearn-color-fitted-level-1);\n",
       "}\n",
       "\n",
       "/* On hover */\n",
       "#sk-container-id-1 a.estimator_doc_link:hover {\n",
       "  /* unfitted */\n",
       "  background-color: var(--sklearn-color-unfitted-level-3);\n",
       "  color: var(--sklearn-color-background);\n",
       "  text-decoration: none;\n",
       "}\n",
       "\n",
       "#sk-container-id-1 a.estimator_doc_link.fitted:hover {\n",
       "  /* fitted */\n",
       "  background-color: var(--sklearn-color-fitted-level-3);\n",
       "}\n",
       "</style><div id=\"sk-container-id-1\" class=\"sk-top-container\"><div class=\"sk-text-repr-fallback\"><pre>RandomForestClassifier(random_state=42)</pre><b>In a Jupyter environment, please rerun this cell to show the HTML representation or trust the notebook. <br />On GitHub, the HTML representation is unable to render, please try loading this page with nbviewer.org.</b></div><div class=\"sk-container\" hidden><div class=\"sk-item\"><div class=\"sk-estimator fitted sk-toggleable\"><input class=\"sk-toggleable__control sk-hidden--visually\" id=\"sk-estimator-id-1\" type=\"checkbox\" checked><label for=\"sk-estimator-id-1\" class=\"sk-toggleable__label fitted sk-toggleable__label-arrow fitted\">&nbsp;&nbsp;RandomForestClassifier<a class=\"sk-estimator-doc-link fitted\" rel=\"noreferrer\" target=\"_blank\" href=\"https://scikit-learn.org/1.5/modules/generated/sklearn.ensemble.RandomForestClassifier.html\">?<span>Documentation for RandomForestClassifier</span></a><span class=\"sk-estimator-doc-link fitted\">i<span>Fitted</span></span></label><div class=\"sk-toggleable__content fitted\"><pre>RandomForestClassifier(random_state=42)</pre></div> </div></div></div></div>"
      ],
      "text/plain": [
       "RandomForestClassifier(random_state=42)"
      ]
     },
     "execution_count": 96,
     "metadata": {},
     "output_type": "execute_result"
    }
   ],
   "source": [
    "clf.fit(X_train,y_train)"
   ]
  },
  {
   "cell_type": "code",
   "execution_count": 97,
   "id": "269be5d0-1eb0-4954-85af-19c0aa022bfb",
   "metadata": {
    "tags": []
   },
   "outputs": [],
   "source": [
    "y_pred = clf.predict(X_test)"
   ]
  },
  {
   "cell_type": "markdown",
   "id": "2c80baab-e1cc-4070-ad1a-02989c0aa035",
   "metadata": {
    "tags": []
   },
   "source": [
    "## Test the Model"
   ]
  },
  {
   "cell_type": "code",
   "execution_count": 98,
   "id": "46450a10-7a39-4d7c-b5f4-0e309e8fa0ee",
   "metadata": {
    "tags": []
   },
   "outputs": [],
   "source": [
    "from sklearn import metrics"
   ]
  },
  {
   "cell_type": "code",
   "execution_count": 99,
   "id": "bbd21e24-b07a-461a-8707-fafd0704de7b",
   "metadata": {
    "tags": []
   },
   "outputs": [
    {
     "name": "stdout",
     "output_type": "stream",
     "text": [
      "Accuracy:  0.86\n",
      "F1-Score:  0.62\n",
      "Precision: 0.76\n",
      "Recall:    0.52\n",
      "ROC_AUC:   0.74\n"
     ]
    }
   ],
   "source": [
    "print(f\"Accuracy:  {metrics.accuracy_score(y_test, y_pred):.2f}\")\n",
    "print(f\"F1-Score:  {metrics.f1_score(y_test, y_pred):.2f}\")\n",
    "print(f\"Precision: {metrics.precision_score(y_test, y_pred):.2f}\")\n",
    "print(f\"Recall:    {metrics.recall_score(y_test, y_pred):.2f}\" )\n",
    "print(f\"ROC_AUC:   {metrics.roc_auc_score(y_test, y_pred):.2f}\" )"
   ]
  },
  {
   "cell_type": "markdown",
   "id": "63dab594-d408-4c12-ba93-fef7d5d23a92",
   "metadata": {
    "tags": []
   },
   "source": [
    "Not a bad model, huh? Especially considering there we did not optimize any hyperparamters!"
   ]
  },
  {
   "cell_type": "markdown",
   "id": "39dd0863-6449-40ef-8a9b-47d81035c751",
   "metadata": {
    "tags": []
   },
   "source": [
    "<div class=\"alert alert-success\" role=\"alert\">\n",
    "    <b>That's it for today</b> </br>\n",
    "    As an exercise, see if you can get a better model by adding more data from the other measures or adjusting hyperparameters!\n",
    "</div>"
   ]
  },
  {
   "cell_type": "code",
   "execution_count": null,
   "id": "290e9a89-1da5-4177-98d6-ce3976504bb2",
   "metadata": {},
   "outputs": [],
   "source": []
  }
 ],
 "metadata": {
  "kernelspec": {
   "display_name": "class",
   "language": "python",
   "name": "class"
  },
  "language_info": {
   "codemirror_mode": {
    "name": "ipython",
    "version": 3
   },
   "file_extension": ".py",
   "mimetype": "text/x-python",
   "name": "python",
   "nbconvert_exporter": "python",
   "pygments_lexer": "ipython3",
   "version": "3.12.5"
  },
  "toc": {
   "base_numbering": 1,
   "nav_menu": {},
   "number_sections": true,
   "sideBar": true,
   "skip_h1_title": false,
   "title_cell": "Table of Contents",
   "title_sidebar": "Contents",
   "toc_cell": false,
   "toc_position": {
    "height": "calc(100% - 180px)",
    "left": "10px",
    "top": "150px",
    "width": "287px"
   },
   "toc_section_display": true,
   "toc_window_display": true
  },
  "varInspector": {
   "cols": {
    "lenName": 16,
    "lenType": 16,
    "lenVar": 40
   },
   "kernels_config": {
    "python": {
     "delete_cmd_postfix": "",
     "delete_cmd_prefix": "del ",
     "library": "var_list.py",
     "varRefreshCmd": "print(var_dic_list())"
    },
    "r": {
     "delete_cmd_postfix": ") ",
     "delete_cmd_prefix": "rm(",
     "library": "var_list.r",
     "varRefreshCmd": "cat(var_dic_list()) "
    }
   },
   "types_to_exclude": [
    "module",
    "function",
    "builtin_function_or_method",
    "instance",
    "_Feature"
   ],
   "window_display": false
  }
 },
 "nbformat": 4,
 "nbformat_minor": 5
}
